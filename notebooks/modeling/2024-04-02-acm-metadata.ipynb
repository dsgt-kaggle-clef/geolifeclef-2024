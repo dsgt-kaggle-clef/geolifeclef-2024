{
 "cells": [
  {
   "cell_type": "code",
   "execution_count": 7,
   "metadata": {},
   "outputs": [
    {
     "name": "stdout",
     "output_type": "stream",
     "text": [
      "The autoreload extension is already loaded. To reload it, use:\n",
      "  %reload_ext autoreload\n"
     ]
    }
   ],
   "source": [
    "%load_ext autoreload\n",
    "%autoreload 2\n",
    "from geolifeclef.utils import get_spark\n",
    "from pyspark.sql import functions as F\n",
    "from IPython.display import display\n",
    "\n",
    "spark = get_spark()"
   ]
  },
  {
   "cell_type": "code",
   "execution_count": 5,
   "metadata": {},
   "outputs": [
    {
     "name": "stdout",
     "output_type": "stream",
     "text": [
      "376527330    gs://dsgt-clef-geolifeclef-2024/data/downloaded/2024/PresenceOnlyOccurrences/GLC24-PO-metadata-train.csv\n",
      "97677806     gs://dsgt-clef-geolifeclef-2024/data/downloaded/2024/PresenceAbsenceSurveys/GLC24-PA-metadata-train.csv\n",
      "275277       gs://dsgt-clef-geolifeclef-2024/data/downloaded/2024/PresenceAbsenceSurveys/GLC24-PA-metadata-test.csv\n"
     ]
    }
   ],
   "source": [
    "po_path = \"gs://dsgt-clef-geolifeclef-2024/data/downloaded/2024/PresenceOnlyOccurrences/GLC24-PO-metadata-train.csv\"\n",
    "pa_train_path = \"gs://dsgt-clef-geolifeclef-2024/data/downloaded/2024/PresenceAbsenceSurveys/GLC24-PA-metadata-train.csv\"\n",
    "pa_test_path = \"gs://dsgt-clef-geolifeclef-2024/data/downloaded/2024/PresenceAbsenceSurveys/GLC24-PA-metadata-test.csv\"\n",
    "\n",
    "! gcloud storage du {po_path}\n",
    "! gcloud storage du {pa_train_path}\n",
    "! gcloud storage du {pa_test_path}"
   ]
  },
  {
   "cell_type": "code",
   "execution_count": 6,
   "metadata": {},
   "outputs": [
    {
     "name": "stderr",
     "output_type": "stream",
     "text": [
      "                                                                                \r"
     ]
    },
    {
     "name": "stdout",
     "output_type": "stream",
     "text": [
      "root\n",
      " |-- year: integer (nullable = true)\n",
      " |-- month: double (nullable = true)\n",
      " |-- day: double (nullable = true)\n",
      " |-- lat: double (nullable = true)\n",
      " |-- lon: double (nullable = true)\n",
      " |-- geoUncertaintyInM: double (nullable = true)\n",
      " |-- taxonRank: string (nullable = true)\n",
      " |-- date: date (nullable = true)\n",
      " |-- dayOfYear: integer (nullable = true)\n",
      " |-- speciesId: double (nullable = true)\n",
      " |-- surveyId: integer (nullable = true)\n",
      "\n",
      "root\n",
      " |-- lon: double (nullable = true)\n",
      " |-- lat: double (nullable = true)\n",
      " |-- year: integer (nullable = true)\n",
      " |-- geoUncertaintyInM: double (nullable = true)\n",
      " |-- areaInM2: string (nullable = true)\n",
      " |-- region: string (nullable = true)\n",
      " |-- country: string (nullable = true)\n",
      " |-- speciesId: double (nullable = true)\n",
      " |-- surveyId: integer (nullable = true)\n",
      "\n",
      "root\n",
      " |-- lon: double (nullable = true)\n",
      " |-- lat: double (nullable = true)\n",
      " |-- year: integer (nullable = true)\n",
      " |-- geoUncertaintyInM: double (nullable = true)\n",
      " |-- areaInM2: string (nullable = true)\n",
      " |-- region: string (nullable = true)\n",
      " |-- country: string (nullable = true)\n",
      " |-- surveyId: integer (nullable = true)\n",
      "\n"
     ]
    }
   ],
   "source": [
    "po = spark.read.csv(po_path, header=True, inferSchema=True)\n",
    "pa_train = spark.read.csv(pa_train_path, header=True, inferSchema=True)\n",
    "pa_test = spark.read.csv(pa_test_path, header=True, inferSchema=True)\n",
    "\n",
    "po.printSchema()\n",
    "pa_train.printSchema()\n",
    "pa_test.printSchema()"
   ]
  },
  {
   "cell_type": "code",
   "execution_count": 10,
   "metadata": {},
   "outputs": [
    {
     "name": "stderr",
     "output_type": "stream",
     "text": [
      "                                                                                \r"
     ]
    },
    {
     "name": "stdout",
     "output_type": "stream",
     "text": [
      "+-------+------------------+------------------+\n",
      "|summary|         speciesId|             count|\n",
      "+-------+------------------+------------------+\n",
      "|  count|              9709|              9709|\n",
      "|   mean| 5632.511896178803| 523.2049644659594|\n",
      "| stddev|3246.4039722940065|1232.3447606902587|\n",
      "|    min|               0.0|                 1|\n",
      "|    max|           11254.0|              9265|\n",
      "+-------+------------------+------------------+\n",
      "\n"
     ]
    },
    {
     "name": "stderr",
     "output_type": "stream",
     "text": [
      "[Stage 45:==============>                                           (1 + 3) / 4]\r"
     ]
    },
    {
     "name": "stdout",
     "output_type": "stream",
     "text": [
      "+-------+-----------------+------------------+\n",
      "|summary|        speciesId|             count|\n",
      "+-------+-----------------+------------------+\n",
      "|  count|             5016|              5016|\n",
      "|   mean|5589.410287081339|295.78090111642746|\n",
      "| stddev|3261.619462257373|1230.4359959873577|\n",
      "|    min|              2.0|                 1|\n",
      "|    max|          11254.0|             21489|\n",
      "+-------+-----------------+------------------+\n",
      "\n"
     ]
    },
    {
     "name": "stderr",
     "output_type": "stream",
     "text": [
      "                                                                                \r"
     ]
    }
   ],
   "source": [
    "po.groupBy(\"speciesId\").count().describe().show()\n",
    "pa_train.groupBy(\"speciesId\").count().describe().show()"
   ]
  },
  {
   "cell_type": "code",
   "execution_count": 12,
   "metadata": {},
   "outputs": [
    {
     "name": "stderr",
     "output_type": "stream",
     "text": [
      "                                                                                \r"
     ]
    },
    {
     "name": "stdout",
     "output_type": "stream",
     "text": [
      "+-------+------------------+------------------+\n",
      "|summary|          surveyId|             count|\n",
      "+-------+------------------+------------------+\n",
      "|  count|           3845533|           3845533|\n",
      "|   mean|1959744.2132570439|1.3209604494357479|\n",
      "| stddev|1131424.5684791987|1.8456836644964556|\n",
      "|    min|                 1|                 1|\n",
      "|    max|           3919662|               424|\n",
      "+-------+------------------+------------------+\n",
      "\n"
     ]
    },
    {
     "name": "stderr",
     "output_type": "stream",
     "text": [
      "                                                                                \r"
     ]
    },
    {
     "name": "stdout",
     "output_type": "stream",
     "text": [
      "+-------+------------------+------------------+\n",
      "|summary|          surveyId|             count|\n",
      "+-------+------------------+------------------+\n",
      "|  count|             88987|             88987|\n",
      "|   mean|1963014.2896602876|16.672513962713655|\n",
      "| stddev|1134917.6216001941|12.800096644885837|\n",
      "|    min|               212|                 1|\n",
      "|    max|           3919655|               837|\n",
      "+-------+------------------+------------------+\n",
      "\n",
      "+-------+------------------+-----+\n",
      "|summary|          surveyId|count|\n",
      "+-------+------------------+-----+\n",
      "|  count|              4716| 4716|\n",
      "|   mean|1947626.8112807465|  1.0|\n",
      "| stddev|1132995.2122041124|  0.0|\n",
      "|    min|               642|    1|\n",
      "|    max|           3919234|    1|\n",
      "+-------+------------------+-----+\n",
      "\n"
     ]
    }
   ],
   "source": [
    "po.groupBy(\"surveyId\").count().describe().show()\n",
    "pa_train.groupBy(\"surveyId\").count().describe().show()\n",
    "pa_test.groupBy(\"surveyId\").count().describe().show()"
   ]
  },
  {
   "cell_type": "code",
   "execution_count": 23,
   "metadata": {},
   "outputs": [
    {
     "name": "stderr",
     "output_type": "stream",
     "text": [
      "                                                                                \r"
     ]
    },
    {
     "data": {
      "text/plain": [
       "0"
      ]
     },
     "execution_count": 23,
     "metadata": {},
     "output_type": "execute_result"
    }
   ],
   "source": [
    "train_survey = po.select(\"surveyId\").union(pa_train.select(\"surveyId\")).distinct()\n",
    "train_survey.count()\n",
    "train_survey.join(pa_test.select(\"surveyId\"), \"surveyId\").count()"
   ]
  },
  {
   "cell_type": "code",
   "execution_count": 17,
   "metadata": {},
   "outputs": [
    {
     "data": {
      "text/plain": [
       "(-8038789.129055042, 17375122.09825012)"
      ]
     },
     "execution_count": 17,
     "metadata": {},
     "output_type": "execute_result"
    }
   ],
   "source": [
    "# it turns out there is no overlap between the surveyId in the train and test sets...\n",
    "# if so, how do we manage the mapping between the two? If I understand correctly,\n",
    "# we need to transform it to the new coordinate frame, and then project down to a\n",
    "# 10m resolution using the reference geojson file as the min and max bounds\n",
    "import pyproj\n",
    "\n",
    "geojson = {\n",
    "    \"type\": \"Polygon\",\n",
    "    \"coordinates\": [\n",
    "        [\n",
    "            [-32.26344, 26.63842],\n",
    "            [-32.26344, 72.18392],\n",
    "            [35.58677, 72.18392],\n",
    "            [35.58677, 26.63842],\n",
    "            [-32.26344, 26.63842],\n",
    "        ]\n",
    "    ],\n",
    "}\n",
    "\n",
    "transformer = pyproj.Transformer.from_crs(\"epsg:4326\", \"epsg:32738\", always_xy=True)\n",
    "\n",
    "transformer.transform(-32.26344, 26.63842)"
   ]
  },
  {
   "cell_type": "code",
   "execution_count": 26,
   "metadata": {},
   "outputs": [
    {
     "name": "stdout",
     "output_type": "stream",
     "text": [
      "+-------------------+--------------------+\n",
      "|                lat|                 lon|\n",
      "+-------------------+--------------------+\n",
      "| -2979126.136755766| 1.585455714308697E7|\n",
      "| -3193887.910451185|1.5745715441722106E7|\n",
      "|-2824402.5018607844| 1.645507842670022E7|\n",
      "|-2502843.7578417095|1.7056012382777754E7|\n",
      "|-2124385.4058199157|1.6208507587851327E7|\n",
      "| -2206077.994453682|1.6244647380441677E7|\n",
      "|-3380603.6566508533|1.5892591287252612E7|\n",
      "|  -2488542.33058973|1.6800044898976296E7|\n",
      "| -3416479.978686857|1.6076315118694443E7|\n",
      "| -2623890.300033362|1.5179856786659785E7|\n",
      "|-2556523.5317795426|1.6343512585769545E7|\n",
      "| -4092689.092628615|1.5500934344744682E7|\n",
      "| -4092689.092628615|1.5500934344744682E7|\n",
      "| -4092689.092628615|1.5500934344744682E7|\n",
      "| -4092689.092628615|1.5500934344744682E7|\n",
      "|-3014634.6328360667|1.6262366291070731E7|\n",
      "| -2108168.822707106|1.5175912337132711E7|\n",
      "|-2173674.5218280726|1.6477110667559408E7|\n",
      "|-2139231.2840318372|1.6530050428715443E7|\n",
      "|-2627579.5554473437|1.5824728693168718E7|\n",
      "+-------------------+--------------------+\n",
      "only showing top 20 rows\n",
      "\n"
     ]
    }
   ],
   "source": [
    "def get_projection_udf():\n",
    "    import pyproj\n",
    "\n",
    "    transformer = pyproj.Transformer.from_crs(\"epsg:4326\", \"epsg:32738\", always_xy=True)\n",
    "\n",
    "    @F.udf(\"struct<lat: double, lon: double>\")\n",
    "    def proj(lat, lon):\n",
    "        x, y = transformer.transform(lon, lat)\n",
    "        return (x, y)\n",
    "\n",
    "    return proj\n",
    "\n",
    "\n",
    "proj_udf = get_projection_udf()\n",
    "po.select(proj_udf(\"lat\", \"lon\").alias(\"proj\")).select(\"proj.*\").show()"
   ]
  }
 ],
 "metadata": {
  "kernelspec": {
   "display_name": "Python 3",
   "language": "python",
   "name": "python3"
  },
  "language_info": {
   "codemirror_mode": {
    "name": "ipython",
    "version": 3
   },
   "file_extension": ".py",
   "mimetype": "text/x-python",
   "name": "python",
   "nbconvert_exporter": "python",
   "pygments_lexer": "ipython3",
   "version": "3.10.12"
  }
 },
 "nbformat": 4,
 "nbformat_minor": 2
}
