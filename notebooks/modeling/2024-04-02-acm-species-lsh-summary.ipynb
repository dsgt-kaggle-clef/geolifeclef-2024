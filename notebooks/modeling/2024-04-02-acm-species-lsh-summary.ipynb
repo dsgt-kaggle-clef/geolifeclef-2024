{
 "cells": [
  {
   "cell_type": "code",
   "execution_count": 1,
   "metadata": {},
   "outputs": [
    {
     "name": "stderr",
     "output_type": "stream",
     "text": [
      "Setting default log level to \"WARN\".\n",
      "To adjust logging level use sc.setLogLevel(newLevel). For SparkR, use setLogLevel(newLevel).\n",
      "24/04/02 20:53:01 WARN NativeCodeLoader: Unable to load native-hadoop library for your platform... using builtin-java classes where applicable\n",
      "24/04/02 20:53:01 WARN SparkConf: Note that spark.local.dir will be overridden by the value set by the cluster manager (via SPARK_LOCAL_DIRS in mesos/standalone/kubernetes and LOCAL_DIRS in YARN).\n"
     ]
    }
   ],
   "source": [
    "%load_ext autoreload\n",
    "%autoreload 2\n",
    "from geolifeclef.utils import get_spark\n",
    "from pyspark.sql import functions as F\n",
    "\n",
    "spark = get_spark()"
   ]
  },
  {
   "cell_type": "code",
   "execution_count": 2,
   "metadata": {},
   "outputs": [
    {
     "name": "stderr",
     "output_type": "stream",
     "text": [
      "                                                                                \r"
     ]
    },
    {
     "name": "stdout",
     "output_type": "stream",
     "text": [
      "root\n",
      " |-- summary: string (nullable = true)\n",
      " |-- src: string (nullable = true)\n",
      " |-- dst: string (nullable = true)\n",
      " |-- count: string (nullable = true)\n",
      " |-- threshold: integer (nullable = true)\n",
      "\n"
     ]
    }
   ],
   "source": [
    "data_root = \"gs://dsgt-clef-geolifeclef-2024/data\"\n",
    "\n",
    "stats = spark.read.parquet(f\"{data_root}/processed/geolsh_graph/v1/stats\")\n",
    "stats.printSchema()"
   ]
  },
  {
   "cell_type": "code",
   "execution_count": 7,
   "metadata": {},
   "outputs": [
    {
     "name": "stdout",
     "output_type": "stream",
     "text": [
      "+-------+------------------+------------------+------------------+---------+\n",
      "|summary|               src|               dst|             count|threshold|\n",
      "+-------+------------------+------------------+------------------+---------+\n",
      "|  count|           5167082|           5167082|           5167082|     1000|\n",
      "|   mean|  5597.42167455442|  5597.42167455442|44.764387520848324|     1000|\n",
      "| stddev| 3259.514593942091| 3259.514593942115|  972.323680073277|     1000|\n",
      "|    min|               0.0|               0.0|                 1|     1000|\n",
      "|    max|           11254.0|           11254.0|           1247736|     1000|\n",
      "|  count|           4732856|           4732856|           4732856|      500|\n",
      "|   mean| 5598.413626360067| 5598.413626360067| 42.03220190937565|      500|\n",
      "| stddev|3261.2980000576767| 3261.298000057616| 899.7202699174672|      500|\n",
      "|    min|               0.0|               0.0|                 1|      500|\n",
      "|    max|           11254.0|           11254.0|            969034|      500|\n",
      "|  count|           3464594|           3464594|           3464594|       50|\n",
      "|   mean| 5600.516940224454| 5600.516940224454|31.260099451768376|       50|\n",
      "| stddev| 3266.972902274386|3266.9729022743163| 568.0881959899183|       50|\n",
      "|    min|               0.0|               0.0|                 1|       50|\n",
      "|    max|           11254.0|           11254.0|            633774|       50|\n",
      "|  count|           2664676|           2664676|           2664676|       10|\n",
      "|   mean| 5613.697802659685| 5613.697802659685| 27.08141590197082|       10|\n",
      "| stddev|3272.0785260588223| 3272.078526058782|235.18457688504876|       10|\n",
      "|    min|               0.0|               0.0|                 1|       10|\n",
      "|    max|           11254.0|           11254.0|             91117|       10|\n",
      "+-------+------------------+------------------+------------------+---------+\n",
      "only showing top 20 rows\n",
      "\n"
     ]
    }
   ],
   "source": [
    "stats.show()"
   ]
  },
  {
   "cell_type": "code",
   "execution_count": 6,
   "metadata": {},
   "outputs": [
    {
     "name": "stdout",
     "output_type": "stream",
     "text": [
      "+-------+-----------------+-----------------+------------------+---------+\n",
      "|summary|              src|              dst|             count|threshold|\n",
      "+-------+-----------------+-----------------+------------------+---------+\n",
      "|   mean|5613.697802659685|5613.697802659685| 27.08141590197082|       10|\n",
      "|   mean|5600.516940224454|5600.516940224454|31.260099451768376|       50|\n",
      "|   mean| 5598.44524144804| 5598.44524144804|34.815734863663806|      100|\n",
      "|   mean|5598.413626360067|5598.413626360067| 42.03220190937565|      500|\n",
      "|   mean| 5597.42167455442| 5597.42167455442|44.764387520848324|     1000|\n",
      "|   mean| 5599.02915942107| 5599.02915942107|50.962236879300704|     5000|\n",
      "+-------+-----------------+-----------------+------------------+---------+\n",
      "\n"
     ]
    },
    {
     "name": "stderr",
     "output_type": "stream",
     "text": [
      "                                                                                \r"
     ]
    }
   ],
   "source": [
    "stats.orderBy(F.col(\"threshold\")).where(F.col(\"summary\") == \"mean\").show()"
   ]
  },
  {
   "cell_type": "code",
   "execution_count": 10,
   "metadata": {},
   "outputs": [
    {
     "name": "stdout",
     "output_type": "stream",
     "text": [
      "root\n",
      " |-- src: double (nullable = true)\n",
      " |-- dst: double (nullable = true)\n",
      " |-- count: long (nullable = true)\n",
      " |-- threshold: integer (nullable = true)\n",
      "\n"
     ]
    },
    {
     "name": "stderr",
     "output_type": "stream",
     "text": [
      "                                                                                \r"
     ]
    },
    {
     "data": {
      "text/plain": [
       "26395576"
      ]
     },
     "execution_count": 10,
     "metadata": {},
     "output_type": "execute_result"
    }
   ],
   "source": [
    "edges = spark.read.parquet(f\"{data_root}/processed/geolsh_graph/v1/edges\")\n",
    "edges.printSchema()\n",
    "edges.count()"
   ]
  },
  {
   "cell_type": "code",
   "execution_count": 11,
   "metadata": {},
   "outputs": [
    {
     "name": "stderr",
     "output_type": "stream",
     "text": [
      "[Stage 16:===========================================>              (3 + 1) / 4]\r"
     ]
    },
    {
     "name": "stdout",
     "output_type": "stream",
     "text": [
      "+---------+-------+\n",
      "|threshold|  count|\n",
      "+---------+-------+\n",
      "|       10|2664676|\n",
      "|       50|3464594|\n",
      "|      100|3829064|\n",
      "|      500|4732856|\n",
      "|     1000|5167082|\n",
      "|     5000|6537304|\n",
      "+---------+-------+\n",
      "\n"
     ]
    },
    {
     "name": "stderr",
     "output_type": "stream",
     "text": [
      "                                                                                \r"
     ]
    }
   ],
   "source": [
    "edges.groupBy(\"threshold\").count().orderBy(\"threshold\").show()"
   ]
  },
  {
   "cell_type": "code",
   "execution_count": 13,
   "metadata": {},
   "outputs": [
    {
     "name": "stderr",
     "output_type": "stream",
     "text": [
      "[Stage 25:===========================================>              (3 + 1) / 4]\r"
     ]
    },
    {
     "name": "stdout",
     "output_type": "stream",
     "text": [
      "+-------+------------------+------------------+\n",
      "|summary|                 n|             count|\n",
      "+-------+------------------+------------------+\n",
      "|  count|              2457|              2457|\n",
      "|   mean|1519.8042328042327|4.2157102157102155|\n",
      "| stddev|1036.8822451188282|10.896531318839038|\n",
      "|    min|                 1|                 1|\n",
      "|    max|              4869|               208|\n",
      "+-------+------------------+------------------+\n",
      "\n"
     ]
    },
    {
     "name": "stderr",
     "output_type": "stream",
     "text": [
      "                                                                                \r"
     ]
    }
   ],
   "source": [
    "(\n",
    "    edges.where(\"threshold=5000\")\n",
    "    .groupBy(\"src\")\n",
    "    .agg(F.count(\"*\").alias(\"n\"))\n",
    "    .groupBy(\"n\")\n",
    "    .count()\n",
    "    .describe()\n",
    "    .show()\n",
    ")"
   ]
  },
  {
   "cell_type": "markdown",
   "metadata": {},
   "source": [
    "5km is actually a pretty reasonable distance to use for the nearest neighbor graph."
   ]
  }
 ],
 "metadata": {
  "kernelspec": {
   "display_name": "Python 3",
   "language": "python",
   "name": "python3"
  },
  "language_info": {
   "codemirror_mode": {
    "name": "ipython",
    "version": 3
   },
   "file_extension": ".py",
   "mimetype": "text/x-python",
   "name": "python",
   "nbconvert_exporter": "python",
   "pygments_lexer": "ipython3",
   "version": "3.10.12"
  }
 },
 "nbformat": 4,
 "nbformat_minor": 2
}
