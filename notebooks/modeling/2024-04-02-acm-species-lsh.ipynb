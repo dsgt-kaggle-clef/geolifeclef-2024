{
 "cells": [
  {
   "cell_type": "code",
   "execution_count": 1,
   "metadata": {},
   "outputs": [
    {
     "name": "stderr",
     "output_type": "stream",
     "text": [
      "Setting default log level to \"WARN\".\n",
      "To adjust logging level use sc.setLogLevel(newLevel). For SparkR, use setLogLevel(newLevel).\n",
      "24/04/02 08:40:59 WARN NativeCodeLoader: Unable to load native-hadoop library for your platform... using builtin-java classes where applicable\n",
      "24/04/02 08:40:59 WARN SparkConf: Note that spark.local.dir will be overridden by the value set by the cluster manager (via SPARK_LOCAL_DIRS in mesos/standalone/kubernetes and LOCAL_DIRS in YARN).\n",
      "24/04/02 08:41:00 WARN Utils: Service 'SparkUI' could not bind on port 4040. Attempting port 4041.\n"
     ]
    }
   ],
   "source": [
    "%load_ext autoreload\n",
    "%autoreload 2\n",
    "from geolifeclef.utils import get_spark\n",
    "from pyspark.sql import functions as F\n",
    "\n",
    "spark = get_spark()"
   ]
  },
  {
   "cell_type": "code",
   "execution_count": 2,
   "metadata": {},
   "outputs": [
    {
     "name": "stderr",
     "output_type": "stream",
     "text": [
      "                                                                                \r"
     ]
    },
    {
     "name": "stdout",
     "output_type": "stream",
     "text": [
      "root\n",
      " |-- dataset: string (nullable = true)\n",
      " |-- surveyId: integer (nullable = true)\n",
      " |-- lat_proj: double (nullable = true)\n",
      " |-- lon_proj: double (nullable = true)\n",
      " |-- lat: double (nullable = true)\n",
      " |-- lon: double (nullable = true)\n",
      " |-- year: integer (nullable = true)\n",
      " |-- geoUncertaintyInM: double (nullable = true)\n",
      " |-- speciesId: double (nullable = true)\n",
      "\n"
     ]
    },
    {
     "name": "stderr",
     "output_type": "stream",
     "text": [
      "                                                                                \r"
     ]
    },
    {
     "name": "stdout",
     "output_type": "stream",
     "text": [
      "+--------+--------+-------------------+--------------------+---------+---------+----+-----------------+---------+\n",
      "| dataset|surveyId|           lat_proj|            lon_proj|      lat|      lon|year|geoUncertaintyInM|speciesId|\n",
      "+--------+--------+-------------------+--------------------+---------+---------+----+-----------------+---------+\n",
      "|      po|  599428|-3546710.1309880773|1.5869697752944473E7| 41.35689|-3.323538|2020|              2.0|   3932.0|\n",
      "|pa_train| 3707965|-1614858.9153893404| 1.690952987363603E7| 57.04466|  9.05137|2017|             10.0|   7739.0|\n",
      "|pa_train|  331966|-1882413.1908692368|1.5621125512619067E7| 46.32355|   13.909|2020|              0.0|   2322.0|\n",
      "|pa_train| 2118745| -1581919.826367132|1.6785045224298324E7| 56.27395| 10.46924|2019|             10.0|   2885.0|\n",
      "|      po|  388457| -2949950.789550384|1.6390396871864012E7| 47.28818|-1.629925|2019|             45.6|   4617.0|\n",
      "|pa_train|  226994|-1604956.8148379833| 1.690090014821878E7| 57.02554|  9.25348|2018|             10.0|    581.0|\n",
      "|pa_train|  473228| -1552158.289162738|1.6687220463388722E7| 55.66891| 11.59059|2017|             10.0|   9816.0|\n",
      "|      po|   79998|-2797705.7013758384|1.5768504609947894E7| 43.93634| 3.739923|2020|              4.0|   7141.0|\n",
      "|      po|  372596|-1361110.5140158564| 1.703038486015025E7| 59.03763| 11.59723|2021|              3.0|   6119.0|\n",
      "|pa_train| 3496757|-1642643.0405459898|1.6883943525084995E7|  56.7358|  8.88955|2019|             10.0|  10892.0|\n",
      "|pa_train| 2121546|-2533850.6953945193|1.5190077080153365E7| 40.85993| 9.206911|2018|             10.0|   8106.0|\n",
      "|pa_train| 2458684|-2651174.0107524125|1.6443841275734857E7| 49.05266|  0.80791|2019|              1.0|   5189.0|\n",
      "|pa_train|  712678| -2866125.582858796|1.5750488781088576E7|43.532468| 3.206787|2021|              5.0|  10904.0|\n",
      "|pa_train| 3493784|-1636995.1215402242|  1.63134377355146E7| 52.50813| 13.00049|2017|              5.0|  10024.0|\n",
      "|pa_train| 1155141|-3068821.9357029046|1.5839097936711604E7| 43.26069|  0.86361|2019|              1.0|   2386.0|\n",
      "|pa_train|  583239|-2829147.4474522094|1.5780538139094938E7|43.887504| 3.377694|2021|              5.0|   5173.0|\n",
      "|pa_train|  188165|-3098668.4495498687|1.5852683661580179E7| 43.21949|  0.52059|2018|              1.0|  10315.0|\n",
      "|      po|  432507| -2822777.892430776|1.6392795092265923E7| 47.91182|-0.473359|2021|             64.0|   1370.0|\n",
      "|pa_train| 3730886|-1631154.0506357062|1.6832054775492363E7| 56.40831|  9.45375|2017|             10.0|   6310.0|\n",
      "|pa_train| 3628828|-2096129.6651842375|1.6500895148476707E7|51.990343| 6.259263|2018|              3.0|   6275.0|\n",
      "+--------+--------+-------------------+--------------------+---------+---------+----+-----------------+---------+\n",
      "only showing top 20 rows\n",
      "\n"
     ]
    }
   ],
   "source": [
    "metadata = spark.read.parquet(\n",
    "    \"gs://dsgt-clef-geolifeclef-2024/data/processed/metadata_clean/v1\"\n",
    ")\n",
    "metadata.printSchema()\n",
    "metadata.show()"
   ]
  },
  {
   "cell_type": "code",
   "execution_count": 3,
   "metadata": {},
   "outputs": [
    {
     "name": "stderr",
     "output_type": "stream",
     "text": [
      "[Stage 2:>                                                          (0 + 4) / 4]\r"
     ]
    },
    {
     "name": "stdout",
     "output_type": "stream",
     "text": [
      "+-------+------------------+\n",
      "|summary| geoUncertaintyInM|\n",
      "+-------+------------------+\n",
      "|  count|           6555615|\n",
      "|   mean|16.874068541243098|\n",
      "| stddev| 19.06872761715543|\n",
      "|    min|               0.0|\n",
      "|    max|             100.0|\n",
      "+-------+------------------+\n",
      "\n"
     ]
    },
    {
     "name": "stderr",
     "output_type": "stream",
     "text": [
      "                                                                                \r"
     ]
    }
   ],
   "source": [
    "metadata.select(\"geoUncertaintyInM\").describe().show()"
   ]
  },
  {
   "cell_type": "code",
   "execution_count": 4,
   "metadata": {},
   "outputs": [],
   "source": [
    "# let's find nearest neighbors via lsh\n",
    "from pyspark.ml import Pipeline\n",
    "from pyspark.ml.feature import VectorAssembler, BucketedRandomProjectionLSH\n",
    "\n",
    "pipeline = Pipeline(\n",
    "    stages=[\n",
    "        VectorAssembler(inputCols=[\"lat_proj\", \"lon_proj\"], outputCol=\"features\"),\n",
    "        BucketedRandomProjectionLSH(\n",
    "            inputCol=\"features\", outputCol=\"hashes\", bucketLength=20, numHashTables=5\n",
    "        ),\n",
    "    ]\n",
    ")\n",
    "\n",
    "train = metadata.where(F.col(\"speciesId\").isNotNull())\n",
    "model = pipeline.fit(train)\n",
    "transformed = (\n",
    "    model.transform(metadata)\n",
    "    .select(\"speciesId\", \"features\", \"hashes\")\n",
    "    .limit(1000)\n",
    "    .cache()\n",
    ")"
   ]
  },
  {
   "cell_type": "code",
   "execution_count": 6,
   "metadata": {},
   "outputs": [
    {
     "name": "stdout",
     "output_type": "stream",
     "text": [
      "root\n",
      " |-- datasetA: struct (nullable = false)\n",
      " |    |-- speciesId: double (nullable = true)\n",
      " |    |-- features: vector (nullable = true)\n",
      " |    |-- hashes: array (nullable = true)\n",
      " |    |    |-- element: vector (containsNull = true)\n",
      " |-- datasetB: struct (nullable = false)\n",
      " |    |-- speciesId: double (nullable = true)\n",
      " |    |-- hashes: array (nullable = true)\n",
      " |    |    |-- element: vector (containsNull = true)\n",
      " |    |-- features: vector (nullable = true)\n",
      " |-- distCol: double (nullable = false)\n",
      "\n",
      "+--------------------+--------------------+-------+\n",
      "|            datasetA|            datasetB|distCol|\n",
      "+--------------------+--------------------+-------+\n",
      "|{3932.0, [-354671...|{3932.0, [[363540...|    0.0|\n",
      "|{7739.0, [-161485...|{7739.0, [[282345...|    0.0|\n",
      "|{2322.0, [-188241...|{2322.0, [[279785...|    0.0|\n",
      "|{2885.0, [-158191...|{2885.0, [[279245...|    0.0|\n",
      "|{4617.0, [-294995...|{4617.0, [[340865...|    0.0|\n",
      "|{581.0, [-1604956...|{581.0, [[281760....|    0.0|\n",
      "|{9816.0, [-155215...|{9816.0, [[276620...|    0.0|\n",
      "|{7141.0, [-279770...|{7141.0, [[325975...|    0.0|\n",
      "|{6119.0, [-136111...|{6119.0, [[271490...|    0.0|\n",
      "|{10892.0, [-16426...|{10892.0, [[28338...|    0.0|\n",
      "|{8106.0, [-253385...|{8106.0, [[306194...|    0.0|\n",
      "|{5189.0, [-265117...|{5189.0, [[327012...|    0.0|\n",
      "|{10904.0, [-28661...|{10904.0, [[32907...|    0.0|\n",
      "|{10024.0, [-16369...|{10024.0, [[27622...|    0.0|\n",
      "|{2386.0, [-306882...|{2474.0, [[339982...|    0.0|\n",
      "|{2386.0, [-306882...|{2386.0, [[339982...|    0.0|\n",
      "|{5173.0, [-282914...|{5173.0, [[327646...|    0.0|\n",
      "|{10315.0, [-30986...|{10315.0, [[34159...|    0.0|\n",
      "|{1370.0, [-282277...|{1370.0, [[334723...|    0.0|\n",
      "|{6310.0, [-163115...|{6310.0, [[282201...|    0.0|\n",
      "+--------------------+--------------------+-------+\n",
      "only showing top 20 rows\n",
      "\n"
     ]
    }
   ],
   "source": [
    "joined = model.stages[-1].approxSimilarityJoin(transformed, transformed, 20)\n",
    "joined.printSchema()\n",
    "joined.show()"
   ]
  }
 ],
 "metadata": {
  "kernelspec": {
   "display_name": "Python 3",
   "language": "python",
   "name": "python3"
  },
  "language_info": {
   "codemirror_mode": {
    "name": "ipython",
    "version": 3
   },
   "file_extension": ".py",
   "mimetype": "text/x-python",
   "name": "python",
   "nbconvert_exporter": "python",
   "pygments_lexer": "ipython3",
   "version": "3.10.12"
  }
 },
 "nbformat": 4,
 "nbformat_minor": 2
}
