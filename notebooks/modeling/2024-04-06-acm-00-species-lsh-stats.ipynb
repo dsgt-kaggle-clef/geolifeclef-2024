{
 "cells": [
  {
   "cell_type": "code",
   "execution_count": 1,
   "metadata": {},
   "outputs": [
    {
     "name": "stderr",
     "output_type": "stream",
     "text": [
      "24/04/06 11:11:08 WARN Utils: Your hostname, daphne-major resolves to a loopback address: 127.0.1.1; using 172.28.199.217 instead (on interface eth0)\n",
      "24/04/06 11:11:08 WARN Utils: Set SPARK_LOCAL_IP if you need to bind to another address\n",
      "Setting default log level to \"WARN\".\n",
      "To adjust logging level use sc.setLogLevel(newLevel). For SparkR, use setLogLevel(newLevel).\n",
      "24/04/06 11:11:10 WARN NativeCodeLoader: Unable to load native-hadoop library for your platform... using builtin-java classes where applicable\n",
      "24/04/06 11:11:10 WARN SparkConf: Note that spark.local.dir will be overridden by the value set by the cluster manager (via SPARK_LOCAL_DIRS in mesos/standalone/kubernetes and LOCAL_DIRS in YARN).\n"
     ]
    },
    {
     "name": "stdout",
     "output_type": "stream",
     "text": [
      "root\n",
      " |-- srcDataset: string (nullable = true)\n",
      " |-- srcSurveyId: integer (nullable = true)\n",
      " |-- srcSpeciesId: double (nullable = true)\n",
      " |-- dstDataset: string (nullable = true)\n",
      " |-- dstSurveyId: integer (nullable = true)\n",
      " |-- dstSpeciesId: double (nullable = true)\n",
      " |-- euclidean: double (nullable = true)\n",
      " |-- threshold: integer (nullable = true)\n",
      "\n"
     ]
    }
   ],
   "source": [
    "%load_ext autoreload\n",
    "%autoreload 2\n",
    "from geolifeclef.utils import get_spark\n",
    "from pyspark.sql import functions as F\n",
    "\n",
    "spark = get_spark()\n",
    "data_root = \"/mnt/data/geolifeclef-2024/data\"\n",
    "\n",
    "edges = spark.read.parquet(f\"{data_root}/processed/geolsh_graph/v1/edges\")\n",
    "edges.printSchema()"
   ]
  },
  {
   "cell_type": "code",
   "execution_count": 2,
   "metadata": {},
   "outputs": [
    {
     "name": "stderr",
     "output_type": "stream",
     "text": [
      "                                                                                \r"
     ]
    },
    {
     "data": {
      "text/plain": [
       "1116195844"
      ]
     },
     "execution_count": 2,
     "metadata": {},
     "output_type": "execute_result"
    }
   ],
   "source": [
    "edges.count()"
   ]
  },
  {
   "cell_type": "code",
   "execution_count": 3,
   "metadata": {},
   "outputs": [
    {
     "name": "stderr",
     "output_type": "stream",
     "text": [
      "                                                                                \r"
     ]
    },
    {
     "name": "stdout",
     "output_type": "stream",
     "text": [
      "+-------+------------------+\n",
      "|summary|         euclidean|\n",
      "+-------+------------------+\n",
      "|  count|        1116195844|\n",
      "|   mean|31299.572400645804|\n",
      "| stddev|29892.019010722808|\n",
      "|    min|               0.0|\n",
      "|    max| 99999.99986340413|\n",
      "+-------+------------------+\n",
      "\n"
     ]
    }
   ],
   "source": [
    "edges.select(\"euclidean\").describe().show()"
   ]
  },
  {
   "cell_type": "code",
   "execution_count": 4,
   "metadata": {},
   "outputs": [
    {
     "name": "stderr",
     "output_type": "stream",
     "text": [
      "[Stage 9:>                                                          (0 + 1) / 1]\r"
     ]
    },
    {
     "name": "stdout",
     "output_type": "stream",
     "text": [
      "+--------------+---------+\n",
      "|euclidean_10km|    count|\n",
      "+--------------+---------+\n",
      "|           0.0|318011094|\n",
      "|       10000.0|146144208|\n",
      "|       20000.0|117410260|\n",
      "|       30000.0| 99743946|\n",
      "|       40000.0| 85627662|\n",
      "|       50000.0| 75692624|\n",
      "|       60000.0| 73006062|\n",
      "|       70000.0| 65306260|\n",
      "|       80000.0| 58686854|\n",
      "|       90000.0| 52680442|\n",
      "|      100000.0| 23886432|\n",
      "+--------------+---------+\n",
      "\n"
     ]
    },
    {
     "name": "stderr",
     "output_type": "stream",
     "text": [
      "                                                                                \r"
     ]
    }
   ],
   "source": [
    "# let's discretize thresholds into buckets and see how big they are\n",
    "from pyspark.sql import functions as F\n",
    "\n",
    "edges.select(\n",
    "    F.round(\"euclidean\", -4).alias(\"euclidean_10km\"),\n",
    ").groupBy(\n",
    "    \"euclidean_10km\"\n",
    ").count().orderBy(\"euclidean_10km\").show()"
   ]
  },
  {
   "cell_type": "code",
   "execution_count": 5,
   "metadata": {},
   "outputs": [
    {
     "name": "stderr",
     "output_type": "stream",
     "text": [
      "                                                                                \r"
     ]
    },
    {
     "name": "stdout",
     "output_type": "stream",
     "text": [
      "+-------+------------------+------------------+\n",
      "|summary|       srcSurveyId|             count|\n",
      "+-------+------------------+------------------+\n",
      "|  count|           3919238|           3919238|\n",
      "|   mean|1959826.7707176753| 60.60069533924707|\n",
      "| stddev|1131506.4547204622|57.937901884098785|\n",
      "|    min|                 1|                 1|\n",
      "|    max|           3919662|               370|\n",
      "+-------+------------------+------------------+\n",
      "\n"
     ]
    },
    {
     "name": "stderr",
     "output_type": "stream",
     "text": [
      "[Stage 25:>                                                         (0 + 4) / 4]\r"
     ]
    },
    {
     "name": "stdout",
     "output_type": "stream",
     "text": [
      "+-------+-----------------+------------------+\n",
      "|summary|     srcSpeciesId|             count|\n",
      "+-------+-----------------+------------------+\n",
      "|  count|            10358|             10359|\n",
      "|   mean|5626.499903456266|1065.6767062457766|\n",
      "| stddev|3250.528165571007| 1307.583074547074|\n",
      "|    min|              0.0|                 1|\n",
      "|    max|          11254.0|              6134|\n",
      "+-------+-----------------+------------------+\n",
      "\n"
     ]
    },
    {
     "name": "stderr",
     "output_type": "stream",
     "text": [
      "                                                                                \r"
     ]
    }
   ],
   "source": [
    "# let's compute some basic graph statistics for survey-species and species-species\n",
    "def degree(df, src, dst):\n",
    "    return df.groupBy(src, dst).agg(F.count(\"*\").alias(\"n\")).groupBy(src).count()\n",
    "\n",
    "\n",
    "degree(edges, \"srcSurveyId\", \"dstSpeciesId\").describe().show()\n",
    "degree(edges, \"srcSpeciesId\", \"dstSpeciesId\").describe().show()"
   ]
  },
  {
   "cell_type": "code",
   "execution_count": 6,
   "metadata": {},
   "outputs": [
    {
     "name": "stderr",
     "output_type": "stream",
     "text": [
      "                                                                                \r"
     ]
    },
    {
     "name": "stdout",
     "output_type": "stream",
     "text": [
      "+-------+------------------+------------------+\n",
      "|summary|       srcSurveyId|             count|\n",
      "+-------+------------------+------------------+\n",
      "|  count|           3919238|           3919238|\n",
      "|   mean|1959826.7707176753| 19.84241885795147|\n",
      "| stddev|1131506.4547204617|25.982557877884812|\n",
      "|    min|                 1|                 1|\n",
      "|    max|           3919662|               273|\n",
      "+-------+------------------+------------------+\n",
      "\n"
     ]
    },
    {
     "name": "stderr",
     "output_type": "stream",
     "text": [
      "[Stage 45:=============================>                            (1 + 1) / 2]\r"
     ]
    },
    {
     "name": "stdout",
     "output_type": "stream",
     "text": [
      "+-------+-----------------+-----------------+\n",
      "|summary|     srcSpeciesId|            count|\n",
      "+-------+-----------------+-----------------+\n",
      "|  count|            10358|            10359|\n",
      "|   mean|5626.499903456266|698.3180808958393|\n",
      "| stddev| 3250.52816557101|955.1556924836394|\n",
      "|    min|              0.0|                1|\n",
      "|    max|          11254.0|             5083|\n",
      "+-------+-----------------+-----------------+\n",
      "\n"
     ]
    },
    {
     "name": "stderr",
     "output_type": "stream",
     "text": [
      "                                                                                \r"
     ]
    }
   ],
   "source": [
    "# let's do it again for a different threshold\n",
    "\n",
    "degree(\n",
    "    edges.where(\"euclidean < 10000\"), \"srcSurveyId\", \"dstSpeciesId\"\n",
    ").describe().show()\n",
    "degree(\n",
    "    edges.where(\"euclidean < 10000\"), \"srcSpeciesId\", \"dstSpeciesId\"\n",
    ").describe().show()"
   ]
  }
 ],
 "metadata": {
  "kernelspec": {
   "display_name": "Python 3",
   "language": "python",
   "name": "python3"
  },
  "language_info": {
   "codemirror_mode": {
    "name": "ipython",
    "version": 3
   },
   "file_extension": ".py",
   "mimetype": "text/x-python",
   "name": "python",
   "nbconvert_exporter": "python",
   "pygments_lexer": "ipython3",
   "version": "3.11.6"
  }
 },
 "nbformat": 4,
 "nbformat_minor": 2
}
