{
 "cells": [
  {
   "cell_type": "code",
   "execution_count": 3,
   "metadata": {},
   "outputs": [
    {
     "name": "stdout",
     "output_type": "stream",
     "text": [
      "The autoreload extension is already loaded. To reload it, use:\n",
      "  %reload_ext autoreload\n"
     ]
    },
    {
     "name": "stderr",
     "output_type": "stream",
     "text": [
      "24/04/07 09:09:40 WARN SparkSession: Using an existing Spark session; only runtime SQL configurations will take effect.\n"
     ]
    },
    {
     "name": "stdout",
     "output_type": "stream",
     "text": [
      "root\n",
      " |-- summary: string (nullable = true)\n",
      " |-- n: string (nullable = true)\n",
      " |-- count: string (nullable = true)\n",
      " |-- threshold: integer (nullable = true)\n",
      " |-- name: string (nullable = true)\n",
      "\n",
      "root\n",
      " |-- summary: string (nullable = true)\n",
      " |-- n: string (nullable = true)\n",
      " |-- count: string (nullable = true)\n",
      " |-- threshold: integer (nullable = true)\n",
      " |-- name: string (nullable = true)\n",
      "\n"
     ]
    }
   ],
   "source": [
    "%load_ext autoreload\n",
    "%autoreload 2\n",
    "from geolifeclef.utils import get_spark\n",
    "from pyspark.sql import functions as F\n",
    "\n",
    "spark = get_spark()\n",
    "data_root = \"/mnt/data/geolifeclef-2024/data\"\n",
    "\n",
    "survey_stats = spark.read.parquet(\n",
    "    f\"{data_root}/processed/geolsh_nn_graph/v2/survey_stats\"\n",
    ")\n",
    "species_stats = spark.read.parquet(\n",
    "    f\"{data_root}/processed/geolsh_nn_graph/v2/species_stats\"\n",
    ")\n",
    "timing = spark.read.json(f\"{data_root}/processed/geolsh_nn_graph/v2/timing\")\n",
    "survey_stats.printSchema()\n",
    "species_stats.printSchema()"
   ]
  },
  {
   "cell_type": "code",
   "execution_count": 11,
   "metadata": {},
   "outputs": [
    {
     "name": "stdout",
     "output_type": "stream",
     "text": [
      "+----------+------------------+------------------+---------+\n",
      "|  df_count|      time_species|       time_survey|threshold|\n",
      "+----------+------------------+------------------+---------+\n",
      "| 398280064|120.23328977100027|     172.096345252|    10000|\n",
      "| 524694680|130.59163260599962|205.71591510600047|    20000|\n",
      "| 633669808|130.19804506199944|225.08103482300066|    30000|\n",
      "| 724795718| 133.9478949229997|236.56537008600026|    40000|\n",
      "| 806658192|135.57080295499873|261.90445328199894|    50000|\n",
      "| 879183638|142.68195944999934| 277.4817794949995|    60000|\n",
      "| 949433228|148.49451990600028|  301.789006695999|    70000|\n",
      "|1010857892|150.32977327299886| 336.8670750399997|    80000|\n",
      "|1066338158|164.46621430099913| 365.2691382770008|    90000|\n",
      "|1116195844|167.60283644500123| 372.0538387280012|   100000|\n",
      "+----------+------------------+------------------+---------+\n",
      "\n"
     ]
    }
   ],
   "source": [
    "timing.orderBy(\"threshold\").show()"
   ]
  },
  {
   "cell_type": "code",
   "execution_count": 6,
   "metadata": {},
   "outputs": [
    {
     "name": "stdout",
     "output_type": "stream",
     "text": [
      "+-------+------------------+-----+---------+----+\n",
      "|summary|                 n|count|threshold|name|\n",
      "+-------+------------------+-----+---------+----+\n",
      "|  count|         213169116| NULL|    80000|freq|\n",
      "|   mean| 4.742046648070727| NULL|    80000|freq|\n",
      "| stddev| 16.65080311131445| NULL|    80000|freq|\n",
      "|    min|                 1| NULL|    80000|freq|\n",
      "|    max|             14487| NULL|    80000|freq|\n",
      "|  count|         225775632| NULL|    90000|freq|\n",
      "|   mean| 4.722999327048722| NULL|    90000|freq|\n",
      "| stddev|16.668448913836965| NULL|    90000|freq|\n",
      "|    min|                 1| NULL|    90000|freq|\n",
      "|    max|             14487| NULL|    90000|freq|\n",
      "|  count|         237508548| NULL|   100000|freq|\n",
      "|   mean| 4.699602828610615| NULL|   100000|freq|\n",
      "| stddev| 16.66624476198729| NULL|   100000|freq|\n",
      "|    min|                 1| NULL|   100000|freq|\n",
      "|    max|             14487| NULL|   100000|freq|\n",
      "|  count|         152228205| NULL|    40000|freq|\n",
      "|   mean| 4.761244593273632| NULL|    40000|freq|\n",
      "| stddev| 16.51390257574938| NULL|    40000|freq|\n",
      "|    min|                 1| NULL|    40000|freq|\n",
      "|    max|             14487| NULL|    40000|freq|\n",
      "+-------+------------------+-----+---------+----+\n",
      "only showing top 20 rows\n",
      "\n"
     ]
    }
   ],
   "source": [
    "survey_stats.show()"
   ]
  },
  {
   "cell_type": "code",
   "execution_count": 8,
   "metadata": {},
   "outputs": [
    {
     "name": "stdout",
     "output_type": "stream",
     "text": [
      "survey to species network\n"
     ]
    },
    {
     "name": "stderr",
     "output_type": "stream",
     "text": [
      "                                                                                \r"
     ]
    },
    {
     "name": "stdout",
     "output_type": "stream",
     "text": [
      "+---------+------------+-------+----+---+------+\n",
      "|threshold|       count|    max|mean|min|stddev|\n",
      "+---------+------------+-------+----+---+------+\n",
      "|    10000| 7.7767162E7| 4048.0|5.12|1.0| 17.92|\n",
      "|    20000|1.08093668E8| 4048.0|4.85|1.0| 16.84|\n",
      "|    30000|1.32068825E8| 4048.0| 4.8|1.0| 16.56|\n",
      "|    40000|1.52228205E8|14487.0|4.76|1.0| 16.51|\n",
      "|    50000|1.69809051E8|14487.0|4.75|1.0| 16.53|\n",
      "|    60000|1.85561009E8|14487.0|4.74|1.0| 16.51|\n",
      "|    70000|1.99894112E8|14487.0|4.75|1.0| 16.59|\n",
      "|    80000|2.13169116E8|14487.0|4.74|1.0| 16.65|\n",
      "|    90000|2.25775632E8|14487.0|4.72|1.0| 16.67|\n",
      "|   100000|2.37508548E8|14487.0| 4.7|1.0| 16.67|\n",
      "+---------+------------+-------+----+---+------+\n",
      "\n"
     ]
    },
    {
     "name": "stderr",
     "output_type": "stream",
     "text": [
      "[Stage 76:>                                                         (0 + 1) / 1]\r"
     ]
    },
    {
     "name": "stdout",
     "output_type": "stream",
     "text": [
      "+---------+------+------------+---------+---+----------+\n",
      "|threshold| count|         max|     mean|min|    stddev|\n",
      "+---------+------+------------+---------+---+----------+\n",
      "|    10000|1201.0| 5.1081767E7| 64752.01|1.0|1503929.99|\n",
      "|    20000|1207.0| 7.1192966E7| 89555.65|1.0|2093658.89|\n",
      "|    30000|1214.0| 8.6680251E7|108788.16|1.0|2544528.03|\n",
      "|    40000|1233.0| 9.9696313E7|123461.64|1.0|2906190.41|\n",
      "|    50000|1232.0|1.11168157E8|137832.02|1.0|3242995.22|\n",
      "|    60000|1242.0|1.21611065E8| 149405.0|1.0|3533541.26|\n",
      "|    70000|1251.0|1.31179239E8|159787.46|1.0|3797525.86|\n",
      "|    80000|1256.0|1.40232022E8|169720.63|1.0|4050947.91|\n",
      "|    90000|1260.0|1.48898492E8|179187.01|1.0|4294002.45|\n",
      "|   100000|1270.0|1.57054862E8| 187014.6|1.0|4510726.58|\n",
      "+---------+------+------------+---------+---+----------+\n",
      "\n"
     ]
    },
    {
     "name": "stderr",
     "output_type": "stream",
     "text": [
      "                                                                                \r"
     ]
    }
   ],
   "source": [
    "print(\"survey to species network\")\n",
    "survey_stats.where(F.col(\"name\") == \"freq\").groupBy(\"threshold\").pivot(\"summary\").agg(\n",
    "    F.first(F.round(\"n\", 2))\n",
    ").orderBy(\"threshold\").show()\n",
    "\n",
    "survey_stats.where(F.col(\"name\") == \"degree\").groupBy(\"threshold\").pivot(\"summary\").agg(\n",
    "    F.first(F.round(\"count\", 2))\n",
    ").orderBy(\"threshold\").show()"
   ]
  },
  {
   "cell_type": "code",
   "execution_count": 9,
   "metadata": {},
   "outputs": [
    {
     "name": "stdout",
     "output_type": "stream",
     "text": [
      "species to species network\n"
     ]
    },
    {
     "name": "stderr",
     "output_type": "stream",
     "text": [
      "                                                                                \r"
     ]
    },
    {
     "name": "stdout",
     "output_type": "stream",
     "text": [
      "+---------+-----------+---------+------+---+-------+\n",
      "|threshold|      count|      max|  mean|min| stddev|\n",
      "+---------+-----------+---------+------+---+-------+\n",
      "|    10000|  7233877.0|1317572.0| 55.06|1.0| 903.63|\n",
      "|    20000|  8150955.0|1319838.0| 64.37|1.0|  921.3|\n",
      "|    30000|  8763109.0|1319992.0| 72.31|1.0| 957.06|\n",
      "|    40000|  9237555.0|1320068.0| 78.46|1.0| 991.42|\n",
      "|    50000|  9637613.0|1320090.0|  83.7|1.0|1026.23|\n",
      "|    60000|  9988433.0|1320218.0| 88.02|1.0|1056.33|\n",
      "|    70000|1.0293297E7|1320224.0| 92.24|1.0|1089.46|\n",
      "|    80000|1.0568075E7|1320226.0| 95.65|1.0|1117.19|\n",
      "|    90000|1.0818335E7|1320348.0| 98.57|1.0| 1139.8|\n",
      "|   100000|1.1039345E7|1320352.0|101.11|1.0|1159.08|\n",
      "+---------+-----------+---------+------+---+-------+\n",
      "\n"
     ]
    },
    {
     "name": "stderr",
     "output_type": "stream",
     "text": [
      "[Stage 102:>                                                      (0 + 10) / 10]\r"
     ]
    },
    {
     "name": "stdout",
     "output_type": "stream",
     "text": [
      "+---------+-------+---------+------+---+--------+\n",
      "|threshold|  count|      max|  mean|min|  stddev|\n",
      "+---------+-------+---------+------+---+--------+\n",
      "|    10000| 8958.0|2081776.0|807.53|1.0|25891.29|\n",
      "|    20000|10413.0|2292186.0|782.77|1.0|26503.04|\n",
      "|    30000|11596.0|2426268.0| 755.7|1.0|26627.09|\n",
      "|    40000|12492.0|2526432.0|739.48|1.0| 26762.2|\n",
      "|    50000|13245.0|2611442.0|727.64|1.0|26892.21|\n",
      "|    60000|13900.0|2683700.0|718.59|1.0|27007.11|\n",
      "|    70000|14571.0|2747612.0|706.42|1.0|27027.77|\n",
      "|    80000|15065.0|2807240.0| 701.5|1.0|27168.71|\n",
      "|    90000|15472.0|2858832.0|699.22|1.0|27317.65|\n",
      "|   100000|15927.0|2905018.0|693.12|1.0|27369.31|\n",
      "+---------+-------+---------+------+---+--------+\n",
      "\n"
     ]
    },
    {
     "name": "stderr",
     "output_type": "stream",
     "text": [
      "                                                                                \r"
     ]
    }
   ],
   "source": [
    "print(\"species to species network\")\n",
    "species_stats.where(F.col(\"name\") == \"freq\").groupBy(\"threshold\").pivot(\"summary\").agg(\n",
    "    F.first(F.round(\"n\", 2))\n",
    ").orderBy(\"threshold\").show()\n",
    "\n",
    "species_stats.where(F.col(\"name\") == \"degree\").groupBy(\"threshold\").pivot(\n",
    "    \"summary\"\n",
    ").agg(F.first(F.round(\"count\", 2))).orderBy(\"threshold\").show()"
   ]
  }
 ],
 "metadata": {
  "kernelspec": {
   "display_name": "Python 3",
   "language": "python",
   "name": "python3"
  },
  "language_info": {
   "codemirror_mode": {
    "name": "ipython",
    "version": 3
   },
   "file_extension": ".py",
   "mimetype": "text/x-python",
   "name": "python",
   "nbconvert_exporter": "python",
   "pygments_lexer": "ipython3",
   "version": "3.11.6"
  }
 },
 "nbformat": 4,
 "nbformat_minor": 2
}
