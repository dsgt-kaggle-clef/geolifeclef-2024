{
 "cells": [
  {
   "cell_type": "code",
   "execution_count": 2,
   "metadata": {},
   "outputs": [
    {
     "name": "stdout",
     "output_type": "stream",
     "text": [
      "The autoreload extension is already loaded. To reload it, use:\n",
      "  %reload_ext autoreload\n"
     ]
    },
    {
     "name": "stderr",
     "output_type": "stream",
     "text": [
      "24/04/07 09:29:21 WARN SparkSession: Using an existing Spark session; only runtime SQL configurations will take effect.\n"
     ]
    },
    {
     "name": "stdout",
     "output_type": "stream",
     "text": [
      "root\n",
      " |-- srcSpeciesId: double (nullable = true)\n",
      " |-- dstSpeciesId: double (nullable = true)\n",
      " |-- n: long (nullable = true)\n",
      " |-- threshold: integer (nullable = true)\n",
      "\n"
     ]
    },
    {
     "name": "stderr",
     "output_type": "stream",
     "text": [
      "                                                                                \r"
     ]
    },
    {
     "name": "stdout",
     "output_type": "stream",
     "text": [
      "+------------+------------+---+---------+\n",
      "|srcSpeciesId|dstSpeciesId|  n|threshold|\n",
      "+------------+------------+---+---------+\n",
      "|      3438.0|      5783.0|  7|    10000|\n",
      "|       471.0|      2145.0|  9|    10000|\n",
      "|      9881.0|      3918.0| 13|    10000|\n",
      "|      4469.0|      8376.0|  8|    10000|\n",
      "|      7536.0|      3380.0| 16|    10000|\n",
      "|      8968.0|      3043.0|  1|    10000|\n",
      "|      1578.0|      1226.0| 10|    10000|\n",
      "|      5384.0|     10372.0| 17|    10000|\n",
      "|      1687.0|     10437.0| 11|    10000|\n",
      "|      1724.0|     11026.0|  1|    10000|\n",
      "+------------+------------+---+---------+\n",
      "only showing top 10 rows\n",
      "\n"
     ]
    },
    {
     "data": {
      "text/plain": [
       "7233877"
      ]
     },
     "execution_count": 2,
     "metadata": {},
     "output_type": "execute_result"
    }
   ],
   "source": [
    "%load_ext autoreload\n",
    "%autoreload 2\n",
    "from geolifeclef.utils import get_spark\n",
    "from pyspark.sql import functions as F\n",
    "\n",
    "spark = get_spark()\n",
    "data_root = \"/mnt/data/geolifeclef-2024/data\"\n",
    "\n",
    "\n",
    "species_edges = (\n",
    "    spark.read.parquet(f\"{data_root}/processed/geolsh_nn_graph/v2/species_edges\")\n",
    "    .where(\"threshold=10000\")\n",
    "    .cache()\n",
    ")\n",
    "species_edges.printSchema()\n",
    "species_edges.show(10)\n",
    "species_edges.count()"
   ]
  },
  {
   "cell_type": "code",
   "execution_count": 4,
   "metadata": {},
   "outputs": [],
   "source": [
    "from node2vec.spark import Node2VecSpark\n",
    "\n",
    "n2v_params = {\n",
    "    \"num_walks\": 30,\n",
    "    \"walk_length\": 10,\n",
    "    \"return_param\": 1.0,\n",
    "    \"inout_param\": 1.0,\n",
    "}\n",
    "w2v_params = {}\n",
    "g2v = Node2VecSpark(\n",
    "    spark,\n",
    "    n2v_params,\n",
    "    w2v_params=w2v_params,\n",
    "    max_out_degree=10000,\n",
    ")"
   ]
  },
  {
   "cell_type": "code",
   "execution_count": 6,
   "metadata": {},
   "outputs": [
    {
     "name": "stderr",
     "output_type": "stream",
     "text": [
      "                                                                                \r"
     ]
    }
   ],
   "source": [
    "g2v.preprocess_input_graph(\n",
    "    species_edges.select(\n",
    "        F.col(\"srcSpeciesId\").alias(\"src\"),\n",
    "        F.col(\"dstSpeciesId\").alias(\"dst\"),\n",
    "        F.log1p(\"n\").alias(\"weight\"),\n",
    "    ),\n",
    "    indexed=False,\n",
    "    directed=False,\n",
    ")"
   ]
  }
 ],
 "metadata": {
  "kernelspec": {
   "display_name": "venv",
   "language": "python",
   "name": "python3"
  },
  "language_info": {
   "codemirror_mode": {
    "name": "ipython",
    "version": 3
   },
   "file_extension": ".py",
   "mimetype": "text/x-python",
   "name": "python",
   "nbconvert_exporter": "python",
   "pygments_lexer": "ipython3",
   "version": "3.11.6"
  }
 },
 "nbformat": 4,
 "nbformat_minor": 2
}
