{
 "cells": [
  {
   "cell_type": "code",
   "execution_count": 3,
   "metadata": {},
   "outputs": [
    {
     "name": "stdout",
     "output_type": "stream",
     "text": [
      "The autoreload extension is already loaded. To reload it, use:\n",
      "  %reload_ext autoreload\n"
     ]
    },
    {
     "name": "stderr",
     "output_type": "stream",
     "text": [
      "24/05/24 05:17:20 WARN SparkSession: Using an existing Spark session; only runtime SQL configurations will take effect.\n"
     ]
    }
   ],
   "source": [
    "%load_ext autoreload\n",
    "%autoreload 2\n",
    "from geolifeclef.utils import get_spark\n",
    "from pyspark.sql import functions as F\n",
    "\n",
    "spark = get_spark()"
   ]
  },
  {
   "cell_type": "code",
   "execution_count": 4,
   "metadata": {},
   "outputs": [
    {
     "name": "stdout",
     "output_type": "stream",
     "text": [
      "root\n",
      " |-- dataset: string (nullable = true)\n",
      " |-- surveyId: integer (nullable = true)\n",
      " |-- lat_proj: double (nullable = true)\n",
      " |-- lon_proj: double (nullable = true)\n",
      " |-- lat: double (nullable = true)\n",
      " |-- lon: double (nullable = true)\n",
      " |-- year: integer (nullable = true)\n",
      " |-- geoUncertaintyInM: double (nullable = true)\n",
      " |-- speciesId: double (nullable = true)\n",
      "\n"
     ]
    },
    {
     "name": "stderr",
     "output_type": "stream",
     "text": [
      "                                                                                \r"
     ]
    },
    {
     "name": "stdout",
     "output_type": "stream",
     "text": [
      "+--------+--------+-------------------+--------------------+---------+--------+----+-----------------+---------+\n",
      "| dataset|surveyId|           lat_proj|            lon_proj|      lat|     lon|year|geoUncertaintyInM|speciesId|\n",
      "+--------+--------+-------------------+--------------------+---------+--------+----+-----------------+---------+\n",
      "|pa_train| 3707965|-1614858.9153893404| 1.690952987363603E7| 57.04466| 9.05137|2017|             10.0|   7739.0|\n",
      "|pa_train|  331966|-1882413.1908692368|1.5621125512619067E7| 46.32355|  13.909|2020|              0.0|   2322.0|\n",
      "|pa_train| 2118745| -1581919.826367132|1.6785045224298324E7| 56.27395|10.46924|2019|             10.0|   2885.0|\n",
      "|pa_train|  226994|-1604956.8148379833| 1.690090014821878E7| 57.02554| 9.25348|2018|             10.0|    581.0|\n",
      "|pa_train|  473228| -1552158.289162738|1.6687220463388722E7| 55.66891|11.59059|2017|             10.0|   9816.0|\n",
      "|pa_train| 3496757|-1642643.0405459898|1.6883943525084995E7|  56.7358| 8.88955|2019|             10.0|  10892.0|\n",
      "|pa_train| 2121546|-2533850.6953945193|1.5190077080153365E7| 40.85993|9.206911|2018|             10.0|   8106.0|\n",
      "|pa_train| 2458684|-2651174.0107524125|1.6443841275734857E7| 49.05266| 0.80791|2019|              1.0|   5189.0|\n",
      "|pa_train|  712678| -2866125.582858796|1.5750488781088576E7|43.532468|3.206787|2021|              5.0|  10904.0|\n",
      "|pa_train| 3493784|-1636995.1215402242|  1.63134377355146E7| 52.50813|13.00049|2017|              5.0|  10024.0|\n",
      "|pa_train| 1155141|-3068821.9357029046|1.5839097936711604E7| 43.26069| 0.86361|2019|              1.0|   2386.0|\n",
      "|pa_train|  583239|-2829147.4474522094|1.5780538139094938E7|43.887504|3.377694|2021|              5.0|   5173.0|\n",
      "|pa_train|  188165|-3098668.4495498687|1.5852683661580179E7| 43.21949| 0.52059|2018|              1.0|  10315.0|\n",
      "|pa_train| 3730886|-1631154.0506357062|1.6832054775492363E7| 56.40831| 9.45375|2017|             10.0|   6310.0|\n",
      "|pa_train| 3628828|-2096129.6651842375|1.6500895148476707E7|51.990343|6.259263|2018|              3.0|   6275.0|\n",
      "|pa_train|  349482|-1642512.2796471058|1.6755487977436572E7| 55.79811| 9.89565|2020|             10.0|   9707.0|\n",
      "|pa_train|  281069| -1690053.547823214|1.6807040879359093E7| 55.96869| 8.88052|2017|             10.0|   4748.0|\n",
      "|pa_train| 3236734|-1488523.0028375925| 1.692933375350538E7| 57.74081|10.60946|2018|             10.0|  10317.0|\n",
      "|pa_train| 3505862|-1610169.7175775752|1.6837729812071655E7| 56.54097| 9.68676|2018|             10.0|  11140.0|\n",
      "|pa_train|  446565|-2216663.8289947677|1.6502984112073632E7| 51.46439| 4.89639|2017|              0.0|   6903.0|\n",
      "+--------+--------+-------------------+--------------------+---------+--------+----+-----------------+---------+\n",
      "only showing top 20 rows\n",
      "\n"
     ]
    }
   ],
   "source": [
    "metadata = spark.read.parquet(\n",
    "    \"gs://dsgt-clef-geolifeclef-2024/data/processed/metadata_clean/v1\"\n",
    ").filter(F.col(\"dataset\") != \"po\")\n",
    "metadata.printSchema()\n",
    "metadata.show()"
   ]
  },
  {
   "cell_type": "code",
   "execution_count": 5,
   "metadata": {},
   "outputs": [
    {
     "name": "stderr",
     "output_type": "stream",
     "text": [
      "                                                                                \r"
     ]
    },
    {
     "name": "stdout",
     "output_type": "stream",
     "text": [
      "+--------+--------+------------------+--------------------+--------+-------+----+-----------------+---------+\n",
      "| dataset|surveyId|          lat_proj|            lon_proj|     lat|    lon|year|geoUncertaintyInM|speciesId|\n",
      "+--------+--------+------------------+--------------------+--------+-------+----+-----------------+---------+\n",
      "|pa_train|  725124|-1745914.419671583|1.6793605783911727E7|55.62505|8.26894|2019|             10.0|  10223.0|\n",
      "|pa_train|  725124|-1745914.419671583|1.6793605783911727E7|55.62505|8.26894|2019|             10.0|   8151.0|\n",
      "|pa_train|  725124|-1745914.419671583|1.6793605783911727E7|55.62505|8.26894|2019|             10.0|   8807.0|\n",
      "|pa_train|  725124|-1745914.419671583|1.6793605783911727E7|55.62505|8.26894|2019|             10.0|     53.0|\n",
      "|pa_train|  725124|-1745914.419671583|1.6793605783911727E7|55.62505|8.26894|2019|             10.0|   2025.0|\n",
      "|pa_train|  725124|-1745914.419671583|1.6793605783911727E7|55.62505|8.26894|2019|             10.0|   9647.0|\n",
      "|pa_train|  725124|-1745914.419671583|1.6793605783911727E7|55.62505|8.26894|2019|             10.0|   1539.0|\n",
      "|pa_train|  725124|-1745914.419671583|1.6793605783911727E7|55.62505|8.26894|2019|             10.0|   7971.0|\n",
      "|pa_train|  725124|-1745914.419671583|1.6793605783911727E7|55.62505|8.26894|2019|             10.0|   6962.0|\n",
      "|pa_train|  725124|-1745914.419671583|1.6793605783911727E7|55.62505|8.26894|2019|             10.0|   5900.0|\n",
      "|pa_train|  725124|-1745914.419671583|1.6793605783911727E7|55.62505|8.26894|2019|             10.0|   1888.0|\n",
      "|pa_train|  725124|-1745914.419671583|1.6793605783911727E7|55.62505|8.26894|2019|             10.0|    963.0|\n",
      "|pa_train|  725124|-1745914.419671583|1.6793605783911727E7|55.62505|8.26894|2019|             10.0|   5353.0|\n",
      "+--------+--------+------------------+--------------------+--------+-------+----+-----------------+---------+\n",
      "\n"
     ]
    }
   ],
   "source": [
    "metadata.filter(F.col(\"surveyId\") == 725124).show()"
   ]
  },
  {
   "cell_type": "code",
   "execution_count": 6,
   "metadata": {},
   "outputs": [
    {
     "name": "stderr",
     "output_type": "stream",
     "text": [
      "                                                                                \r"
     ]
    },
    {
     "name": "stdout",
     "output_type": "stream",
     "text": [
      "+--------+--------+-------------------+--------------------+--------+-------+----+-----------------+---------+\n",
      "| dataset|surveyId|           lat_proj|            lon_proj|     lat|    lon|year|geoUncertaintyInM|speciesId|\n",
      "+--------+--------+-------------------+--------------------+--------+-------+----+-----------------+---------+\n",
      "|pa_train| 1599781|-1746495.5052598761|1.6792945766220003E7|55.61772|8.26672|2019|             10.0|   8494.0|\n",
      "|pa_train| 1599781|-1746495.5052598761|1.6792945766220003E7|55.61772|8.26672|2019|             10.0|   1951.0|\n",
      "|pa_train| 1599781|-1746495.5052598761|1.6792945766220003E7|55.61772|8.26672|2019|             10.0|    254.0|\n",
      "|pa_train| 1599781|-1746495.5052598761|1.6792945766220003E7|55.61772|8.26672|2019|             10.0|   3161.0|\n",
      "|pa_train| 1599781|-1746495.5052598761|1.6792945766220003E7|55.61772|8.26672|2019|             10.0|   5900.0|\n",
      "|pa_train| 1599781|-1746495.5052598761|1.6792945766220003E7|55.61772|8.26672|2019|             10.0|   5420.0|\n",
      "|pa_train| 1599781|-1746495.5052598761|1.6792945766220003E7|55.61772|8.26672|2019|             10.0|   1964.0|\n",
      "|pa_train| 1599781|-1746495.5052598761|1.6792945766220003E7|55.61772|8.26672|2019|             10.0|   3738.0|\n",
      "|pa_train| 1599781|-1746495.5052598761|1.6792945766220003E7|55.61772|8.26672|2019|             10.0|   8208.0|\n",
      "|pa_train| 1599781|-1746495.5052598761|1.6792945766220003E7|55.61772|8.26672|2019|             10.0|   6643.0|\n",
      "|pa_train| 1599781|-1746495.5052598761|1.6792945766220003E7|55.61772|8.26672|2019|             10.0|   4871.0|\n",
      "|pa_train| 1599781|-1746495.5052598761|1.6792945766220003E7|55.61772|8.26672|2019|             10.0|  11195.0|\n",
      "|pa_train| 1599781|-1746495.5052598761|1.6792945766220003E7|55.61772|8.26672|2019|             10.0|   2009.0|\n",
      "|pa_train| 1599781|-1746495.5052598761|1.6792945766220003E7|55.61772|8.26672|2019|             10.0|   2025.0|\n",
      "|pa_train| 1599781|-1746495.5052598761|1.6792945766220003E7|55.61772|8.26672|2019|             10.0|    540.0|\n",
      "|pa_train| 1599781|-1746495.5052598761|1.6792945766220003E7|55.61772|8.26672|2019|             10.0|    581.0|\n",
      "|pa_train| 1599781|-1746495.5052598761|1.6792945766220003E7|55.61772|8.26672|2019|             10.0|   1910.0|\n",
      "|pa_train| 1599781|-1746495.5052598761|1.6792945766220003E7|55.61772|8.26672|2019|             10.0|  10882.0|\n",
      "|pa_train| 1599781|-1746495.5052598761|1.6792945766220003E7|55.61772|8.26672|2019|             10.0|   1716.0|\n",
      "|pa_train| 1599781|-1746495.5052598761|1.6792945766220003E7|55.61772|8.26672|2019|             10.0|   6188.0|\n",
      "+--------+--------+-------------------+--------------------+--------+-------+----+-----------------+---------+\n",
      "only showing top 20 rows\n",
      "\n"
     ]
    },
    {
     "name": "stderr",
     "output_type": "stream",
     "text": [
      "                                                                                \r"
     ]
    }
   ],
   "source": [
    "metadata.filter(F.col(\"surveyId\") == 1599781).show()"
   ]
  },
  {
   "cell_type": "code",
   "execution_count": 6,
   "metadata": {},
   "outputs": [],
   "source": [
    "from pyspark.sql import functions as F"
   ]
  },
  {
   "cell_type": "code",
   "execution_count": 13,
   "metadata": {},
   "outputs": [
    {
     "name": "stderr",
     "output_type": "stream",
     "text": [
      "                                                                                \r"
     ]
    },
    {
     "data": {
      "text/plain": [
       "93703"
      ]
     },
     "execution_count": 13,
     "metadata": {},
     "output_type": "execute_result"
    }
   ],
   "source": [
    "metadata.filter(F.col(\"dataset\") != \"po\").select(\"surveyId\").distinct().count()"
   ]
  },
  {
   "cell_type": "code",
   "execution_count": 26,
   "metadata": {},
   "outputs": [
    {
     "name": "stdout",
     "output_type": "stream",
     "text": [
      "+--------+--------+-------------------+--------------------+---------+--------+----+-----------------+---------+--------------------+--------------------+--------------------+--------------------+--------------------+--------------------+--------------------+\n",
      "|surveyId| dataset|           lat_proj|            lon_proj|      lat|     lon|year|geoUncertaintyInM|speciesId|          TimeSeries|             ts_blue|            ts_green|              ts_nir|              ts_red|            ts_swir1|            ts_swir2|\n",
      "+--------+--------+-------------------+--------------------+---------+--------+----+-----------------+---------+--------------------+--------------------+--------------------+--------------------+--------------------+--------------------+--------------------+\n",
      "|    4210|pa_train|-1644207.1223485535| 1.669148485768465E7| 55.31917|10.35217|2019|             10.0|   2922.0|[5.0, 6.0, 3.0, 7...|[920.0, 6.7140484...|[2034.0, -13.1343...|[8780.0, 13.23476...|[1646.0, -28.7461...|[6006.0, -81.2509...|[3108.0, -29.2488...|\n",
      "|    4210|pa_train|-1644207.1223485535| 1.669148485768465E7| 55.31917|10.35217|2019|             10.0|    643.0|[5.0, 6.0, 3.0, 7...|[920.0, 6.7140484...|[2034.0, -13.1343...|[8780.0, 13.23476...|[1646.0, -28.7461...|[6006.0, -81.2509...|[3108.0, -29.2488...|\n",
      "|    4210|pa_train|-1644207.1223485535| 1.669148485768465E7| 55.31917|10.35217|2019|             10.0|   6491.0|[5.0, 6.0, 3.0, 7...|[920.0, 6.7140484...|[2034.0, -13.1343...|[8780.0, 13.23476...|[1646.0, -28.7461...|[6006.0, -81.2509...|[3108.0, -29.2488...|\n",
      "|    4210|pa_train|-1644207.1223485535| 1.669148485768465E7| 55.31917|10.35217|2019|             10.0|   5420.0|[5.0, 6.0, 3.0, 7...|[920.0, 6.7140484...|[2034.0, -13.1343...|[8780.0, 13.23476...|[1646.0, -28.7461...|[6006.0, -81.2509...|[3108.0, -29.2488...|\n",
      "|    4210|pa_train|-1644207.1223485535| 1.669148485768465E7| 55.31917|10.35217|2019|             10.0|   4077.0|[5.0, 6.0, 3.0, 7...|[920.0, 6.7140484...|[2034.0, -13.1343...|[8780.0, 13.23476...|[1646.0, -28.7461...|[6006.0, -81.2509...|[3108.0, -29.2488...|\n",
      "|    4210|pa_train|-1644207.1223485535| 1.669148485768465E7| 55.31917|10.35217|2019|             10.0|   3738.0|[5.0, 6.0, 3.0, 7...|[920.0, 6.7140484...|[2034.0, -13.1343...|[8780.0, 13.23476...|[1646.0, -28.7461...|[6006.0, -81.2509...|[3108.0, -29.2488...|\n",
      "|    4210|pa_train|-1644207.1223485535| 1.669148485768465E7| 55.31917|10.35217|2019|             10.0|   3958.0|[5.0, 6.0, 3.0, 7...|[920.0, 6.7140484...|[2034.0, -13.1343...|[8780.0, 13.23476...|[1646.0, -28.7461...|[6006.0, -81.2509...|[3108.0, -29.2488...|\n",
      "|    4210|pa_train|-1644207.1223485535| 1.669148485768465E7| 55.31917|10.35217|2019|             10.0|    340.0|[5.0, 6.0, 3.0, 7...|[920.0, 6.7140484...|[2034.0, -13.1343...|[8780.0, 13.23476...|[1646.0, -28.7461...|[6006.0, -81.2509...|[3108.0, -29.2488...|\n",
      "|    4210|pa_train|-1644207.1223485535| 1.669148485768465E7| 55.31917|10.35217|2019|             10.0|   9707.0|[5.0, 6.0, 3.0, 7...|[920.0, 6.7140484...|[2034.0, -13.1343...|[8780.0, 13.23476...|[1646.0, -28.7461...|[6006.0, -81.2509...|[3108.0, -29.2488...|\n",
      "|    4210|pa_train|-1644207.1223485535| 1.669148485768465E7| 55.31917|10.35217|2019|             10.0|    822.0|[5.0, 6.0, 3.0, 7...|[920.0, 6.7140484...|[2034.0, -13.1343...|[8780.0, 13.23476...|[1646.0, -28.7461...|[6006.0, -81.2509...|[3108.0, -29.2488...|\n",
      "|    4210|pa_train|-1644207.1223485535| 1.669148485768465E7| 55.31917|10.35217|2019|             10.0|   5739.0|[5.0, 6.0, 3.0, 7...|[920.0, 6.7140484...|[2034.0, -13.1343...|[8780.0, 13.23476...|[1646.0, -28.7461...|[6006.0, -81.2509...|[3108.0, -29.2488...|\n",
      "|    4210|pa_train|-1644207.1223485535| 1.669148485768465E7| 55.31917|10.35217|2019|             10.0|   4492.0|[5.0, 6.0, 3.0, 7...|[920.0, 6.7140484...|[2034.0, -13.1343...|[8780.0, 13.23476...|[1646.0, -28.7461...|[6006.0, -81.2509...|[3108.0, -29.2488...|\n",
      "|    4210|pa_train|-1644207.1223485535| 1.669148485768465E7| 55.31917|10.35217|2019|             10.0|   4297.0|[5.0, 6.0, 3.0, 7...|[920.0, 6.7140484...|[2034.0, -13.1343...|[8780.0, 13.23476...|[1646.0, -28.7461...|[6006.0, -81.2509...|[3108.0, -29.2488...|\n",
      "|   20346|pa_train| -1902628.047392428|1.6311140357082862E7|51.449228|9.794551|2017|              5.0|  10392.0|                NULL|                NULL|                NULL|                NULL|                NULL|                NULL|                NULL|\n",
      "|   20346|pa_train| -1902628.047392428|1.6311140357082862E7|51.449228|9.794551|2017|              5.0|    733.0|                NULL|                NULL|                NULL|                NULL|                NULL|                NULL|                NULL|\n",
      "|   20346|pa_train| -1902628.047392428|1.6311140357082862E7|51.449228|9.794551|2017|              5.0|   3722.0|                NULL|                NULL|                NULL|                NULL|                NULL|                NULL|                NULL|\n",
      "|   20346|pa_train| -1902628.047392428|1.6311140357082862E7|51.449228|9.794551|2017|              5.0|   7972.0|                NULL|                NULL|                NULL|                NULL|                NULL|                NULL|                NULL|\n",
      "|   20346|pa_train| -1902628.047392428|1.6311140357082862E7|51.449228|9.794551|2017|              5.0|   8431.0|                NULL|                NULL|                NULL|                NULL|                NULL|                NULL|                NULL|\n",
      "|   20346|pa_train| -1902628.047392428|1.6311140357082862E7|51.449228|9.794551|2017|              5.0|  10904.0|                NULL|                NULL|                NULL|                NULL|                NULL|                NULL|                NULL|\n",
      "|   20346|pa_train| -1902628.047392428|1.6311140357082862E7|51.449228|9.794551|2017|              5.0|    694.0|                NULL|                NULL|                NULL|                NULL|                NULL|                NULL|                NULL|\n",
      "+--------+--------+-------------------+--------------------+---------+--------+----+-----------------+---------+--------------------+--------------------+--------------------+--------------------+--------------------+--------------------+--------------------+\n",
      "only showing top 20 rows\n",
      "\n"
     ]
    }
   ],
   "source": [
    "df = spark.read.parquet(\n",
    "    \"gs://dsgt-clef-geolifeclef-2024/data/processed/dct_timeseries/combined_timeseries_v3\"\n",
    ")\n",
    "df.show()"
   ]
  },
  {
   "cell_type": "code",
   "execution_count": 27,
   "metadata": {},
   "outputs": [
    {
     "name": "stderr",
     "output_type": "stream",
     "text": [
      "                                                                                \r"
     ]
    },
    {
     "data": {
      "text/plain": [
       "93703"
      ]
     },
     "execution_count": 27,
     "metadata": {},
     "output_type": "execute_result"
    }
   ],
   "source": [
    "df.select(\"surveyId\").distinct().count()"
   ]
  },
  {
   "cell_type": "code",
   "execution_count": 17,
   "metadata": {},
   "outputs": [
    {
     "name": "stderr",
     "output_type": "stream",
     "text": [
      "                                                                                \r"
     ]
    },
    {
     "name": "stdout",
     "output_type": "stream",
     "text": [
      "+--------+--------+-------------------+--------------------+---------+--------+----+-----------------+---------+\n",
      "| dataset|surveyId|           lat_proj|            lon_proj|      lat|     lon|year|geoUncertaintyInM|speciesId|\n",
      "+--------+--------+-------------------+--------------------+---------+--------+----+-----------------+---------+\n",
      "|pa_train| 3707965|-1614858.9153893404| 1.690952987363603E7| 57.04466| 9.05137|2017|             10.0|   7739.0|\n",
      "|pa_train|  331966|-1882413.1908692368|1.5621125512619067E7| 46.32355|  13.909|2020|              0.0|   2322.0|\n",
      "|pa_train|  226994|-1604956.8148379833| 1.690090014821878E7| 57.02554| 9.25348|2018|             10.0|    581.0|\n",
      "|pa_train| 3496757|-1642643.0405459898|1.6883943525084995E7|  56.7358| 8.88955|2019|             10.0|  10892.0|\n",
      "|pa_train| 2121546|-2533850.6953945193|1.5190077080153365E7| 40.85993|9.206911|2018|             10.0|   8106.0|\n",
      "|pa_train| 2458684|-2651174.0107524125|1.6443841275734857E7| 49.05266| 0.80791|2019|              1.0|   5189.0|\n",
      "|pa_train|  712678| -2866125.582858796|1.5750488781088576E7|43.532468|3.206787|2021|              5.0|  10904.0|\n",
      "|pa_train| 3493784|-1636995.1215402242|  1.63134377355146E7| 52.50813|13.00049|2017|              5.0|  10024.0|\n",
      "|pa_train| 1155141|-3068821.9357029046|1.5839097936711604E7| 43.26069| 0.86361|2019|              1.0|   2386.0|\n",
      "|pa_train|  583239|-2829147.4474522094|1.5780538139094938E7|43.887504|3.377694|2021|              5.0|   5173.0|\n",
      "|pa_train|  188165|-3098668.4495498687|1.5852683661580179E7| 43.21949| 0.52059|2018|              1.0|  10315.0|\n",
      "|pa_train| 3730886|-1631154.0506357062|1.6832054775492363E7| 56.40831| 9.45375|2017|             10.0|   6310.0|\n",
      "|pa_train| 3628828|-2096129.6651842375|1.6500895148476707E7|51.990343|6.259263|2018|              3.0|   6275.0|\n",
      "|pa_train|  349482|-1642512.2796471058|1.6755487977436572E7| 55.79811| 9.89565|2020|             10.0|   9707.0|\n",
      "|pa_train|  281069| -1690053.547823214|1.6807040879359093E7| 55.96869| 8.88052|2017|             10.0|   4748.0|\n",
      "|pa_train| 3505862|-1610169.7175775752|1.6837729812071655E7| 56.54097| 9.68676|2018|             10.0|  11140.0|\n",
      "|pa_train|  446565|-2216663.8289947677|1.6502984112073632E7| 51.46439| 4.89639|2017|              0.0|   6903.0|\n",
      "|pa_train| 1721426|-2201418.3971941834|1.6595201578505017E7|52.165844|4.383744|2020|              3.0|   5829.0|\n",
      "|pa_train| 1724927|-1234958.2922503056| 1.628954546480368E7| 53.73739|18.37816|2019|              5.0|   6491.0|\n",
      "|pa_train| 2384280|-1620988.6564038498|1.5032837478895698E7| 42.44785|19.26068|2020|             10.0|   2132.0|\n",
      "+--------+--------+-------------------+--------------------+---------+--------+----+-----------------+---------+\n",
      "only showing top 20 rows\n",
      "\n"
     ]
    },
    {
     "name": "stderr",
     "output_type": "stream",
     "text": [
      "                                                                                \r"
     ]
    }
   ],
   "source": [
    "merge_df = metadata.join(df, (metadata.surveyId == df.surveyId), \"left_anti\")\n",
    "merge_df.show()"
   ]
  },
  {
   "cell_type": "code",
   "execution_count": 19,
   "metadata": {},
   "outputs": [
    {
     "name": "stderr",
     "output_type": "stream",
     "text": [
      "[Stage 40:===================>                                      (1 + 2) / 3]\r"
     ]
    },
    {
     "name": "stdout",
     "output_type": "stream",
     "text": [
      "+--------+-------+--------+--------+---+---+----+-----------------+---------+----------+----+-----+---+---+-----+-----+\n",
      "|surveyId|dataset|lat_proj|lon_proj|lat|lon|year|geoUncertaintyInM|speciesId|TimeSeries|blue|green|nir|red|swir1|swir2|\n",
      "+--------+-------+--------+--------+---+---+----+-----------------+---------+----------+----+-----+---+---+-----+-----+\n",
      "+--------+-------+--------+--------+---+---+----+-----------------+---------+----------+----+-----+---+---+-----+-----+\n",
      "\n"
     ]
    },
    {
     "name": "stderr",
     "output_type": "stream",
     "text": [
      "                                                                                \r"
     ]
    }
   ],
   "source": [
    "df.filter(F.col(\"surveyId\") == 3707965).show()"
   ]
  },
  {
   "cell_type": "code",
   "execution_count": 23,
   "metadata": {},
   "outputs": [
    {
     "name": "stderr",
     "output_type": "stream",
     "text": [
      "[Stage 44:>                                                         (0 + 1) / 1]\r"
     ]
    },
    {
     "name": "stdout",
     "output_type": "stream",
     "text": [
      "+--------+--------------------+--------------------+\n",
      "|surveyId|          TimeSeries|                 DCT|\n",
      "+--------+--------------------+--------------------+\n",
      "|  748008|[12.0, 10.0, 9.0,...|[2074.0, -121.424...|\n",
      "|  748009|[17.0, 21.0, 19.0...|[3078.0, 9.272144...|\n",
      "|  748010|[5.0, 3.0, 2.0, 2...|[672.0, -14.78262...|\n",
      "|  748011|[3.0, 4.0, 4.0, 3...|[564.0, -8.31281,...|\n",
      "|  748012|[12.0, 4.0, 4.0, ...|[1214.0, -55.1873...|\n",
      "|  748013|[9.0, 12.0, 10.0,...|[1772.0, 26.71977...|\n",
      "|  748014|[24.0, 25.0, 24.0...|[3170.0, 727.5371...|\n",
      "|  748015|[11.0, 12.0, 12.0...|[1948.0, 21.81427...|\n",
      "|  748016|[7.0, 6.0, 13.0, ...|[1252.0, 9.242264...|\n",
      "|  748017|[8.0, 6.0, 7.0, 6...|[1336.0, 3.431847...|\n",
      "|  748018|[8.0, 9.0, 7.0, 7...|[1226.0, 49.51976...|\n",
      "|  748019|[14.0, 16.0, 14.0...|[1806.0, 196.4096...|\n",
      "|  748020|[25.0, 26.0, 25.0...|[9158.0, -2203.90...|\n",
      "|  748021|[7.0, 9.0, 9.0, 8...|[1492.0, -130.454...|\n",
      "|  748022|[11.0, 8.0, 10.0,...|[2512.0, -95.0330...|\n",
      "|  748023|[5.0, 6.0, 8.0, 1...|[1044.0, 31.74857...|\n",
      "|  748024|[55.0, 11.0, 10.0...|[3396.0, 192.7440...|\n",
      "|  748025|[8.0, 11.0, 12.0,...|[1786.0, -23.5740...|\n",
      "|  748026|[13.0, 15.0, 18.0...|[2194.0, 86.50111...|\n",
      "|  748027|[9.0, 13.0, 12.0,...|[1966.0, -92.0705...|\n",
      "+--------+--------------------+--------------------+\n",
      "only showing top 20 rows\n",
      "\n"
     ]
    },
    {
     "name": "stderr",
     "output_type": "stream",
     "text": [
      "                                                                                \r"
     ]
    }
   ],
   "source": [
    "blue = spark.read.parquet(\n",
    "    \"gs://dsgt-clef-geolifeclef-2024/data/processed/dct_timeseries/GLC24-PO-train-landsat-time-series-blue/GLC24-PO-train-landsat-time-series-blue\"\n",
    ")\n",
    "blue.show()"
   ]
  },
  {
   "cell_type": "code",
   "execution_count": 25,
   "metadata": {},
   "outputs": [
    {
     "name": "stdout",
     "output_type": "stream",
     "text": [
      "+--------+--------------------+--------------------+\n",
      "|surveyId|          TimeSeries|                 DCT|\n",
      "+--------+--------------------+--------------------+\n",
      "|  748008|[12.0, 10.0, 9.0,...|[2074.0, -121.424...|\n",
      "+--------+--------------------+--------------------+\n",
      "\n"
     ]
    }
   ],
   "source": [
    "blue.filter(F.col(\"surveyId\") == 748008).show()"
   ]
  },
  {
   "cell_type": "code",
   "execution_count": 5,
   "metadata": {},
   "outputs": [],
   "source": [
    "import os"
   ]
  },
  {
   "cell_type": "code",
   "execution_count": 7,
   "metadata": {},
   "outputs": [
    {
     "data": {
      "text/plain": [
       "True"
      ]
     },
     "execution_count": 7,
     "metadata": {},
     "output_type": "execute_result"
    }
   ],
   "source": [
    "os.path.exists(\n",
    "    \"/mnt/data/geolifeclef-2024/data/models/baseline_xgboost_naive/log_bin_2=4\"\n",
    ")"
   ]
  },
  {
   "cell_type": "code",
   "execution_count": 5,
   "metadata": {},
   "outputs": [
    {
     "name": "stdout",
     "output_type": "stream",
     "text": [
      "+--------------------+--------------+--------------------+-----------------+\n",
      "|         avg_metrics|   metric_name|         std_metrics|       train_time|\n",
      "+--------------------+--------------+--------------------+-----------------+\n",
      "|[0.8970338870364115]|microF1Measure|[0.8970338870364115]|85.34626088699952|\n",
      "+--------------------+--------------+--------------------+-----------------+\n",
      "\n"
     ]
    }
   ],
   "source": [
    "base_result = spark.read.json(\n",
    "    \"/mnt/data/geolifeclef-2024/data/models/baseline_xgboost_naive/v1_test/perf\"\n",
    ")\n",
    "base_result.show()"
   ]
  },
  {
   "cell_type": "code",
   "execution_count": 3,
   "metadata": {},
   "outputs": [
    {
     "name": "stderr",
     "output_type": "stream",
     "text": [
      "                                                                                \r"
     ]
    },
    {
     "name": "stdout",
     "output_type": "stream",
     "text": [
      "+--------------------+--------------+--------------------+-----------------+\n",
      "|         avg_metrics|   metric_name|         std_metrics|       train_time|\n",
      "+--------------------+--------------+--------------------+-----------------+\n",
      "|[6.91562932226832...|microF1Measure|[6.91562932226832...|705.3210157110002|\n",
      "+--------------------+--------------+--------------------+-----------------+\n",
      "\n"
     ]
    }
   ],
   "source": [
    "result = spark.read.json(\n",
    "    \"/mnt/data/geolifeclef-2024/data/models/baseline_xgboost_naive/log_bin_2=0/perf\"\n",
    ")\n",
    "result.show()"
   ]
  },
  {
   "cell_type": "code",
   "execution_count": 8,
   "metadata": {},
   "outputs": [
    {
     "name": "stderr",
     "output_type": "stream",
     "text": [
      "                                                                                \r"
     ]
    },
    {
     "name": "stdout",
     "output_type": "stream",
     "text": [
      "+---------+-----+\n",
      "|speciesId|count|\n",
      "+---------+-----+\n",
      "|    540.0|27928|\n",
      "|   4397.0|25013|\n",
      "|    254.0|23336|\n",
      "|   2885.0|23270|\n",
      "|   4499.0|21036|\n",
      "|  10317.0|19883|\n",
      "|  11140.0|19393|\n",
      "|   1964.0|19334|\n",
      "|  10600.0|19311|\n",
      "|  10073.0|19242|\n",
      "|  10255.0|18643|\n",
      "|   9816.0|18360|\n",
      "|   8208.0|17022|\n",
      "|  11195.0|16968|\n",
      "|   6310.0|16826|\n",
      "|   6962.0|16659|\n",
      "|   6079.0|16398|\n",
      "|    963.0|15771|\n",
      "|   8818.0|15566|\n",
      "|   6643.0|15508|\n",
      "+---------+-----+\n",
      "only showing top 20 rows\n",
      "\n"
     ]
    },
    {
     "name": "stderr",
     "output_type": "stream",
     "text": [
      "[Stage 6:>                                                          (0 + 8) / 8]\r"
     ]
    },
    {
     "name": "stdout",
     "output_type": "stream",
     "text": [
      "10359\n"
     ]
    },
    {
     "name": "stderr",
     "output_type": "stream",
     "text": [
      "                                                                                \r"
     ]
    }
   ],
   "source": [
    "from pyspark.sql import functions as F\n",
    "import numpy as np\n",
    "\n",
    "species_count = metadata.groupBy(\"speciesId\").count()\n",
    "species_count.orderBy(species_count[\"count\"].desc()).show()\n",
    "print(species_count.count())"
   ]
  },
  {
   "cell_type": "code",
   "execution_count": 7,
   "metadata": {},
   "outputs": [
    {
     "ename": "NameError",
     "evalue": "name 'species_count' is not defined",
     "output_type": "error",
     "traceback": [
      "\u001b[0;31m---------------------------------------------------------------------------\u001b[0m",
      "\u001b[0;31mNameError\u001b[0m                                 Traceback (most recent call last)",
      "Cell \u001b[0;32mIn[7], line 1\u001b[0m\n\u001b[0;32m----> 1\u001b[0m \u001b[43mspecies_count\u001b[49m[\u001b[38;5;124m\"\u001b[39m\u001b[38;5;124mcount\u001b[39m\u001b[38;5;124m\"\u001b[39m]\n",
      "\u001b[0;31mNameError\u001b[0m: name 'species_count' is not defined"
     ]
    }
   ],
   "source": [
    "species_count[\"count\"]"
   ]
  },
  {
   "cell_type": "code",
   "execution_count": null,
   "metadata": {},
   "outputs": [
    {
     "data": {
      "text/plain": [
       "4"
      ]
     },
     "execution_count": 66,
     "metadata": {},
     "output_type": "execute_result"
    }
   ],
   "source": [
    "os.cpu_count()"
   ]
  },
  {
   "cell_type": "code",
   "execution_count": 19,
   "metadata": {},
   "outputs": [
    {
     "name": "stderr",
     "output_type": "stream",
     "text": [
      "                                                                                \r"
     ]
    },
    {
     "name": "stdout",
     "output_type": "stream",
     "text": [
      "27928\n",
      "1\n",
      "+---------+-----+\n",
      "|speciesId|count|\n",
      "+---------+-----+\n",
      "|    540.0|27928|\n",
      "+---------+-----+\n",
      "\n",
      "+---------+-----+\n",
      "|speciesId|count|\n",
      "+---------+-----+\n",
      "|   9753.0|    1|\n",
      "|  10681.0|    1|\n",
      "|     70.0|    1|\n",
      "|   3448.0|    1|\n",
      "|   8144.0|    1|\n",
      "|   9762.0|    1|\n",
      "|   1551.0|    1|\n",
      "|   9650.0|    1|\n",
      "|   7136.0|    1|\n",
      "|  11118.0|    1|\n",
      "|    928.0|    1|\n",
      "|   6016.0|    1|\n",
      "|  10202.0|    1|\n",
      "|   7265.0|    1|\n",
      "|   4571.0|    1|\n",
      "|   6185.0|    1|\n",
      "|    588.0|    1|\n",
      "|   8504.0|    1|\n",
      "|   4119.0|    1|\n",
      "|   8982.0|    1|\n",
      "+---------+-----+\n",
      "only showing top 20 rows\n",
      "\n"
     ]
    }
   ],
   "source": [
    "max_count = species_count.agg(F.max(\"count\").alias(\"Max\"))\n",
    "min_count = species_count.agg(F.min(\"count\").alias(\"Min\"))\n",
    "\n",
    "max_value = max_count.first().Max\n",
    "min_value = min_count.first().Min\n",
    "\n",
    "print(max_count.first().Max)\n",
    "print(min_count.first().Min)\n",
    "\n",
    "min_row = species_count.filter(species_count[\"count\"] == max_count.first().Max)\n",
    "max_row = species_count.filter(species_count[\"count\"] == min_count.first().Min)\n",
    "\n",
    "# Show the results\n",
    "min_row.show()\n",
    "max_row.show()"
   ]
  },
  {
   "cell_type": "code",
   "execution_count": 6,
   "metadata": {},
   "outputs": [
    {
     "data": {
      "text/plain": [
       "[1.0,\n",
       " 2149.230769230769,\n",
       " 4297.461538461538,\n",
       " 6445.692307692307,\n",
       " 8593.923076923076,\n",
       " 10742.153846153846,\n",
       " 12890.384615384613,\n",
       " 15038.615384615383,\n",
       " 17186.846153846152,\n",
       " 19335.076923076922,\n",
       " 21483.30769230769,\n",
       " 23631.53846153846,\n",
       " 25779.769230769227,\n",
       " 27928.0]"
      ]
     },
     "execution_count": 6,
     "metadata": {},
     "output_type": "execute_result"
    }
   ],
   "source": [
    "bin_edges = np.linspace(min_value, max_value, 14).tolist()\n",
    "bin_edges"
   ]
  },
  {
   "cell_type": "code",
   "execution_count": 7,
   "metadata": {},
   "outputs": [
    {
     "name": "stderr",
     "output_type": "stream",
     "text": [
      "[Stage 53:===========================================>              (3 + 1) / 4]\r"
     ]
    }
   ],
   "source": [
    "freq = species_count.select(\"count\").rdd.flatMap(lambda x: x)"
   ]
  },
  {
   "cell_type": "code",
   "execution_count": 8,
   "metadata": {},
   "outputs": [
    {
     "name": "stderr",
     "output_type": "stream",
     "text": [
      "[Stage 55:>                                                         (0 + 1) / 1]\r"
     ]
    },
    {
     "name": "stdout",
     "output_type": "stream",
     "text": [
      "Bin edges:  [1.0, 2149.230769230769, 4297.461538461538, 6445.692307692307, 8593.923076923076, 10742.153846153846, 12890.384615384613, 15038.615384615383, 17186.846153846152, 19335.076923076922, 21483.30769230769, 23631.53846153846, 25779.769230769227, 27928.0]\n",
      "Counts:  [9388, 371, 403, 100, 43, 19, 14, 9, 5, 3, 2, 1, 1]\n"
     ]
    },
    {
     "name": "stderr",
     "output_type": "stream",
     "text": [
      "                                                                                \r"
     ]
    }
   ],
   "source": [
    "histogram_bins, histogram_counts = freq.histogram(bin_edges)\n",
    "\n",
    "print(\"Bin edges: \", histogram_bins)\n",
    "print(\"Counts: \", histogram_counts)"
   ]
  },
  {
   "cell_type": "code",
   "execution_count": 9,
   "metadata": {},
   "outputs": [
    {
     "data": {
      "image/png": "[encoded data removed]",
      "text/plain": [
       "<Figure size 1000x600 with 1 Axes>"
      ]
     },
     "metadata": {},
     "output_type": "display_data"
    }
   ],
   "source": [
    "import matplotlib.pyplot as plt\n",
    "import numpy as np\n",
    "\n",
    "plt.figure(figsize=(10, 6))\n",
    "plt.bar(\n",
    "    histogram_bins[:-1],\n",
    "    [np.log10(counts) for counts in histogram_counts],\n",
    "    width=np.diff(histogram_bins),\n",
    "    edgecolor=\"black\",\n",
    ")\n",
    "plt.xlabel(\"Species Frequencies\")\n",
    "plt.ylabel(\"Log10 Frequency\")\n",
    "plt.show()"
   ]
  },
  {
   "cell_type": "code",
   "execution_count": 9,
   "metadata": {},
   "outputs": [
    {
     "name": "stdout",
     "output_type": "stream",
     "text": [
      "+---------+-----+---------+\n",
      "|speciesId|count|log_bin_2|\n",
      "+---------+-----+---------+\n",
      "|  10024.0| 9167|       13|\n",
      "|   4142.0| 3826|       11|\n",
      "|  11028.0| 1971|       10|\n",
      "|    305.0| 4815|       12|\n",
      "|   7115.0| 2292|       11|\n",
      "|   3597.0|  491|        8|\n",
      "|   1051.0| 5922|       12|\n",
      "|   9923.0|  417|        8|\n",
      "|   1761.0| 5835|       12|\n",
      "|   6067.0| 2540|       11|\n",
      "|   6433.0|   61|        5|\n",
      "|   7171.0|  659|        9|\n",
      "|    299.0|  759|        9|\n",
      "|   7782.0|  289|        8|\n",
      "|    558.0|  148|        7|\n",
      "|  10930.0|   49|        5|\n",
      "|    769.0|   18|        4|\n",
      "|   6653.0|  157|        7|\n",
      "|   6765.0|  213|        7|\n",
      "|    596.0|   55|        5|\n",
      "+---------+-----+---------+\n",
      "only showing top 20 rows\n",
      "\n"
     ]
    }
   ],
   "source": [
    "log_base = 2\n",
    "log_df = species_count.withColumn(\n",
    "    f\"log_bin_{log_base}\", F.floor(F.log10(F.col(\"count\")) / F.log10(F.lit(log_base)))\n",
    ")\n",
    "log_df.show()"
   ]
  },
  {
   "cell_type": "code",
   "execution_count": 31,
   "metadata": {},
   "outputs": [
    {
     "name": "stderr",
     "output_type": "stream",
     "text": [
      "                                                                                \r"
     ]
    },
    {
     "name": "stdout",
     "output_type": "stream",
     "text": [
      "+---------+-------+\n",
      "|log_bin_2|  count|\n",
      "+---------+-------+\n",
      "|        0|   1526|\n",
      "|        7| 117933|\n",
      "|        6|  62418|\n",
      "|        9| 342416|\n",
      "|        5|  36173|\n",
      "|        1|   3024|\n",
      "|       10| 577941|\n",
      "|        3|  10592|\n",
      "|       12|2754912|\n",
      "|        8| 205047|\n",
      "|       11|1111622|\n",
      "|        2|   5553|\n",
      "|        4|  22713|\n",
      "|       13| 972942|\n",
      "|       14| 338622|\n",
      "+---------+-------+\n",
      "\n"
     ]
    }
   ],
   "source": [
    "metadata_count = metadata.join(log_df, on=\"speciesId\", how=\"inner\")\n",
    "count_bin = metadata_count.groupBy(\"log_bin_2\").count()\n",
    "count_bin.show()"
   ]
  },
  {
   "cell_type": "code",
   "execution_count": 40,
   "metadata": {},
   "outputs": [
    {
     "name": "stderr",
     "output_type": "stream",
     "text": [
      "                                                                                \r"
     ]
    },
    {
     "name": "stdout",
     "output_type": "stream",
     "text": [
      "0        1526\n",
      "1        3024\n",
      "2        5553\n",
      "3       10592\n",
      "4       22713\n",
      "5       36173\n",
      "6       62418\n",
      "7      117933\n",
      "8      205047\n",
      "9      342416\n",
      "10     577941\n",
      "11    1111622\n",
      "12    2754912\n",
      "13     972942\n",
      "14     338622\n",
      "Name: count, dtype: int64\n"
     ]
    },
    {
     "data": {
      "image/png": "[encoded data removed]",
      "text/plain": [
       "<Figure size 640x480 with 1 Axes>"
      ]
     },
     "metadata": {},
     "output_type": "display_data"
    },
    {
     "data": {
      "text/plain": [
       "<Figure size 640x480 with 0 Axes>"
      ]
     },
     "metadata": {},
     "output_type": "display_data"
    }
   ],
   "source": [
    "import matplotlib.pyplot as plt\n",
    "\n",
    "count_bin = count_bin.sort(\"log_bin_2\")\n",
    "count_pd = count_bin.toPandas()\n",
    "\n",
    "value_counts = count_pd[\"count\"]\n",
    "print(value_counts)\n",
    "# Create a bar plot\n",
    "value_counts.plot(kind=\"bar\")\n",
    "plt.xlabel(\"Value\")\n",
    "plt.ylabel(\"Frequency\")\n",
    "plt.title(\"Frequency of Each Value in Column\")\n",
    "plt.show()\n",
    "plt.savefig(\"Frequency Graph\")"
   ]
  },
  {
   "cell_type": "code",
   "execution_count": 24,
   "metadata": {},
   "outputs": [],
   "source": [
    "import numpy as np"
   ]
  },
  {
   "cell_type": "code",
   "execution_count": 32,
   "metadata": {},
   "outputs": [
    {
     "name": "stderr",
     "output_type": "stream",
     "text": [
      "                                                                                \r"
     ]
    },
    {
     "name": "stdout",
     "output_type": "stream",
     "text": [
      "Bin edges:  [0, 1, 2, 3, 4, 5, 6, 7, 8, 9, 10, 11, 12, 13, 14]\n",
      "Counts:  [0, 0, 0, 0, 0, 0, 0, 0, 0, 0, 0, 0, 0, 0]\n"
     ]
    }
   ],
   "source": []
  },
  {
   "cell_type": "code",
   "execution_count": 16,
   "metadata": {},
   "outputs": [
    {
     "name": "stderr",
     "output_type": "stream",
     "text": [
      "[Stage 21:===============>  (7 + 1) / 8][Stage 22:>                 (0 + 7) / 8]\r"
     ]
    },
    {
     "name": "stdout",
     "output_type": "stream",
     "text": [
      "+---------+--------+--------+-------------------+--------------------+---------+--------+----+-----------------+-----+---------+\n",
      "|speciesId| dataset|surveyId|           lat_proj|            lon_proj|      lat|     lon|year|geoUncertaintyInM|count|log_bin_2|\n",
      "+---------+--------+--------+-------------------+--------------------+---------+--------+----+-----------------+-----+---------+\n",
      "|  10024.0|pa_train| 3493784|-1636995.1215402242|  1.63134377355146E7| 52.50813|13.00049|2017|              5.0| 9167|       13|\n",
      "|  10024.0|      po|   59557|-1594713.3380299946|1.6878330236158393E7| 56.90557|9.571581|2021|              3.0| 9167|       13|\n",
      "|  10024.0|      po|  545236|-1680000.0019777962| 1.675711155307765E7| 55.64893|9.396588|2019|              3.0| 9167|       13|\n",
      "|  10024.0|pa_train| 1727576| -2101717.142513414|1.6516045479598204E7|52.071601|6.086648|2017|              3.0| 9167|       13|\n",
      "|  10024.0|pa_train| 1868866|-1504141.4227291741|  1.66830569039452E7| 55.83221|12.26147|2018|             10.0| 9167|       13|\n",
      "|  10024.0|      po|  521041|-1582449.6678293445|1.6656933357462356E7| 55.31818| 11.4089|2019|              3.0| 9167|       13|\n",
      "|  10024.0|pa_train| 3655367|-1612841.4857014497| 1.681213916889623E7| 56.34165| 9.85092|2019|             10.0| 9167|       13|\n",
      "|  10024.0|pa_train|  291412|-1579090.9689627136|1.6834567355652113E7| 56.65175|10.12556|2017|             10.0| 9167|       13|\n",
      "|  10024.0|pa_train| 2421125| -2156810.301204977|1.6434276292399745E7|51.255582|6.050011|2017|              3.0| 9167|       13|\n",
      "|  10024.0|pa_train| 3590182|-1590077.3866587225|1.6907160308048364E7| 57.13666| 9.40231|2019|             10.0| 9167|       13|\n",
      "|  10024.0|pa_train| 1859787| -1623269.114945307| 1.679989404647414E7| 56.20684| 9.80803|2017|             10.0| 9167|       13|\n",
      "|  10024.0|pa_train| 3113271|-1539717.5285320466|1.6897182273527775E7| 57.28278|10.16343|2018|             10.0| 9167|       13|\n",
      "|  10024.0|pa_train| 2806987|-1648973.0446541505|1.6906660844485603E7| 56.87224| 8.62189|2020|             10.0| 9167|       13|\n",
      "|  10024.0|pa_train| 3054093|-1610367.3683533412|1.6915728497628305E7| 57.10962| 9.06096|2017|             10.0| 9167|       13|\n",
      "|  10024.0|pa_train|  914042|-1682048.4714642954| 1.688020971812409E7|  56.5335| 8.40239|2018|             10.0| 9167|       13|\n",
      "|  10024.0|pa_train|  570922| -2241113.742901186|1.6453517821306247E7| 51.01367| 4.98409|2017|              0.0| 9167|       13|\n",
      "|  10024.0|pa_train|  487275|-1533083.0659796721| 1.689276773878243E7| 57.27881|10.28895|2018|             10.0| 9167|       13|\n",
      "|  10024.0|pa_train| 2409015| -1615240.723642494|1.6867128643994227E7| 56.73399| 9.38715|2018|             10.0| 9167|       13|\n",
      "|  10024.0|pa_train| 2160197| -1666164.997721965| 1.686244163326977E7| 56.47573| 8.75295|2019|             10.0| 9167|       13|\n",
      "|  10024.0|pa_train| 1605779|-1595848.9658596963|1.6878094643806525E7| 56.89889| 9.55827|2017|             10.0| 9167|       13|\n",
      "+---------+--------+--------+-------------------+--------------------+---------+--------+----+-----------------+-----+---------+\n",
      "only showing top 20 rows\n",
      "\n"
     ]
    },
    {
     "name": "stderr",
     "output_type": "stream",
     "text": [
      "                                                                                \r"
     ]
    }
   ],
   "source": [
    "metadata_count.filter(metadata_count.speciesId == 10024).show()"
   ]
  },
  {
   "cell_type": "code",
   "execution_count": 61,
   "metadata": {},
   "outputs": [
    {
     "name": "stdout",
     "output_type": "stream",
     "text": [
      "Removing gs://dsgt-clef-geolifeclef-2024/data/processed/metadata_split/#1715406901939546...\n",
      "Removing gs://dsgt-clef-geolifeclef-2024/data/processed/metadata_split/_SUCCESS#1715406902119203...\n",
      "Removing gs://dsgt-clef-geolifeclef-2024/data/processed/metadata_split/log_bin_2=0/part-00000-258bcaab-9d0e-4aab-b175-1347e636b05c.c000.snappy.parquet#1715406888605441...\n",
      "Removing gs://dsgt-clef-geolifeclef-2024/data/processed/metadata_split/log_bin_2=0/part-00001-258bcaab-9d0e-4aab-b175-1347e636b05c.c000.snappy.parquet#1715406891348213...\n",
      "/ [4 objects]                                                                   \n",
      "==> NOTE: You are performing a sequence of gsutil operations that may\n",
      "run significantly faster if you instead use gsutil -m rm ... Please\n",
      "see the -m section under \"gsutil help options\" for further information\n",
      "about when gsutil -m can be advantageous.\n",
      "\n",
      "Removing gs://dsgt-clef-geolifeclef-2024/data/processed/metadata_split/log_bin_2=0/part-00002-258bcaab-9d0e-4aab-b175-1347e636b05c.c000.snappy.parquet#1715406895002336...\n",
      "Removing gs://dsgt-clef-geolifeclef-2024/data/processed/metadata_split/log_bin_2=0/part-00003-258bcaab-9d0e-4aab-b175-1347e636b05c.c000.snappy.parquet#1715406898506930...\n",
      "Removing gs://dsgt-clef-geolifeclef-2024/data/processed/metadata_split/log_bin_2=1/part-00000-258bcaab-9d0e-4aab-b175-1347e636b05c.c000.snappy.parquet#1715406888836664...\n",
      "Removing gs://dsgt-clef-geolifeclef-2024/data/processed/metadata_split/log_bin_2=1/part-00001-258bcaab-9d0e-4aab-b175-1347e636b05c.c000.snappy.parquet#1715406891583737...\n",
      "Removing gs://dsgt-clef-geolifeclef-2024/data/processed/metadata_split/log_bin_2=1/part-00002-258bcaab-9d0e-4aab-b175-1347e636b05c.c000.snappy.parquet#1715406895222852...\n",
      "Removing gs://dsgt-clef-geolifeclef-2024/data/processed/metadata_split/log_bin_2=1/part-00003-258bcaab-9d0e-4aab-b175-1347e636b05c.c000.snappy.parquet#1715406898721080...\n",
      "Removing gs://dsgt-clef-geolifeclef-2024/data/processed/metadata_split/log_bin_2=10/part-00000-258bcaab-9d0e-4aab-b175-1347e636b05c.c000.snappy.parquet#1715406890426073...\n",
      "Removing gs://dsgt-clef-geolifeclef-2024/data/processed/metadata_split/log_bin_2=10/part-00001-258bcaab-9d0e-4aab-b175-1347e636b05c.c000.snappy.parquet#1715406893771266...\n",
      "Removing gs://dsgt-clef-geolifeclef-2024/data/processed/metadata_split/log_bin_2=10/part-00002-258bcaab-9d0e-4aab-b175-1347e636b05c.c000.snappy.parquet#1715406897388488...\n",
      "Removing gs://dsgt-clef-geolifeclef-2024/data/processed/metadata_split/log_bin_2=10/part-00003-258bcaab-9d0e-4aab-b175-1347e636b05c.c000.snappy.parquet#1715406900712384...\n",
      "Removing gs://dsgt-clef-geolifeclef-2024/data/processed/metadata_split/log_bin_2=11/part-00000-258bcaab-9d0e-4aab-b175-1347e636b05c.c000.snappy.parquet#1715406890562827...\n",
      "Removing gs://dsgt-clef-geolifeclef-2024/data/processed/metadata_split/log_bin_2=11/part-00001-258bcaab-9d0e-4aab-b175-1347e636b05c.c000.snappy.parquet#1715406894003341...\n",
      "Removing gs://dsgt-clef-geolifeclef-2024/data/processed/metadata_split/log_bin_2=11/part-00002-258bcaab-9d0e-4aab-b175-1347e636b05c.c000.snappy.parquet#1715406897598864...\n",
      "Removing gs://dsgt-clef-geolifeclef-2024/data/processed/metadata_split/log_bin_2=11/part-00003-258bcaab-9d0e-4aab-b175-1347e636b05c.c000.snappy.parquet#1715406900950118...\n",
      "Removing gs://dsgt-clef-geolifeclef-2024/data/processed/metadata_split/log_bin_2=12/part-00000-258bcaab-9d0e-4aab-b175-1347e636b05c.c000.snappy.parquet#1715406890729166...\n",
      "Removing gs://dsgt-clef-geolifeclef-2024/data/processed/metadata_split/log_bin_2=12/part-00001-258bcaab-9d0e-4aab-b175-1347e636b05c.c000.snappy.parquet#1715406894213662...\n",
      "Removing gs://dsgt-clef-geolifeclef-2024/data/processed/metadata_split/log_bin_2=12/part-00002-258bcaab-9d0e-4aab-b175-1347e636b05c.c000.snappy.parquet#1715406897810546...\n",
      "Removing gs://dsgt-clef-geolifeclef-2024/data/processed/metadata_split/log_bin_2=12/part-00003-258bcaab-9d0e-4aab-b175-1347e636b05c.c000.snappy.parquet#1715406901204185...\n",
      "Removing gs://dsgt-clef-geolifeclef-2024/data/processed/metadata_split/log_bin_2=13/part-00000-258bcaab-9d0e-4aab-b175-1347e636b05c.c000.snappy.parquet#1715406890914174...\n",
      "Removing gs://dsgt-clef-geolifeclef-2024/data/processed/metadata_split/log_bin_2=13/part-00001-258bcaab-9d0e-4aab-b175-1347e636b05c.c000.snappy.parquet#1715406894437390...\n",
      "Removing gs://dsgt-clef-geolifeclef-2024/data/processed/metadata_split/log_bin_2=13/part-00002-258bcaab-9d0e-4aab-b175-1347e636b05c.c000.snappy.parquet#1715406898025016...\n",
      "Removing gs://dsgt-clef-geolifeclef-2024/data/processed/metadata_split/log_bin_2=13/part-00003-258bcaab-9d0e-4aab-b175-1347e636b05c.c000.snappy.parquet#1715406901435828...\n",
      "Removing gs://dsgt-clef-geolifeclef-2024/data/processed/metadata_split/log_bin_2=14/part-00000-258bcaab-9d0e-4aab-b175-1347e636b05c.c000.snappy.parquet#1715406891076673...\n",
      "Removing gs://dsgt-clef-geolifeclef-2024/data/processed/metadata_split/log_bin_2=14/part-00001-258bcaab-9d0e-4aab-b175-1347e636b05c.c000.snappy.parquet#1715406894717557...\n",
      "Removing gs://dsgt-clef-geolifeclef-2024/data/processed/metadata_split/log_bin_2=14/part-00002-258bcaab-9d0e-4aab-b175-1347e636b05c.c000.snappy.parquet#1715406898247427...\n",
      "Removing gs://dsgt-clef-geolifeclef-2024/data/processed/metadata_split/log_bin_2=14/part-00003-258bcaab-9d0e-4aab-b175-1347e636b05c.c000.snappy.parquet#1715406901678421...\n",
      "Removing gs://dsgt-clef-geolifeclef-2024/data/processed/metadata_split/log_bin_2=2/part-00000-258bcaab-9d0e-4aab-b175-1347e636b05c.c000.snappy.parquet#1715406889012070...\n",
      "Removing gs://dsgt-clef-geolifeclef-2024/data/processed/metadata_split/log_bin_2=2/part-00001-258bcaab-9d0e-4aab-b175-1347e636b05c.c000.snappy.parquet#1715406891822449...\n",
      "Removing gs://dsgt-clef-geolifeclef-2024/data/processed/metadata_split/log_bin_2=2/part-00002-258bcaab-9d0e-4aab-b175-1347e636b05c.c000.snappy.parquet#1715406895454868...\n",
      "Removing gs://dsgt-clef-geolifeclef-2024/data/processed/metadata_split/log_bin_2=2/part-00003-258bcaab-9d0e-4aab-b175-1347e636b05c.c000.snappy.parquet#1715406898940477...\n",
      "Removing gs://dsgt-clef-geolifeclef-2024/data/processed/metadata_split/log_bin_2=3/part-00000-258bcaab-9d0e-4aab-b175-1347e636b05c.c000.snappy.parquet#1715406889186302...\n",
      "Removing gs://dsgt-clef-geolifeclef-2024/data/processed/metadata_split/log_bin_2=3/part-00001-258bcaab-9d0e-4aab-b175-1347e636b05c.c000.snappy.parquet#1715406892086080...\n",
      "Removing gs://dsgt-clef-geolifeclef-2024/data/processed/metadata_split/log_bin_2=3/part-00002-258bcaab-9d0e-4aab-b175-1347e636b05c.c000.snappy.parquet#1715406895697497...\n",
      "Removing gs://dsgt-clef-geolifeclef-2024/data/processed/metadata_split/log_bin_2=3/part-00003-258bcaab-9d0e-4aab-b175-1347e636b05c.c000.snappy.parquet#1715406899177394...\n",
      "Removing gs://dsgt-clef-geolifeclef-2024/data/processed/metadata_split/log_bin_2=4/part-00000-258bcaab-9d0e-4aab-b175-1347e636b05c.c000.snappy.parquet#1715406889451047...\n",
      "Removing gs://dsgt-clef-geolifeclef-2024/data/processed/metadata_split/log_bin_2=4/part-00001-258bcaab-9d0e-4aab-b175-1347e636b05c.c000.snappy.parquet#1715406892323482...\n",
      "Removing gs://dsgt-clef-geolifeclef-2024/data/processed/metadata_split/log_bin_2=4/part-00002-258bcaab-9d0e-4aab-b175-1347e636b05c.c000.snappy.parquet#1715406895939057...\n",
      "Removing gs://dsgt-clef-geolifeclef-2024/data/processed/metadata_split/log_bin_2=4/part-00003-258bcaab-9d0e-4aab-b175-1347e636b05c.c000.snappy.parquet#1715406899383588...\n",
      "Removing gs://dsgt-clef-geolifeclef-2024/data/processed/metadata_split/log_bin_2=5/part-00000-258bcaab-9d0e-4aab-b175-1347e636b05c.c000.snappy.parquet#1715406889609233...\n",
      "Removing gs://dsgt-clef-geolifeclef-2024/data/processed/metadata_split/log_bin_2=5/part-00001-258bcaab-9d0e-4aab-b175-1347e636b05c.c000.snappy.parquet#1715406892548481...\n",
      "Removing gs://dsgt-clef-geolifeclef-2024/data/processed/metadata_split/log_bin_2=5/part-00002-258bcaab-9d0e-4aab-b175-1347e636b05c.c000.snappy.parquet#1715406896255543...\n",
      "Removing gs://dsgt-clef-geolifeclef-2024/data/processed/metadata_split/log_bin_2=5/part-00003-258bcaab-9d0e-4aab-b175-1347e636b05c.c000.snappy.parquet#1715406899606504...\n",
      "Removing gs://dsgt-clef-geolifeclef-2024/data/processed/metadata_split/log_bin_2=6/part-00000-258bcaab-9d0e-4aab-b175-1347e636b05c.c000.snappy.parquet#1715406889770854...\n",
      "Removing gs://dsgt-clef-geolifeclef-2024/data/processed/metadata_split/log_bin_2=6/part-00001-258bcaab-9d0e-4aab-b175-1347e636b05c.c000.snappy.parquet#1715406892784089...\n",
      "Removing gs://dsgt-clef-geolifeclef-2024/data/processed/metadata_split/log_bin_2=6/part-00002-258bcaab-9d0e-4aab-b175-1347e636b05c.c000.snappy.parquet#1715406896502901...\n",
      "Removing gs://dsgt-clef-geolifeclef-2024/data/processed/metadata_split/log_bin_2=6/part-00003-258bcaab-9d0e-4aab-b175-1347e636b05c.c000.snappy.parquet#1715406899827643...\n",
      "Removing gs://dsgt-clef-geolifeclef-2024/data/processed/metadata_split/log_bin_2=7/part-00000-258bcaab-9d0e-4aab-b175-1347e636b05c.c000.snappy.parquet#1715406889937885...\n",
      "Removing gs://dsgt-clef-geolifeclef-2024/data/processed/metadata_split/log_bin_2=7/part-00001-258bcaab-9d0e-4aab-b175-1347e636b05c.c000.snappy.parquet#1715406893017855...\n",
      "Removing gs://dsgt-clef-geolifeclef-2024/data/processed/metadata_split/log_bin_2=7/part-00002-258bcaab-9d0e-4aab-b175-1347e636b05c.c000.snappy.parquet#1715406896720086...\n",
      "Removing gs://dsgt-clef-geolifeclef-2024/data/processed/metadata_split/log_bin_2=7/part-00003-258bcaab-9d0e-4aab-b175-1347e636b05c.c000.snappy.parquet#1715406900076976...\n",
      "Removing gs://dsgt-clef-geolifeclef-2024/data/processed/metadata_split/log_bin_2=8/part-00000-258bcaab-9d0e-4aab-b175-1347e636b05c.c000.snappy.parquet#1715406890116151...\n",
      "Removing gs://dsgt-clef-geolifeclef-2024/data/processed/metadata_split/log_bin_2=8/part-00001-258bcaab-9d0e-4aab-b175-1347e636b05c.c000.snappy.parquet#1715406893312110...\n",
      "Removing gs://dsgt-clef-geolifeclef-2024/data/processed/metadata_split/log_bin_2=8/part-00002-258bcaab-9d0e-4aab-b175-1347e636b05c.c000.snappy.parquet#1715406896941532...\n",
      "Removing gs://dsgt-clef-geolifeclef-2024/data/processed/metadata_split/log_bin_2=8/part-00003-258bcaab-9d0e-4aab-b175-1347e636b05c.c000.snappy.parquet#1715406900285113...\n",
      "Removing gs://dsgt-clef-geolifeclef-2024/data/processed/metadata_split/log_bin_2=9/part-00000-258bcaab-9d0e-4aab-b175-1347e636b05c.c000.snappy.parquet#1715406890274375...\n",
      "Removing gs://dsgt-clef-geolifeclef-2024/data/processed/metadata_split/log_bin_2=9/part-00001-258bcaab-9d0e-4aab-b175-1347e636b05c.c000.snappy.parquet#1715406893541255...\n",
      "Removing gs://dsgt-clef-geolifeclef-2024/data/processed/metadata_split/log_bin_2=9/part-00002-258bcaab-9d0e-4aab-b175-1347e636b05c.c000.snappy.parquet#1715406897161332...\n",
      "Removing gs://dsgt-clef-geolifeclef-2024/data/processed/metadata_split/log_bin_2=9/part-00003-258bcaab-9d0e-4aab-b175-1347e636b05c.c000.snappy.parquet#1715406900496241...\n",
      "/ [62 objects]                                                                  \n",
      "==> NOTE: You are performing a sequence of gsutil operations that may\n",
      "run significantly faster if you instead use gsutil -m rm ... Please\n",
      "see the -m section under \"gsutil help options\" for further information\n",
      "about when gsutil -m can be advantageous.\n",
      "\n",
      "\n",
      "Operation completed over 62 objects.                                             \n"
     ]
    }
   ],
   "source": [
    "!gsutil rm -r gs://dsgt-clef-geolifeclef-2024/data/processed/metadata_split/*"
   ]
  },
  {
   "cell_type": "code",
   "execution_count": null,
   "metadata": {},
   "outputs": [],
   "source": []
  },
  {
   "cell_type": "code",
   "execution_count": 49,
   "metadata": {},
   "outputs": [
    {
     "name": "stderr",
     "output_type": "stream",
     "text": [
      "                                                                                \r"
     ]
    }
   ],
   "source": [
    "log_base_name = f\"log_bin_{log_base}\"\n",
    "output_path = \"gs://dsgt-clef-geolifeclef-2024/data/processed/metadata_split\"\n",
    "\n",
    "metadata_count.write.partitionBy(log_base_name).format(\"parquet\").save(output_path)"
   ]
  },
  {
   "cell_type": "code",
   "execution_count": 62,
   "metadata": {},
   "outputs": [
    {
     "name": "stdout",
     "output_type": "stream",
     "text": [
      "gs://dsgt-clef-geolifeclef-2024/data/processed/metadata_split/\n",
      "gs://dsgt-clef-geolifeclef-2024/data/processed/metadata_split/_SUCCESS\n",
      "gs://dsgt-clef-geolifeclef-2024/data/processed/metadata_split/log_bin_2=0/\n",
      "gs://dsgt-clef-geolifeclef-2024/data/processed/metadata_split/log_bin_2=1/\n",
      "gs://dsgt-clef-geolifeclef-2024/data/processed/metadata_split/log_bin_2=10/\n",
      "gs://dsgt-clef-geolifeclef-2024/data/processed/metadata_split/log_bin_2=11/\n",
      "gs://dsgt-clef-geolifeclef-2024/data/processed/metadata_split/log_bin_2=12/\n",
      "gs://dsgt-clef-geolifeclef-2024/data/processed/metadata_split/log_bin_2=13/\n",
      "gs://dsgt-clef-geolifeclef-2024/data/processed/metadata_split/log_bin_2=14/\n",
      "gs://dsgt-clef-geolifeclef-2024/data/processed/metadata_split/log_bin_2=2/\n",
      "gs://dsgt-clef-geolifeclef-2024/data/processed/metadata_split/log_bin_2=3/\n",
      "gs://dsgt-clef-geolifeclef-2024/data/processed/metadata_split/log_bin_2=4/\n",
      "gs://dsgt-clef-geolifeclef-2024/data/processed/metadata_split/log_bin_2=5/\n",
      "gs://dsgt-clef-geolifeclef-2024/data/processed/metadata_split/log_bin_2=6/\n",
      "gs://dsgt-clef-geolifeclef-2024/data/processed/metadata_split/log_bin_2=7/\n",
      "gs://dsgt-clef-geolifeclef-2024/data/processed/metadata_split/log_bin_2=8/\n",
      "gs://dsgt-clef-geolifeclef-2024/data/processed/metadata_split/log_bin_2=9/\n"
     ]
    }
   ],
   "source": [
    "!gsutil ls gs://dsgt-clef-geolifeclef-2024/data/processed/metadata_split"
   ]
  },
  {
   "cell_type": "code",
   "execution_count": 31,
   "metadata": {},
   "outputs": [
    {
     "data": {
      "text/plain": [
       "['gs://dsgt-clef-geolifeclef-2024/data/processed/metadata_split/log_bin_2=3',\n",
       " 'gs://dsgt-clef-geolifeclef-2024/data/processed/metadata_split/log_bin_2=0',\n",
       " 'gs://dsgt-clef-geolifeclef-2024/data/processed/metadata_split/log_bin_2=7',\n",
       " 'gs://dsgt-clef-geolifeclef-2024/data/processed/metadata_split/log_bin_2=2',\n",
       " 'gs://dsgt-clef-geolifeclef-2024/data/processed/metadata_split/log_bin_2=11',\n",
       " 'gs://dsgt-clef-geolifeclef-2024/data/processed/metadata_split/log_bin_2=5',\n",
       " 'gs://dsgt-clef-geolifeclef-2024/data/processed/metadata_split/log_bin_2=9',\n",
       " 'gs://dsgt-clef-geolifeclef-2024/data/processed/metadata_split/log_bin_2=6',\n",
       " 'gs://dsgt-clef-geolifeclef-2024/data/processed/metadata_split/log_bin_2=1',\n",
       " 'gs://dsgt-clef-geolifeclef-2024/data/processed/metadata_split/log_bin_2=12',\n",
       " 'gs://dsgt-clef-geolifeclef-2024/data/processed/metadata_split/log_bin_2=14',\n",
       " 'gs://dsgt-clef-geolifeclef-2024/data/processed/metadata_split/log_bin_2=13',\n",
       " 'gs://dsgt-clef-geolifeclef-2024/data/processed/metadata_split/log_bin_2=4',\n",
       " 'gs://dsgt-clef-geolifeclef-2024/data/processed/metadata_split/log_bin_2=10',\n",
       " 'gs://dsgt-clef-geolifeclef-2024/data/processed/metadata_split/log_bin_2=8']"
      ]
     },
     "execution_count": 31,
     "metadata": {},
     "output_type": "execute_result"
    }
   ],
   "source": [
    "import os\n",
    "from google.cloud import storage\n",
    "\n",
    "\n",
    "def list_blobs_with_prefix(bucket_name, prefix, delimiter=\"/\"):\n",
    "    \"\"\"List all blobs in a bucket that begin with the prefix.\"\"\"\n",
    "    storage_client = storage.Client()\n",
    "\n",
    "    # Ensure prefix ends with a delimiter if we're trying to list \"directories\"\n",
    "    if not prefix.endswith(delimiter):\n",
    "        prefix += delimiter\n",
    "\n",
    "    blobs = storage_client.list_blobs(bucket_name, prefix=prefix, delimiter=delimiter)\n",
    "\n",
    "    for _ in blobs:\n",
    "        pass\n",
    "\n",
    "    prefixes = []\n",
    "    if hasattr(blobs, \"prefixes\"):\n",
    "        for prefix in blobs.prefixes:\n",
    "            if prefix.endswith(delimiter):\n",
    "                prefix = prefix[:-1]\n",
    "            prefixes.append(os.path.join(\"gs://\" + bucket_name, prefix))\n",
    "    else:\n",
    "        print(\"No subdirectories found.\")\n",
    "\n",
    "    return prefixes\n",
    "\n",
    "\n",
    "# Example usage\n",
    "bucket_name = \"dsgt-clef-geolifeclef-2024\"\n",
    "prefix = \"data/processed/metadata_split\"\n",
    "delimiter = \"/\"  # This helps to list \"directories\"\n",
    "\n",
    "directories = list_blobs_with_prefix(bucket_name, prefix, delimiter)\n",
    "directories"
   ]
  },
  {
   "cell_type": "code",
   "execution_count": 40,
   "metadata": {},
   "outputs": [
    {
     "name": "stdout",
     "output_type": "stream",
     "text": [
      "+---------+-------+--------+-------------------+--------------------+--------+---------+----+-----------------+-----+\n",
      "|speciesId|dataset|surveyId|           lat_proj|            lon_proj|     lat|      lon|year|geoUncertaintyInM|count|\n",
      "+---------+-------+--------+-------------------+--------------------+--------+---------+----+-----------------+-----+\n",
      "|   7313.0|     po|  265272| -2290378.181832812| 1.594915249309798E7|47.25988| 7.724804|2021|            64.89|   69|\n",
      "|   5776.0|     po|  168512|-1366058.7420759553|1.7148445478555515E7|59.89579| 10.52286|2021|             10.0|   67|\n",
      "|   7313.0|     po| 1143526| -1456174.168985866|1.6641094676949449E7|55.70369| 13.20311|2018|             10.0|   69|\n",
      "|   7313.0|     po| 1567398| -2266047.021621731|1.6435127643072981E7|50.77511|  4.84362|2021|              2.0|   69|\n",
      "|   5776.0|     po|  926006|-1363802.9619077828|1.7131540385843247E7|59.78042| 10.70336|2017|             50.0|   67|\n",
      "|   7313.0|     po| 1546882|-2232181.1081293416|1.5932381318099894E7|47.37057| 8.438264|2020|             4.41|   69|\n",
      "|   5776.0|     po| 1745994|-2611437.8413508083| 1.670514240986408E7|50.90825|-0.774154|2021|             65.0|   67|\n",
      "|   5776.0|     po| 2428359| -2429652.417700474|1.5729943062029459E7|45.14321| 7.535657|2021|             19.0|   67|\n",
      "|   5776.0|     po| 1809091| -1705738.241810312|1.5262390256767679E7|44.06065| 17.45821|2020|             65.0|   67|\n",
      "|   7313.0|     po| 2370673|-1456197.9501186444|1.6641143527639996E7|55.70397| 13.20245|2018|             25.0|   69|\n",
      "|   5776.0|     po| 2483908| -2214831.692349192|1.5433347990333147E7|43.76183| 11.25193|2019|              7.0|   67|\n",
      "|   7313.0|     po| 3286916|-2185068.3153566923|1.5940412793159546E7|47.61398| 8.895396|2021|             24.0|   69|\n",
      "|   7313.0|     po| 3295493|-2223934.6853370485| 1.594482022879647E7|47.49301| 8.453708|2021|             3.22|   69|\n",
      "|   5776.0|     po| 2861634|-1374169.6828266873|1.7137184243048117E7|59.77679| 10.50196|2019|              5.0|   67|\n",
      "|   5776.0|     po| 3125586| -2493133.965166414|1.6745116547976386E7|51.75176| 0.100338|2021|             14.0|   67|\n",
      "|   5776.0|     po| 3339123|-2035011.3710115878|1.5072464873793006E7|41.58927| 14.69738|2020|              4.9|   67|\n",
      "|   7313.0|     po|  449613|   -2272498.5433983|  1.65145038320067E7|51.28864|  4.20217|2021|             25.0|   69|\n",
      "|   7313.0|     po|  173443| -2250790.358601388|1.5933671706455428E7|47.30633| 8.233223|2021|            71.43|   69|\n",
      "|   7313.0|     po| 1277369|-1354590.1876919626| 1.714598107637924E7|59.92785| 10.71362|2017|              5.0|   69|\n",
      "|   7313.0|     po|  903657|-2312971.3026298326|1.6472474597500537E7|50.81765|  4.07079|2021|              5.0|   69|\n",
      "+---------+-------+--------+-------------------+--------------------+--------+---------+----+-----------------+-----+\n",
      "only showing top 20 rows\n",
      "\n"
     ]
    }
   ],
   "source": [
    "test_df = spark.read.parquet(directories[7])\n",
    "test_df.show()"
   ]
  },
  {
   "cell_type": "code",
   "execution_count": 41,
   "metadata": {},
   "outputs": [
    {
     "data": {
      "text/plain": [
       "[146,\n",
       " 276,\n",
       " 374,\n",
       " 402,\n",
       " 415,\n",
       " 461,\n",
       " 489,\n",
       " 527,\n",
       " 615,\n",
       " 851,\n",
       " 970,\n",
       " 996,\n",
       " 1155,\n",
       " 1294,\n",
       " 1376,\n",
       " 1396,\n",
       " 1403,\n",
       " 1469,\n",
       " 1486,\n",
       " 1603,\n",
       " 1642,\n",
       " 1650,\n",
       " 1719,\n",
       " 1741,\n",
       " 2179,\n",
       " 2256,\n",
       " 2369,\n",
       " 2472,\n",
       " 2499,\n",
       " 2599,\n",
       " 2627,\n",
       " 2775,\n",
       " 2795,\n",
       " 2809,\n",
       " 2811,\n",
       " 2884,\n",
       " 2944,\n",
       " 3014,\n",
       " 3070,\n",
       " 3209,\n",
       " 3311,\n",
       " 3312,\n",
       " 3508,\n",
       " 3526,\n",
       " 3566,\n",
       " 3594,\n",
       " 3619,\n",
       " 3661,\n",
       " 3684,\n",
       " 3783,\n",
       " 3887,\n",
       " 3898,\n",
       " 4186,\n",
       " 4231,\n",
       " 4514,\n",
       " 4544,\n",
       " 4580,\n",
       " 4606,\n",
       " 4845,\n",
       " 5316,\n",
       " 5386,\n",
       " 5456,\n",
       " 5508,\n",
       " 5518,\n",
       " 5719,\n",
       " 5948,\n",
       " 6045,\n",
       " 6188,\n",
       " 6376,\n",
       " 6414,\n",
       " 6444,\n",
       " 6519,\n",
       " 6600,\n",
       " 6799,\n",
       " 7186,\n",
       " 7305,\n",
       " 7355,\n",
       " 7508,\n",
       " 7865,\n",
       " 7866,\n",
       " 7917,\n",
       " 8083,\n",
       " 8146,\n",
       " 8239,\n",
       " 8352,\n",
       " 8543,\n",
       " 8563,\n",
       " 8652,\n",
       " 8669,\n",
       " 8807,\n",
       " 8828,\n",
       " 8837,\n",
       " 8872,\n",
       " 9154,\n",
       " 9270,\n",
       " 9321,\n",
       " 9325,\n",
       " 9339,\n",
       " 9402,\n",
       " 9413,\n",
       " 9452,\n",
       " 9493,\n",
       " 9529,\n",
       " 9554,\n",
       " 9576,\n",
       " 9639,\n",
       " 9707,\n",
       " 9759,\n",
       " 9789,\n",
       " 9805,\n",
       " 9811,\n",
       " 9934,\n",
       " 9943,\n",
       " 10108,\n",
       " 10212,\n",
       " 10294,\n",
       " 10548,\n",
       " 10611,\n",
       " 10629,\n",
       " 10666,\n",
       " 10826,\n",
       " 10900,\n",
       " 10925,\n",
       " 11035,\n",
       " 11039,\n",
       " 11134,\n",
       " 11260,\n",
       " 11295,\n",
       " 11579,\n",
       " 11602,\n",
       " 11682,\n",
       " 11719,\n",
       " 11788,\n",
       " 11823,\n",
       " 11897,\n",
       " 11925,\n",
       " 11996,\n",
       " 12000,\n",
       " 12340,\n",
       " 12372,\n",
       " 12419,\n",
       " 12544,\n",
       " 12833,\n",
       " 12875,\n",
       " 13151,\n",
       " 13195,\n",
       " 13302,\n",
       " 13411,\n",
       " 13650,\n",
       " 13685,\n",
       " 13707,\n",
       " 13770,\n",
       " 13878,\n",
       " 13929,\n",
       " 14006,\n",
       " 14194,\n",
       " 14305,\n",
       " 14321,\n",
       " 14362,\n",
       " 14386,\n",
       " 14390,\n",
       " 14398,\n",
       " 14411,\n",
       " 14422,\n",
       " 14463,\n",
       " 14520,\n",
       " 14551,\n",
       " 14671,\n",
       " 14957,\n",
       " 14988,\n",
       " 15027,\n",
       " 15127,\n",
       " 15149,\n",
       " 15261,\n",
       " 15557,\n",
       " 15574,\n",
       " 15601,\n",
       " 15629,\n",
       " 15690,\n",
       " 15692,\n",
       " 15720,\n",
       " 15750,\n",
       " 15776,\n",
       " 15789,\n",
       " 15824,\n",
       " 15829,\n",
       " 15902,\n",
       " 15903,\n",
       " 15904,\n",
       " 15925,\n",
       " 15939,\n",
       " 16039,\n",
       " 16134,\n",
       " 16149,\n",
       " 16336,\n",
       " 16369,\n",
       " 16616,\n",
       " 16686,\n",
       " 16689,\n",
       " 16723,\n",
       " 16764,\n",
       " 16793,\n",
       " 16797,\n",
       " 16807,\n",
       " 17039,\n",
       " 17074,\n",
       " 17247,\n",
       " 17269,\n",
       " 17390,\n",
       " 17428,\n",
       " 17430,\n",
       " 17576,\n",
       " 17577,\n",
       " 17694,\n",
       " 17821,\n",
       " 17941,\n",
       " 17971,\n",
       " 18117,\n",
       " 18166,\n",
       " 18238,\n",
       " 18385,\n",
       " 18419,\n",
       " 18446,\n",
       " 18491,\n",
       " 18505,\n",
       " 18601,\n",
       " 18662,\n",
       " 18682,\n",
       " 18691,\n",
       " 18782,\n",
       " 18836,\n",
       " 18941,\n",
       " 18954,\n",
       " 19027,\n",
       " 19076,\n",
       " 19152,\n",
       " 19326,\n",
       " 19496,\n",
       " 19546,\n",
       " 19632,\n",
       " 19683,\n",
       " 19796,\n",
       " 19850,\n",
       " 19997,\n",
       " 19999,\n",
       " 20006,\n",
       " 20110,\n",
       " 20246,\n",
       " 20248,\n",
       " 20267,\n",
       " 20301,\n",
       " 20339,\n",
       " 20481,\n",
       " 20677,\n",
       " 20833,\n",
       " 20856,\n",
       " 21047,\n",
       " 21193,\n",
       " 21215,\n",
       " 21218,\n",
       " 21227,\n",
       " 21457,\n",
       " 21492,\n",
       " 21542,\n",
       " 21618,\n",
       " 21647,\n",
       " 21774,\n",
       " 21978,\n",
       " 21985,\n",
       " 22007,\n",
       " 22208,\n",
       " 22218,\n",
       " 22264,\n",
       " 22368,\n",
       " 22382,\n",
       " 22389,\n",
       " 22564,\n",
       " 22626,\n",
       " 23000,\n",
       " 23034,\n",
       " 23094,\n",
       " 23242,\n",
       " 23389,\n",
       " 23479,\n",
       " 23489,\n",
       " 23605,\n",
       " 23661,\n",
       " 23716,\n",
       " 23742,\n",
       " 23871,\n",
       " 23936,\n",
       " 23958,\n",
       " 23959,\n",
       " 24006,\n",
       " 24211,\n",
       " 24261,\n",
       " 24327,\n",
       " 24385,\n",
       " 24391,\n",
       " 24400,\n",
       " 24551,\n",
       " 24659,\n",
       " 24664,\n",
       " 24731,\n",
       " 24793,\n",
       " 25012,\n",
       " 25263,\n",
       " 25307,\n",
       " 25330,\n",
       " 25439,\n",
       " 25502,\n",
       " 25566,\n",
       " 25576,\n",
       " 25599,\n",
       " 25629,\n",
       " 25761,\n",
       " 25763,\n",
       " 25825,\n",
       " 25850,\n",
       " 25854,\n",
       " 25930,\n",
       " 25999,\n",
       " 26203,\n",
       " 26215,\n",
       " 26517,\n",
       " 26519,\n",
       " 26656,\n",
       " 26739,\n",
       " 26812,\n",
       " 26855,\n",
       " 26902,\n",
       " 27008,\n",
       " 27077,\n",
       " 27152,\n",
       " 27210,\n",
       " 27445,\n",
       " 27449,\n",
       " 27641,\n",
       " 27681,\n",
       " 27727,\n",
       " 27805,\n",
       " 27824,\n",
       " 27834,\n",
       " 27836,\n",
       " 27939,\n",
       " 28157,\n",
       " 28272,\n",
       " 28316,\n",
       " 28429,\n",
       " 28502,\n",
       " 28531,\n",
       " 28557,\n",
       " 28714,\n",
       " 28722,\n",
       " 28726,\n",
       " 28939,\n",
       " 28970,\n",
       " 28978,\n",
       " 28993,\n",
       " 29048,\n",
       " 29191,\n",
       " 29460,\n",
       " 29482,\n",
       " 29528,\n",
       " 29636,\n",
       " 29813,\n",
       " 29832,\n",
       " 29875,\n",
       " 29903,\n",
       " 29962,\n",
       " 30076,\n",
       " 30083,\n",
       " 30186,\n",
       " 30229,\n",
       " 30291,\n",
       " 30546,\n",
       " 30650,\n",
       " 30727,\n",
       " 30818,\n",
       " 30885,\n",
       " 30894,\n",
       " 30987,\n",
       " 31170,\n",
       " 31219,\n",
       " 31247,\n",
       " 31298,\n",
       " 31311,\n",
       " 31431,\n",
       " 31692,\n",
       " 31711,\n",
       " 31806,\n",
       " 31833,\n",
       " 31882,\n",
       " 32071,\n",
       " 32136,\n",
       " 32219,\n",
       " 32268,\n",
       " 32602,\n",
       " 32653,\n",
       " 32750,\n",
       " 32792,\n",
       " 32826,\n",
       " 32888,\n",
       " 33084,\n",
       " 33181,\n",
       " 33267,\n",
       " 33289,\n",
       " 33389,\n",
       " 33442,\n",
       " 33560,\n",
       " 33595,\n",
       " 33734,\n",
       " 33766,\n",
       " 33784,\n",
       " 33868,\n",
       " 33930,\n",
       " 33968,\n",
       " 34230,\n",
       " 34430,\n",
       " 34458,\n",
       " 34496,\n",
       " 34606,\n",
       " 34666,\n",
       " 34722,\n",
       " 34767,\n",
       " 34773,\n",
       " 34815,\n",
       " 34910,\n",
       " 34958,\n",
       " 35002,\n",
       " 35077,\n",
       " 35150,\n",
       " 35213,\n",
       " 35255,\n",
       " 35277,\n",
       " 35301,\n",
       " 35401,\n",
       " 35496,\n",
       " 35506,\n",
       " 35558,\n",
       " 35571,\n",
       " 35695,\n",
       " 35756,\n",
       " 35854,\n",
       " 35954,\n",
       " 36031,\n",
       " 36068,\n",
       " 36236,\n",
       " 36258,\n",
       " 36296,\n",
       " 36302,\n",
       " 36324,\n",
       " 36407,\n",
       " 36436,\n",
       " 36448,\n",
       " 36452,\n",
       " 36637,\n",
       " 36812,\n",
       " 36883,\n",
       " 37074,\n",
       " 37076,\n",
       " 37145,\n",
       " 37223,\n",
       " 37229,\n",
       " 37245,\n",
       " 37264,\n",
       " 37321,\n",
       " 37333,\n",
       " 37437,\n",
       " 37438,\n",
       " 37472,\n",
       " 37476,\n",
       " 37481,\n",
       " 37515,\n",
       " 37613,\n",
       " 37702,\n",
       " 37739,\n",
       " 37967,\n",
       " 38090,\n",
       " 38121,\n",
       " 38287,\n",
       " 38288,\n",
       " 38317,\n",
       " 38473,\n",
       " 38522,\n",
       " 38527,\n",
       " 38593,\n",
       " 38634,\n",
       " 38691,\n",
       " 38978,\n",
       " 39042,\n",
       " 39068,\n",
       " 39130,\n",
       " 39151,\n",
       " 39158,\n",
       " 39271,\n",
       " 39405,\n",
       " 39408,\n",
       " 39421,\n",
       " 39443,\n",
       " 39591,\n",
       " 39649,\n",
       " 39659,\n",
       " 39673,\n",
       " 39675,\n",
       " 39734,\n",
       " 39879,\n",
       " 40053,\n",
       " 40065,\n",
       " 40192,\n",
       " 40198,\n",
       " 40244,\n",
       " 40321,\n",
       " 40381,\n",
       " 40419,\n",
       " 40669,\n",
       " 40675,\n",
       " 40722,\n",
       " 40771,\n",
       " 40942,\n",
       " 41092,\n",
       " 41109,\n",
       " 41146,\n",
       " 41252,\n",
       " 41257,\n",
       " 41366,\n",
       " 41396,\n",
       " 41487,\n",
       " 41558,\n",
       " 41585,\n",
       " 41902,\n",
       " 41948,\n",
       " 41968,\n",
       " 41970,\n",
       " 42038,\n",
       " 42110,\n",
       " 42135,\n",
       " 42168,\n",
       " 42254,\n",
       " 42417,\n",
       " 42441,\n",
       " 42451,\n",
       " 42460,\n",
       " 42592,\n",
       " 42603,\n",
       " 42696,\n",
       " 42745,\n",
       " 42964,\n",
       " 43101,\n",
       " 43109,\n",
       " 43111,\n",
       " 43123,\n",
       " 43194,\n",
       " 43200,\n",
       " 43364,\n",
       " 43421,\n",
       " 43480,\n",
       " 43488,\n",
       " 43566,\n",
       " 43716,\n",
       " 43903,\n",
       " 43979,\n",
       " 43993,\n",
       " 44089,\n",
       " 44099,\n",
       " 44112,\n",
       " 44243,\n",
       " 44287,\n",
       " 44288,\n",
       " 44444,\n",
       " 44457,\n",
       " 44464,\n",
       " 44527,\n",
       " 44619,\n",
       " 44667,\n",
       " 44714,\n",
       " 44792,\n",
       " 45026,\n",
       " 45125,\n",
       " 45129,\n",
       " 45178,\n",
       " 45284,\n",
       " 45459,\n",
       " 45505,\n",
       " 45545,\n",
       " 45554,\n",
       " 45801,\n",
       " 45882,\n",
       " 45961,\n",
       " 46068,\n",
       " 46070,\n",
       " 46206,\n",
       " 46215,\n",
       " 46278,\n",
       " 46344,\n",
       " 46358,\n",
       " 46656,\n",
       " 46704,\n",
       " 46771,\n",
       " 46885,\n",
       " 46906,\n",
       " 46994,\n",
       " 47006,\n",
       " 47111,\n",
       " 47225,\n",
       " 47511,\n",
       " 47606,\n",
       " 47612,\n",
       " 47704,\n",
       " 47726,\n",
       " 47775,\n",
       " 47907,\n",
       " 47916,\n",
       " 47983,\n",
       " 48156,\n",
       " 48170,\n",
       " 48239,\n",
       " 48442,\n",
       " 48519,\n",
       " 48529,\n",
       " 48593,\n",
       " 48622,\n",
       " 48624,\n",
       " 48671,\n",
       " 48702,\n",
       " 48729,\n",
       " 48749,\n",
       " 48760,\n",
       " 48770,\n",
       " 48816,\n",
       " 48818,\n",
       " 48861,\n",
       " 48905,\n",
       " 48942,\n",
       " 49070,\n",
       " 49280,\n",
       " 49336,\n",
       " 49385,\n",
       " 49435,\n",
       " 49443,\n",
       " 49564,\n",
       " 49577,\n",
       " 49619,\n",
       " 49695,\n",
       " 49715,\n",
       " 49751,\n",
       " 49770,\n",
       " 49866,\n",
       " 49872,\n",
       " 49988,\n",
       " 49997,\n",
       " 50220,\n",
       " 50358,\n",
       " 50462,\n",
       " 50565,\n",
       " 50599,\n",
       " 50695,\n",
       " 50750,\n",
       " 50955,\n",
       " 51018,\n",
       " 51050,\n",
       " 51100,\n",
       " 51325,\n",
       " 51411,\n",
       " 51623,\n",
       " 51887,\n",
       " 51981,\n",
       " 52182,\n",
       " 52195,\n",
       " 52260,\n",
       " 52293,\n",
       " 52350,\n",
       " 52382,\n",
       " 52744,\n",
       " 52746,\n",
       " 52780,\n",
       " 52947,\n",
       " 52993,\n",
       " 53010,\n",
       " 53030,\n",
       " 53084,\n",
       " 53178,\n",
       " 53223,\n",
       " 53224,\n",
       " 53317,\n",
       " 53333,\n",
       " 53579,\n",
       " 53642,\n",
       " 53735,\n",
       " 53781,\n",
       " 53872,\n",
       " 53899,\n",
       " 53921,\n",
       " 53940,\n",
       " 53965,\n",
       " 53986,\n",
       " 54075,\n",
       " 54198,\n",
       " 54207,\n",
       " 54228,\n",
       " 54268,\n",
       " 54279,\n",
       " 54312,\n",
       " 54346,\n",
       " 54399,\n",
       " 54615,\n",
       " 54849,\n",
       " 54931,\n",
       " 54982,\n",
       " 55018,\n",
       " 55208,\n",
       " 55336,\n",
       " 55352,\n",
       " 55465,\n",
       " 55472,\n",
       " 55478,\n",
       " 55552,\n",
       " 55616,\n",
       " 55659,\n",
       " 56054,\n",
       " 56202,\n",
       " 56241,\n",
       " 56315,\n",
       " 56385,\n",
       " 56458,\n",
       " 56532,\n",
       " 56577,\n",
       " 56670,\n",
       " 56746,\n",
       " 56999,\n",
       " 57051,\n",
       " 57062,\n",
       " 57136,\n",
       " 57142,\n",
       " 57168,\n",
       " 57178,\n",
       " 57258,\n",
       " 57261,\n",
       " 57299,\n",
       " 57374,\n",
       " 57440,\n",
       " 57569,\n",
       " 57590,\n",
       " 57657,\n",
       " 57687,\n",
       " 57757,\n",
       " 57776,\n",
       " 57841,\n",
       " 57927,\n",
       " 58000,\n",
       " 58091,\n",
       " 58111,\n",
       " 58153,\n",
       " 58234,\n",
       " 58312,\n",
       " 58346,\n",
       " 58430,\n",
       " 58486,\n",
       " 58493,\n",
       " 58554,\n",
       " 58592,\n",
       " 58622,\n",
       " 58754,\n",
       " 58762,\n",
       " 58790,\n",
       " 58795,\n",
       " 58799,\n",
       " 58819,\n",
       " 58834,\n",
       " 58847,\n",
       " 58870,\n",
       " 58876,\n",
       " 58954,\n",
       " 59010,\n",
       " 59013,\n",
       " 59241,\n",
       " 59336,\n",
       " 59522,\n",
       " 59656,\n",
       " 59795,\n",
       " 59844,\n",
       " 59951,\n",
       " 60045,\n",
       " 60212,\n",
       " 60215,\n",
       " 60242,\n",
       " 60247,\n",
       " 60252,\n",
       " 60260,\n",
       " 60589,\n",
       " 60593,\n",
       " 60662,\n",
       " 60668,\n",
       " 60853,\n",
       " 60883,\n",
       " 60905,\n",
       " 60907,\n",
       " 60915,\n",
       " 60968,\n",
       " 61022,\n",
       " 61091,\n",
       " 61124,\n",
       " 61161,\n",
       " 61267,\n",
       " 61280,\n",
       " 61306,\n",
       " 61324,\n",
       " 61432,\n",
       " 61600,\n",
       " 61844,\n",
       " 61878,\n",
       " 61982,\n",
       " 62037,\n",
       " 62108,\n",
       " 62207,\n",
       " 62228,\n",
       " 62272,\n",
       " 62405,\n",
       " 62430,\n",
       " 62497,\n",
       " 62550,\n",
       " 62561,\n",
       " 62646,\n",
       " 62656,\n",
       " 62657,\n",
       " 62717,\n",
       " 62775,\n",
       " 62793,\n",
       " 62991,\n",
       " 63001,\n",
       " 63022,\n",
       " 63205,\n",
       " 63213,\n",
       " 63224,\n",
       " 63262,\n",
       " 63306,\n",
       " 63315,\n",
       " 63329,\n",
       " 63456,\n",
       " 63544,\n",
       " 63555,\n",
       " 63641,\n",
       " 63703,\n",
       " 63785,\n",
       " 63834,\n",
       " 63835,\n",
       " 64014,\n",
       " 64110,\n",
       " 64136,\n",
       " 64172,\n",
       " 64239,\n",
       " 64273,\n",
       " 64360,\n",
       " 64410,\n",
       " 64429,\n",
       " 64498,\n",
       " 64554,\n",
       " 64607,\n",
       " 64735,\n",
       " 64778,\n",
       " 64966,\n",
       " 64968,\n",
       " 65095,\n",
       " 65131,\n",
       " 65154,\n",
       " 65158,\n",
       " 65213,\n",
       " 65216,\n",
       " 65270,\n",
       " 65279,\n",
       " 65309,\n",
       " 65365,\n",
       " 65449,\n",
       " 65582,\n",
       " 65635,\n",
       " 65729,\n",
       " 65807,\n",
       " 65877,\n",
       " 65943,\n",
       " 65974,\n",
       " 66063,\n",
       " 66064,\n",
       " 66126,\n",
       " 66201,\n",
       " 66212,\n",
       " 66225,\n",
       " 66254,\n",
       " 66313,\n",
       " 66448,\n",
       " 66456,\n",
       " 66490,\n",
       " 66546,\n",
       " 66616,\n",
       " 66695,\n",
       " 66697,\n",
       " 66781,\n",
       " 66892,\n",
       " 66948,\n",
       " 66992,\n",
       " 67024,\n",
       " 67035,\n",
       " 67114,\n",
       " 67172,\n",
       " 67193,\n",
       " 67309,\n",
       " 67368,\n",
       " 67408,\n",
       " 67423,\n",
       " 67480,\n",
       " 67503,\n",
       " 67652,\n",
       " 67712,\n",
       " 67778,\n",
       " 67808,\n",
       " 67855,\n",
       " 67892,\n",
       " 68076,\n",
       " 68121,\n",
       " 68172,\n",
       " 68177,\n",
       " 68209,\n",
       " 68416,\n",
       " 68552,\n",
       " 68860,\n",
       " 68954,\n",
       " 69057,\n",
       " 69170,\n",
       " 69205,\n",
       " 69286,\n",
       " 69358,\n",
       " 69382,\n",
       " 69387,\n",
       " 69411,\n",
       " 69442,\n",
       " 69450,\n",
       " 69490,\n",
       " 69511,\n",
       " 69615,\n",
       " 69727,\n",
       " 69768,\n",
       " 69865,\n",
       " 70013,\n",
       " 70204,\n",
       " 70351,\n",
       " 70375,\n",
       " 70422,\n",
       " 70430,\n",
       " 70521,\n",
       " 70575,\n",
       " 70602,\n",
       " 70649,\n",
       " 70685,\n",
       " 70700,\n",
       " 70706,\n",
       " 70748,\n",
       " 70812,\n",
       " 70965,\n",
       " 71012,\n",
       " 71054,\n",
       " 71105,\n",
       " 71214,\n",
       " 71320,\n",
       " 71377,\n",
       " 71389,\n",
       " 71454,\n",
       " 71485,\n",
       " 71523,\n",
       " 71540,\n",
       " 71553,\n",
       " 71563,\n",
       " 71631,\n",
       " 71640,\n",
       " 71747,\n",
       " 71788,\n",
       " 71832,\n",
       " 72273,\n",
       " 72291,\n",
       " 72300,\n",
       " 72375,\n",
       " 72524,\n",
       " 72567,\n",
       " 72583,\n",
       " 72585,\n",
       " 72662,\n",
       " 72669,\n",
       " 72674,\n",
       " 72754,\n",
       " 72806,\n",
       " 72824,\n",
       " 72856,\n",
       " 72880,\n",
       " 72904,\n",
       " 73008,\n",
       " 73122,\n",
       " 73219,\n",
       " 73245,\n",
       " 73306,\n",
       " 73366,\n",
       " 73387,\n",
       " 73397,\n",
       " ...]"
      ]
     },
     "execution_count": 41,
     "metadata": {},
     "output_type": "execute_result"
    }
   ],
   "source": [
    "sorted([val.surveyId for val in test_df.select(\"surveyId\").distinct().collect()])"
   ]
  },
  {
   "cell_type": "code",
   "execution_count": 42,
   "metadata": {},
   "outputs": [],
   "source": [
    "stats = spark.read.csv(\n",
    "    \"/mnt/data/geolifeclef-2024/data/models/baseline_xgboost_naive/log_bin_2=0/multilabel_stats\n",
    ")"
   ]
  },
  {
   "cell_type": "code",
   "execution_count": 51,
   "metadata": {},
   "outputs": [
    {
     "name": "stdout",
     "output_type": "stream",
     "text": [
      "+------+------------------+-------------------+-------+\n",
      "|   _c0|               _c1|                _c2|dataset|\n",
      "+------+------------------+-------------------+-------+\n",
      "| count|              1509|               1509|  train|\n",
      "|  mean|1974481.2200132539| 1.0112657388999338|  train|\n",
      "|stddev|1138734.6120300672|0.12826241967749538|  train|\n",
      "|   min|              2448|                  1|  train|\n",
      "|   max|           3918038|                  4|  train|\n",
      "+------+------------------+-------------------+-------+\n",
      "\n"
     ]
    }
   ],
   "source": [
    "stats.show()"
   ]
  },
  {
   "cell_type": "code",
   "execution_count": 54,
   "metadata": {},
   "outputs": [],
   "source": [
    "temp = spark.read.json(\n",
    "    \"/mnt/data/geolifeclef-2024/data/models/baseline_xgboost_naive/log_bin_2=7/perf\"\n",
    ")"
   ]
  },
  {
   "cell_type": "code",
   "execution_count": 55,
   "metadata": {},
   "outputs": [
    {
     "name": "stdout",
     "output_type": "stream",
     "text": [
      "+---------------------+--------------+---------------------+------------------+\n",
      "|avg_metrics          |metric_name   |std_metrics          |train_time        |\n",
      "+---------------------+--------------+---------------------+------------------+\n",
      "|[0.20399461603209876]|microF1Measure|[0.20399461603209876]|1031.4420894989998|\n",
      "+---------------------+--------------+---------------------+------------------+\n",
      "\n"
     ]
    }
   ],
   "source": [
    "temp.show(truncate=False)"
   ]
  },
  {
   "cell_type": "code",
   "execution_count": 23,
   "metadata": {},
   "outputs": [
    {
     "ename": "AnalysisException",
     "evalue": "[PATH_NOT_FOUND] Path does not exist: file:/mnt/data/geolifeclef-2024/data/models/baseline_xgboost_naive/log_bin_2=8/perf.",
     "output_type": "error",
     "traceback": [
      "\u001b[0;31m---------------------------------------------------------------------------\u001b[0m",
      "\u001b[0;31mAnalysisException\u001b[0m                         Traceback (most recent call last)",
      "Cell \u001b[0;32mIn[23], line 5\u001b[0m\n\u001b[1;32m      3\u001b[0m \u001b[38;5;28;01mfor\u001b[39;00m filename \u001b[38;5;129;01min\u001b[39;00m os\u001b[38;5;241m.\u001b[39mlistdir(path):\n\u001b[1;32m      4\u001b[0m     \u001b[38;5;28;01mif\u001b[39;00m filename \u001b[38;5;241m!=\u001b[39m \u001b[38;5;124m\"\u001b[39m\u001b[38;5;124m_SUCCESS\u001b[39m\u001b[38;5;124m\"\u001b[39m:\n\u001b[0;32m----> 5\u001b[0m         cur \u001b[38;5;241m=\u001b[39m \u001b[43mspark\u001b[49m\u001b[38;5;241;43m.\u001b[39;49m\u001b[43mread\u001b[49m\u001b[38;5;241;43m.\u001b[39;49m\u001b[43mjson\u001b[49m\u001b[43m(\u001b[49m\u001b[43mpath\u001b[49m\u001b[43m \u001b[49m\u001b[38;5;241;43m+\u001b[39;49m\u001b[43m \u001b[49m\u001b[38;5;124;43m\"\u001b[39;49m\u001b[38;5;124;43m/\u001b[39;49m\u001b[38;5;124;43m\"\u001b[39;49m\u001b[43m \u001b[49m\u001b[38;5;241;43m+\u001b[39;49m\u001b[43m \u001b[49m\u001b[43mfilename\u001b[49m\u001b[43m \u001b[49m\u001b[38;5;241;43m+\u001b[39;49m\u001b[43m \u001b[49m\u001b[38;5;124;43m\"\u001b[39;49m\u001b[38;5;124;43m/perf\u001b[39;49m\u001b[38;5;124;43m\"\u001b[39;49m\u001b[43m)\u001b[49m\n\u001b[1;32m      6\u001b[0m         \u001b[38;5;28;01mbreak\u001b[39;00m\n\u001b[1;32m      7\u001b[0m         \u001b[38;5;66;03m# if df is None:\u001b[39;00m\n\u001b[1;32m      8\u001b[0m         \u001b[38;5;66;03m#     df = cur\u001b[39;00m\n\u001b[1;32m      9\u001b[0m         \u001b[38;5;66;03m# else:\u001b[39;00m\n\u001b[1;32m     10\u001b[0m         \u001b[38;5;66;03m#     df.union(cur)\u001b[39;00m\n",
      "File \u001b[0;32m/usr/local/lib/python3.10/dist-packages/pyspark/sql/readwriter.py:425\u001b[0m, in \u001b[0;36mDataFrameReader.json\u001b[0;34m(self, path, schema, primitivesAsString, prefersDecimal, allowComments, allowUnquotedFieldNames, allowSingleQuotes, allowNumericLeadingZero, allowBackslashEscapingAnyCharacter, mode, columnNameOfCorruptRecord, dateFormat, timestampFormat, multiLine, allowUnquotedControlChars, lineSep, samplingRatio, dropFieldIfAllNull, encoding, locale, pathGlobFilter, recursiveFileLookup, modifiedBefore, modifiedAfter, allowNonNumericNumbers)\u001b[0m\n\u001b[1;32m    423\u001b[0m \u001b[38;5;28;01mif\u001b[39;00m \u001b[38;5;28mtype\u001b[39m(path) \u001b[38;5;241m==\u001b[39m \u001b[38;5;28mlist\u001b[39m:\n\u001b[1;32m    424\u001b[0m     \u001b[38;5;28;01massert\u001b[39;00m \u001b[38;5;28mself\u001b[39m\u001b[38;5;241m.\u001b[39m_spark\u001b[38;5;241m.\u001b[39m_sc\u001b[38;5;241m.\u001b[39m_jvm \u001b[38;5;129;01mis\u001b[39;00m \u001b[38;5;129;01mnot\u001b[39;00m \u001b[38;5;28;01mNone\u001b[39;00m\n\u001b[0;32m--> 425\u001b[0m     \u001b[38;5;28;01mreturn\u001b[39;00m \u001b[38;5;28mself\u001b[39m\u001b[38;5;241m.\u001b[39m_df(\u001b[38;5;28;43mself\u001b[39;49m\u001b[38;5;241;43m.\u001b[39;49m\u001b[43m_jreader\u001b[49m\u001b[38;5;241;43m.\u001b[39;49m\u001b[43mjson\u001b[49m\u001b[43m(\u001b[49m\u001b[38;5;28;43mself\u001b[39;49m\u001b[38;5;241;43m.\u001b[39;49m\u001b[43m_spark\u001b[49m\u001b[38;5;241;43m.\u001b[39;49m\u001b[43m_sc\u001b[49m\u001b[38;5;241;43m.\u001b[39;49m\u001b[43m_jvm\u001b[49m\u001b[38;5;241;43m.\u001b[39;49m\u001b[43mPythonUtils\u001b[49m\u001b[38;5;241;43m.\u001b[39;49m\u001b[43mtoSeq\u001b[49m\u001b[43m(\u001b[49m\u001b[43mpath\u001b[49m\u001b[43m)\u001b[49m\u001b[43m)\u001b[49m)\n\u001b[1;32m    426\u001b[0m \u001b[38;5;28;01melif\u001b[39;00m \u001b[38;5;28misinstance\u001b[39m(path, RDD):\n\u001b[1;32m    428\u001b[0m     \u001b[38;5;28;01mdef\u001b[39;00m \u001b[38;5;21mfunc\u001b[39m(iterator: Iterable) \u001b[38;5;241m-\u001b[39m\u001b[38;5;241m>\u001b[39m Iterable:\n",
      "File \u001b[0;32m/usr/local/lib/python3.10/dist-packages/py4j/java_gateway.py:1322\u001b[0m, in \u001b[0;36mJavaMember.__call__\u001b[0;34m(self, *args)\u001b[0m\n\u001b[1;32m   1316\u001b[0m command \u001b[38;5;241m=\u001b[39m proto\u001b[38;5;241m.\u001b[39mCALL_COMMAND_NAME \u001b[38;5;241m+\u001b[39m\\\n\u001b[1;32m   1317\u001b[0m     \u001b[38;5;28mself\u001b[39m\u001b[38;5;241m.\u001b[39mcommand_header \u001b[38;5;241m+\u001b[39m\\\n\u001b[1;32m   1318\u001b[0m     args_command \u001b[38;5;241m+\u001b[39m\\\n\u001b[1;32m   1319\u001b[0m     proto\u001b[38;5;241m.\u001b[39mEND_COMMAND_PART\n\u001b[1;32m   1321\u001b[0m answer \u001b[38;5;241m=\u001b[39m \u001b[38;5;28mself\u001b[39m\u001b[38;5;241m.\u001b[39mgateway_client\u001b[38;5;241m.\u001b[39msend_command(command)\n\u001b[0;32m-> 1322\u001b[0m return_value \u001b[38;5;241m=\u001b[39m \u001b[43mget_return_value\u001b[49m\u001b[43m(\u001b[49m\n\u001b[1;32m   1323\u001b[0m \u001b[43m    \u001b[49m\u001b[43manswer\u001b[49m\u001b[43m,\u001b[49m\u001b[43m \u001b[49m\u001b[38;5;28;43mself\u001b[39;49m\u001b[38;5;241;43m.\u001b[39;49m\u001b[43mgateway_client\u001b[49m\u001b[43m,\u001b[49m\u001b[43m \u001b[49m\u001b[38;5;28;43mself\u001b[39;49m\u001b[38;5;241;43m.\u001b[39;49m\u001b[43mtarget_id\u001b[49m\u001b[43m,\u001b[49m\u001b[43m \u001b[49m\u001b[38;5;28;43mself\u001b[39;49m\u001b[38;5;241;43m.\u001b[39;49m\u001b[43mname\u001b[49m\u001b[43m)\u001b[49m\n\u001b[1;32m   1325\u001b[0m \u001b[38;5;28;01mfor\u001b[39;00m temp_arg \u001b[38;5;129;01min\u001b[39;00m temp_args:\n\u001b[1;32m   1326\u001b[0m     \u001b[38;5;28;01mif\u001b[39;00m \u001b[38;5;28mhasattr\u001b[39m(temp_arg, \u001b[38;5;124m\"\u001b[39m\u001b[38;5;124m_detach\u001b[39m\u001b[38;5;124m\"\u001b[39m):\n",
      "File \u001b[0;32m/usr/local/lib/python3.10/dist-packages/pyspark/errors/exceptions/captured.py:185\u001b[0m, in \u001b[0;36mcapture_sql_exception.<locals>.deco\u001b[0;34m(*a, **kw)\u001b[0m\n\u001b[1;32m    181\u001b[0m converted \u001b[38;5;241m=\u001b[39m convert_exception(e\u001b[38;5;241m.\u001b[39mjava_exception)\n\u001b[1;32m    182\u001b[0m \u001b[38;5;28;01mif\u001b[39;00m \u001b[38;5;129;01mnot\u001b[39;00m \u001b[38;5;28misinstance\u001b[39m(converted, UnknownException):\n\u001b[1;32m    183\u001b[0m     \u001b[38;5;66;03m# Hide where the exception came from that shows a non-Pythonic\u001b[39;00m\n\u001b[1;32m    184\u001b[0m     \u001b[38;5;66;03m# JVM exception message.\u001b[39;00m\n\u001b[0;32m--> 185\u001b[0m     \u001b[38;5;28;01mraise\u001b[39;00m converted \u001b[38;5;28;01mfrom\u001b[39;00m \u001b[38;5;28;01mNone\u001b[39;00m\n\u001b[1;32m    186\u001b[0m \u001b[38;5;28;01melse\u001b[39;00m:\n\u001b[1;32m    187\u001b[0m     \u001b[38;5;28;01mraise\u001b[39;00m\n",
      "\u001b[0;31mAnalysisException\u001b[0m: [PATH_NOT_FOUND] Path does not exist: file:/mnt/data/geolifeclef-2024/data/models/baseline_xgboost_naive/log_bin_2=8/perf."
     ]
    }
   ],
   "source": [
    "df = None\n",
    "path = \"/mnt/data/geolifeclef-2024/data/models/baseline_xgboost_naive\"\n",
    "for filename in os.listdir(path):\n",
    "    if filename != \"_SUCCESS\":\n",
    "        cur = spark.read.json(path + \"/\" + filename + \"/perf\")\n",
    "        break\n",
    "        # if df is None:\n",
    "        #     df = cur\n",
    "        # else:\n",
    "        #     df.union(cur)\n",
    "df.show()"
   ]
  },
  {
   "cell_type": "code",
   "execution_count": null,
   "metadata": {},
   "outputs": [],
   "source": []
  }
 ],
 "metadata": {
  "kernelspec": {
   "display_name": "Python 3",
   "language": "python",
   "name": "python3"
  },
  "language_info": {
   "codemirror_mode": {
    "name": "ipython",
    "version": 3
   },
   "file_extension": ".py",
   "mimetype": "text/x-python",
   "name": "python",
   "nbconvert_exporter": "python",
   "pygments_lexer": "ipython3",
   "version": "3.10.12"
  }
 },
 "nbformat": 4,
 "nbformat_minor": 2
}
