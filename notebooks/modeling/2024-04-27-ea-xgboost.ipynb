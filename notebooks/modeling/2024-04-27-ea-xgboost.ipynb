{
 "cells": [
  {
   "cell_type": "code",
   "execution_count": 1,
   "metadata": {},
   "outputs": [
    {
     "name": "stderr",
     "output_type": "stream",
     "text": [
      "Setting default log level to \"WARN\".\n",
      "To adjust logging level use sc.setLogLevel(newLevel). For SparkR, use setLogLevel(newLevel).\n",
      "24/05/11 04:42:12 WARN NativeCodeLoader: Unable to load native-hadoop library for your platform... using builtin-java classes where applicable\n",
      "24/05/11 04:42:13 WARN SparkConf: Note that spark.local.dir will be overridden by the value set by the cluster manager (via SPARK_LOCAL_DIRS in mesos/standalone/kubernetes and LOCAL_DIRS in YARN).\n"
     ]
    }
   ],
   "source": [
    "%load_ext autoreload\n",
    "%autoreload 2\n",
    "from geolifeclef.utils import get_spark\n",
    "\n",
    "spark = get_spark()"
   ]
  },
  {
   "cell_type": "code",
   "execution_count": 53,
   "metadata": {},
   "outputs": [
    {
     "name": "stdout",
     "output_type": "stream",
     "text": [
      "root\n",
      " |-- dataset: string (nullable = true)\n",
      " |-- surveyId: integer (nullable = true)\n",
      " |-- lat_proj: double (nullable = true)\n",
      " |-- lon_proj: double (nullable = true)\n",
      " |-- lat: double (nullable = true)\n",
      " |-- lon: double (nullable = true)\n",
      " |-- year: integer (nullable = true)\n",
      " |-- geoUncertaintyInM: double (nullable = true)\n",
      " |-- speciesId: double (nullable = true)\n",
      "\n",
      "+--------+--------+-------------------+--------------------+---------+---------+----+-----------------+---------+\n",
      "| dataset|surveyId|           lat_proj|            lon_proj|      lat|      lon|year|geoUncertaintyInM|speciesId|\n",
      "+--------+--------+-------------------+--------------------+---------+---------+----+-----------------+---------+\n",
      "|      po|  599428|-3546710.1309880773|1.5869697752944473E7| 41.35689|-3.323538|2020|              2.0|   3932.0|\n",
      "|pa_train| 3707965|-1614858.9153893404| 1.690952987363603E7| 57.04466|  9.05137|2017|             10.0|   7739.0|\n",
      "|pa_train|  331966|-1882413.1908692368|1.5621125512619067E7| 46.32355|   13.909|2020|              0.0|   2322.0|\n",
      "|pa_train| 2118745| -1581919.826367132|1.6785045224298324E7| 56.27395| 10.46924|2019|             10.0|   2885.0|\n",
      "|      po|  388457| -2949950.789550384|1.6390396871864012E7| 47.28818|-1.629925|2019|             45.6|   4617.0|\n",
      "|pa_train|  226994|-1604956.8148379833| 1.690090014821878E7| 57.02554|  9.25348|2018|             10.0|    581.0|\n",
      "|pa_train|  473228| -1552158.289162738|1.6687220463388722E7| 55.66891| 11.59059|2017|             10.0|   9816.0|\n",
      "|      po|   79998|-2797705.7013758384|1.5768504609947894E7| 43.93634| 3.739923|2020|              4.0|   7141.0|\n",
      "|      po|  372596|-1361110.5140158564| 1.703038486015025E7| 59.03763| 11.59723|2021|              3.0|   6119.0|\n",
      "|pa_train| 3496757|-1642643.0405459898|1.6883943525084995E7|  56.7358|  8.88955|2019|             10.0|  10892.0|\n",
      "|pa_train| 2121546|-2533850.6953945193|1.5190077080153365E7| 40.85993| 9.206911|2018|             10.0|   8106.0|\n",
      "|pa_train| 2458684|-2651174.0107524125|1.6443841275734857E7| 49.05266|  0.80791|2019|              1.0|   5189.0|\n",
      "|pa_train|  712678| -2866125.582858796|1.5750488781088576E7|43.532468| 3.206787|2021|              5.0|  10904.0|\n",
      "|pa_train| 3493784|-1636995.1215402242|  1.63134377355146E7| 52.50813| 13.00049|2017|              5.0|  10024.0|\n",
      "|pa_train| 1155141|-3068821.9357029046|1.5839097936711604E7| 43.26069|  0.86361|2019|              1.0|   2386.0|\n",
      "|pa_train|  583239|-2829147.4474522094|1.5780538139094938E7|43.887504| 3.377694|2021|              5.0|   5173.0|\n",
      "|pa_train|  188165|-3098668.4495498687|1.5852683661580179E7| 43.21949|  0.52059|2018|              1.0|  10315.0|\n",
      "|      po|  432507| -2822777.892430776|1.6392795092265923E7| 47.91182|-0.473359|2021|             64.0|   1370.0|\n",
      "|pa_train| 3730886|-1631154.0506357062|1.6832054775492363E7| 56.40831|  9.45375|2017|             10.0|   6310.0|\n",
      "|pa_train| 3628828|-2096129.6651842375|1.6500895148476707E7|51.990343| 6.259263|2018|              3.0|   6275.0|\n",
      "+--------+--------+-------------------+--------------------+---------+---------+----+-----------------+---------+\n",
      "only showing top 20 rows\n",
      "\n"
     ]
    }
   ],
   "source": [
    "metadata = spark.read.parquet(\n",
    "    \"gs://dsgt-clef-geolifeclef-2024/data/processed/metadata_clean/v1\"\n",
    ")\n",
    "metadata.printSchema()\n",
    "metadata.show()"
   ]
  },
  {
   "cell_type": "code",
   "execution_count": 3,
   "metadata": {},
   "outputs": [
    {
     "name": "stderr",
     "output_type": "stream",
     "text": [
      "                                                                                \r"
     ]
    },
    {
     "name": "stdout",
     "output_type": "stream",
     "text": [
      "+---------+-----+\n",
      "|speciesId|count|\n",
      "+---------+-----+\n",
      "|    540.0|27928|\n",
      "|   4397.0|25013|\n",
      "|    254.0|23336|\n",
      "|   2885.0|23270|\n",
      "|   4499.0|21036|\n",
      "|  10317.0|19883|\n",
      "|  11140.0|19393|\n",
      "|   1964.0|19334|\n",
      "|  10600.0|19311|\n",
      "|  10073.0|19242|\n",
      "|  10255.0|18643|\n",
      "|   9816.0|18360|\n",
      "|   8208.0|17022|\n",
      "|  11195.0|16968|\n",
      "|   6310.0|16826|\n",
      "|   6962.0|16659|\n",
      "|   6079.0|16398|\n",
      "|    963.0|15771|\n",
      "|   8818.0|15566|\n",
      "|   6643.0|15508|\n",
      "+---------+-----+\n",
      "only showing top 20 rows\n",
      "\n"
     ]
    },
    {
     "name": "stderr",
     "output_type": "stream",
     "text": [
      "[Stage 5:=============================>                             (2 + 2) / 4]\r"
     ]
    },
    {
     "name": "stdout",
     "output_type": "stream",
     "text": [
      "10359\n"
     ]
    },
    {
     "name": "stderr",
     "output_type": "stream",
     "text": [
      "                                                                                \r"
     ]
    }
   ],
   "source": [
    "from pyspark.sql import functions as F\n",
    "import numpy as np\n",
    "\n",
    "species_count = metadata.groupBy(\"speciesId\").count()\n",
    "species_count.orderBy(species_count[\"count\"].desc()).show()\n",
    "print(species_count.count())"
   ]
  },
  {
   "cell_type": "code",
   "execution_count": 4,
   "metadata": {},
   "outputs": [
    {
     "data": {
      "text/plain": [
       "Column<'count'>"
      ]
     },
     "execution_count": 4,
     "metadata": {},
     "output_type": "execute_result"
    }
   ],
   "source": [
    "species_count[\"count\"]"
   ]
  },
  {
   "cell_type": "code",
   "execution_count": 66,
   "metadata": {},
   "outputs": [
    {
     "data": {
      "text/plain": [
       "4"
      ]
     },
     "execution_count": 66,
     "metadata": {},
     "output_type": "execute_result"
    }
   ],
   "source": [
    "os.cpu_count()"
   ]
  },
  {
   "cell_type": "code",
   "execution_count": 5,
   "metadata": {},
   "outputs": [
    {
     "name": "stderr",
     "output_type": "stream",
     "text": [
      "                                                                                \r"
     ]
    },
    {
     "name": "stdout",
     "output_type": "stream",
     "text": [
      "27928\n"
     ]
    },
    {
     "name": "stderr",
     "output_type": "stream",
     "text": [
      "                                                                                \r"
     ]
    },
    {
     "name": "stdout",
     "output_type": "stream",
     "text": [
      "1\n"
     ]
    },
    {
     "name": "stderr",
     "output_type": "stream",
     "text": [
      "                                                                                \r"
     ]
    },
    {
     "name": "stdout",
     "output_type": "stream",
     "text": [
      "+---------+-----+\n",
      "|speciesId|count|\n",
      "+---------+-----+\n",
      "|    540.0|27928|\n",
      "+---------+-----+\n",
      "\n"
     ]
    },
    {
     "name": "stderr",
     "output_type": "stream",
     "text": [
      "[Stage 50:>                                                         (0 + 4) / 4]\r"
     ]
    },
    {
     "name": "stdout",
     "output_type": "stream",
     "text": [
      "+---------+-----+\n",
      "|speciesId|count|\n",
      "+---------+-----+\n",
      "|   9753.0|    1|\n",
      "|  10681.0|    1|\n",
      "|  10625.0|    1|\n",
      "|   5136.0|    1|\n",
      "|   3029.0|    1|\n",
      "|   9797.0|    1|\n",
      "|    170.0|    1|\n",
      "|     70.0|    1|\n",
      "|   3448.0|    1|\n",
      "|   7784.0|    1|\n",
      "|  10796.0|    1|\n",
      "|   8165.0|    1|\n",
      "|   8144.0|    1|\n",
      "|    925.0|    1|\n",
      "|   3321.0|    1|\n",
      "|   5738.0|    1|\n",
      "|   1940.0|    1|\n",
      "|   9762.0|    1|\n",
      "|   1551.0|    1|\n",
      "|   9650.0|    1|\n",
      "+---------+-----+\n",
      "only showing top 20 rows\n",
      "\n"
     ]
    },
    {
     "name": "stderr",
     "output_type": "stream",
     "text": [
      "                                                                                \r"
     ]
    }
   ],
   "source": [
    "max_count = species_count.agg(F.max(\"count\").alias(\"Max\"))\n",
    "min_count = species_count.agg(F.min(\"count\").alias(\"Min\"))\n",
    "\n",
    "max_value = max_count.first().Max\n",
    "min_value = min_count.first().Min\n",
    "\n",
    "print(max_count.first().Max)\n",
    "print(min_count.first().Min)\n",
    "\n",
    "min_row = species_count.filter(species_count[\"count\"] == max_count.first().Max)\n",
    "max_row = species_count.filter(species_count[\"count\"] == min_count.first().Min)\n",
    "\n",
    "# Show the results\n",
    "min_row.show()\n",
    "max_row.show()"
   ]
  },
  {
   "cell_type": "code",
   "execution_count": 6,
   "metadata": {},
   "outputs": [
    {
     "data": {
      "text/plain": [
       "[1.0,\n",
       " 2149.230769230769,\n",
       " 4297.461538461538,\n",
       " 6445.692307692307,\n",
       " 8593.923076923076,\n",
       " 10742.153846153846,\n",
       " 12890.384615384613,\n",
       " 15038.615384615383,\n",
       " 17186.846153846152,\n",
       " 19335.076923076922,\n",
       " 21483.30769230769,\n",
       " 23631.53846153846,\n",
       " 25779.769230769227,\n",
       " 27928.0]"
      ]
     },
     "execution_count": 6,
     "metadata": {},
     "output_type": "execute_result"
    }
   ],
   "source": [
    "bin_edges = np.linspace(min_value, max_value, 14).tolist()\n",
    "bin_edges"
   ]
  },
  {
   "cell_type": "code",
   "execution_count": 7,
   "metadata": {},
   "outputs": [
    {
     "name": "stderr",
     "output_type": "stream",
     "text": [
      "[Stage 53:===========================================>              (3 + 1) / 4]\r"
     ]
    }
   ],
   "source": [
    "freq = species_count.select(\"count\").rdd.flatMap(lambda x: x)"
   ]
  },
  {
   "cell_type": "code",
   "execution_count": 8,
   "metadata": {},
   "outputs": [
    {
     "name": "stderr",
     "output_type": "stream",
     "text": [
      "[Stage 55:>                                                         (0 + 1) / 1]\r"
     ]
    },
    {
     "name": "stdout",
     "output_type": "stream",
     "text": [
      "Bin edges:  [1.0, 2149.230769230769, 4297.461538461538, 6445.692307692307, 8593.923076923076, 10742.153846153846, 12890.384615384613, 15038.615384615383, 17186.846153846152, 19335.076923076922, 21483.30769230769, 23631.53846153846, 25779.769230769227, 27928.0]\n",
      "Counts:  [9388, 371, 403, 100, 43, 19, 14, 9, 5, 3, 2, 1, 1]\n"
     ]
    },
    {
     "name": "stderr",
     "output_type": "stream",
     "text": [
      "                                                                                \r"
     ]
    }
   ],
   "source": [
    "histogram_bins, histogram_counts = freq.histogram(bin_edges)\n",
    "\n",
    "print(\"Bin edges: \", histogram_bins)\n",
    "print(\"Counts: \", histogram_counts)"
   ]
  },
  {
   "cell_type": "code",
   "execution_count": 9,
   "metadata": {},
   "outputs": [
    {
     "data": {
      "image/png": "[encoded data removed]",
      "text/plain": [
       "<Figure size 1000x600 with 1 Axes>"
      ]
     },
     "metadata": {},
     "output_type": "display_data"
    }
   ],
   "source": [
    "import matplotlib.pyplot as plt\n",
    "import numpy as np\n",
    "\n",
    "plt.figure(figsize=(10, 6))\n",
    "plt.bar(\n",
    "    histogram_bins[:-1],\n",
    "    [np.log10(counts) for counts in histogram_counts],\n",
    "    width=np.diff(histogram_bins),\n",
    "    edgecolor=\"black\",\n",
    ")\n",
    "plt.xlabel(\"Species Frequencies\")\n",
    "plt.ylabel(\"Log10 Frequency\")\n",
    "plt.show()"
   ]
  },
  {
   "cell_type": "code",
   "execution_count": 42,
   "metadata": {},
   "outputs": [
    {
     "name": "stderr",
     "output_type": "stream",
     "text": [
      "[Stage 77:>                                                         (0 + 4) / 4]\r"
     ]
    },
    {
     "name": "stdout",
     "output_type": "stream",
     "text": [
      "+---------+-----+---------+\n",
      "|speciesId|count|log_bin_2|\n",
      "+---------+-----+---------+\n",
      "|  10024.0| 9167|       13|\n",
      "|   4142.0| 3826|       11|\n",
      "|  11028.0| 1971|       10|\n",
      "|    305.0| 4815|       12|\n",
      "|   7115.0| 2292|       11|\n",
      "|   3597.0|  491|        8|\n",
      "|   1051.0| 5922|       12|\n",
      "|   9923.0|  417|        8|\n",
      "|   1761.0| 5835|       12|\n",
      "|   6067.0| 2540|       11|\n",
      "|   6433.0|   61|        5|\n",
      "|   7171.0|  659|        9|\n",
      "|    299.0|  759|        9|\n",
      "|   7782.0|  289|        8|\n",
      "|    558.0|  148|        7|\n",
      "|  10930.0|   49|        5|\n",
      "|    769.0|   18|        4|\n",
      "|   6653.0|  157|        7|\n",
      "|   6765.0|  213|        7|\n",
      "|    596.0|   55|        5|\n",
      "+---------+-----+---------+\n",
      "only showing top 20 rows\n",
      "\n"
     ]
    },
    {
     "name": "stderr",
     "output_type": "stream",
     "text": [
      "                                                                                \r"
     ]
    }
   ],
   "source": [
    "log_base = 2\n",
    "log_df = species_count.withColumn(\n",
    "    f\"log_bin_{log_base}\", F.floor(F.log10(F.col(\"count\")) / F.log10(F.lit(log_base)))\n",
    ")\n",
    "log_df.show()"
   ]
  },
  {
   "cell_type": "code",
   "execution_count": 43,
   "metadata": {},
   "outputs": [
    {
     "name": "stderr",
     "output_type": "stream",
     "text": [
      "[Stage 81:==============>                                           (1 + 3) / 4]\r"
     ]
    },
    {
     "name": "stdout",
     "output_type": "stream",
     "text": [
      "+---------+--------+--------+-------------------+--------------------+---------+--------+----+-----------------+-----+---------+\n",
      "|speciesId| dataset|surveyId|           lat_proj|            lon_proj|      lat|     lon|year|geoUncertaintyInM|count|log_bin_2|\n",
      "+---------+--------+--------+-------------------+--------------------+---------+--------+----+-----------------+-----+---------+\n",
      "|  10024.0|pa_train| 3493784|-1636995.1215402242|  1.63134377355146E7| 52.50813|13.00049|2017|              5.0| 9167|       13|\n",
      "|   4142.0|pa_train|  417724|-2202573.6671659616|1.6400912437895492E7|50.820965|5.776851|2018|              3.0| 3826|       11|\n",
      "|  11028.0|      po|  456430| -2537613.019963995| 1.672225578143443E7| 51.38481|-0.17016|2020|             65.0| 1971|       10|\n",
      "|    305.0|      po|  158517| -2114474.337095449|1.6282125802812638E7| 50.36297|7.557454|2019|             64.0| 4815|       12|\n",
      "|    305.0|      po|  431235|-1740801.1506414176|1.6212278511304881E7| 51.34674|12.34443|2020|             24.0| 4815|       12|\n",
      "|  10024.0|      po|   59557|-1594713.3380299946|1.6878330236158393E7| 56.90557|9.571581|2021|              3.0| 9167|       13|\n",
      "|   7115.0|      po|  110910|-2215386.8507768945| 1.569815871951358E7| 45.72603|9.914593|2019|             16.0| 2292|       11|\n",
      "|   7115.0|      po|  269774| -2369301.617737742|1.5874762001852788E7| 46.41349|7.336642|2021|             10.0| 2292|       11|\n",
      "|   3597.0|      po|  540332|-1730223.5791319632| 1.565743204980541E7| 47.10896|15.45293|2021|              9.0|  491|        8|\n",
      "|  11028.0|      po|  501792|-2178889.7392714694|1.5492059505837085E7| 44.32632|11.34224|2021|             51.0| 1971|       10|\n",
      "|  10024.0|      po|  545236|-1680000.0019777962| 1.675711155307765E7| 55.64893|9.396588|2019|              3.0| 9167|       13|\n",
      "|   4142.0|pa_train| 2224907| -1621649.281366197| 1.503388486956124E7|  42.4546|19.24971|2020|              0.0| 3826|       11|\n",
      "|  10024.0|pa_train| 1727576| -2101717.142513414|1.6516045479598204E7|52.071601|6.086648|2017|              3.0| 9167|       13|\n",
      "|  10024.0|pa_train| 1868866|-1504141.4227291741|  1.66830569039452E7| 55.83221|12.26147|2018|             10.0| 9167|       13|\n",
      "|   1051.0|pa_train| 2511961|-1623050.4695817013|1.5031301668253439E7| 42.42995|19.24358|2020|             10.0| 5922|       12|\n",
      "|   1051.0|pa_train|  497501|  -2207209.50516467|1.6594881288351553E7|52.136872|4.321947|2017|              3.0| 5922|       12|\n",
      "|   9923.0|pa_train| 2609281|-2180530.0981972767| 1.647019780361094E7|51.400508|5.531765|2017|              5.0|  417|        8|\n",
      "|   1051.0|pa_train| 1602013| -2208817.806381557|1.6405557127041902E7|50.825729|5.675874|2019|              3.0| 5922|       12|\n",
      "|   1051.0|      po|  498604|-1663484.2527223793|1.6011793826896096E7| 50.09361|14.42991|2020|              8.0| 5922|       12|\n",
      "|  10024.0|      po|  521041|-1582449.6678293445|1.6656933357462356E7| 55.31818| 11.4089|2019|              3.0| 9167|       13|\n",
      "+---------+--------+--------+-------------------+--------------------+---------+--------+----+-----------------+-----+---------+\n",
      "only showing top 20 rows\n",
      "\n"
     ]
    },
    {
     "name": "stderr",
     "output_type": "stream",
     "text": [
      "                                                                                \r"
     ]
    }
   ],
   "source": [
    "metadata_count = metadata.join(log_df, on=\"speciesId\", how=\"inner\")\n",
    "metadata_count.show()"
   ]
  },
  {
   "cell_type": "code",
   "execution_count": 44,
   "metadata": {},
   "outputs": [
    {
     "name": "stderr",
     "output_type": "stream",
     "text": [
      "[Stage 87:===========================================>              (3 + 1) / 4]\r"
     ]
    },
    {
     "name": "stdout",
     "output_type": "stream",
     "text": [
      "+---------+--------+--------+-------------------+--------------------+---------+--------+----+-----------------+-----+---------+\n",
      "|speciesId| dataset|surveyId|           lat_proj|            lon_proj|      lat|     lon|year|geoUncertaintyInM|count|log_bin_2|\n",
      "+---------+--------+--------+-------------------+--------------------+---------+--------+----+-----------------+-----+---------+\n",
      "|  10024.0|pa_train| 3493784|-1636995.1215402242|  1.63134377355146E7| 52.50813|13.00049|2017|              5.0| 9167|       13|\n",
      "|  10024.0|      po|   59557|-1594713.3380299946|1.6878330236158393E7| 56.90557|9.571581|2021|              3.0| 9167|       13|\n",
      "|  10024.0|      po|  545236|-1680000.0019777962| 1.675711155307765E7| 55.64893|9.396588|2019|              3.0| 9167|       13|\n",
      "|  10024.0|pa_train| 1727576| -2101717.142513414|1.6516045479598204E7|52.071601|6.086648|2017|              3.0| 9167|       13|\n",
      "|  10024.0|pa_train| 1868866|-1504141.4227291741|  1.66830569039452E7| 55.83221|12.26147|2018|             10.0| 9167|       13|\n",
      "|  10024.0|      po|  521041|-1582449.6678293445|1.6656933357462356E7| 55.31818| 11.4089|2019|              3.0| 9167|       13|\n",
      "|  10024.0|pa_train| 3655367|-1612841.4857014497| 1.681213916889623E7| 56.34165| 9.85092|2019|             10.0| 9167|       13|\n",
      "|  10024.0|pa_train|  291412|-1579090.9689627136|1.6834567355652113E7| 56.65175|10.12556|2017|             10.0| 9167|       13|\n",
      "|  10024.0|pa_train| 2421125| -2156810.301204977|1.6434276292399745E7|51.255582|6.050011|2017|              3.0| 9167|       13|\n",
      "|  10024.0|pa_train| 3590182|-1590077.3866587225|1.6907160308048364E7| 57.13666| 9.40231|2019|             10.0| 9167|       13|\n",
      "|  10024.0|pa_train| 1859787| -1623269.114945307| 1.679989404647414E7| 56.20684| 9.80803|2017|             10.0| 9167|       13|\n",
      "|  10024.0|pa_train| 3113271|-1539717.5285320466|1.6897182273527775E7| 57.28278|10.16343|2018|             10.0| 9167|       13|\n",
      "|  10024.0|pa_train| 2806987|-1648973.0446541505|1.6906660844485603E7| 56.87224| 8.62189|2020|             10.0| 9167|       13|\n",
      "|  10024.0|pa_train| 3054093|-1610367.3683533412|1.6915728497628305E7| 57.10962| 9.06096|2017|             10.0| 9167|       13|\n",
      "|  10024.0|pa_train|  914042|-1682048.4714642954| 1.688020971812409E7|  56.5335| 8.40239|2018|             10.0| 9167|       13|\n",
      "|  10024.0|pa_train|  570922| -2241113.742901186|1.6453517821306247E7| 51.01367| 4.98409|2017|              0.0| 9167|       13|\n",
      "|  10024.0|pa_train|  487275|-1533083.0659796721| 1.689276773878243E7| 57.27881|10.28895|2018|             10.0| 9167|       13|\n",
      "|  10024.0|pa_train| 2409015| -1615240.723642494|1.6867128643994227E7| 56.73399| 9.38715|2018|             10.0| 9167|       13|\n",
      "|  10024.0|pa_train| 2160197| -1666164.997721965| 1.686244163326977E7| 56.47573| 8.75295|2019|             10.0| 9167|       13|\n",
      "|  10024.0|pa_train| 1605779|-1595848.9658596963|1.6878094643806525E7| 56.89889| 9.55827|2017|             10.0| 9167|       13|\n",
      "+---------+--------+--------+-------------------+--------------------+---------+--------+----+-----------------+-----+---------+\n",
      "only showing top 20 rows\n",
      "\n"
     ]
    },
    {
     "name": "stderr",
     "output_type": "stream",
     "text": [
      "                                                                                \r"
     ]
    }
   ],
   "source": [
    "metadata_count.filter(metadata_count.speciesId == 10024).show()"
   ]
  },
  {
   "cell_type": "code",
   "execution_count": 61,
   "metadata": {},
   "outputs": [
    {
     "name": "stdout",
     "output_type": "stream",
     "text": [
      "Removing gs://dsgt-clef-geolifeclef-2024/data/processed/metadata_split/#1715406901939546...\n",
      "Removing gs://dsgt-clef-geolifeclef-2024/data/processed/metadata_split/_SUCCESS#1715406902119203...\n",
      "Removing gs://dsgt-clef-geolifeclef-2024/data/processed/metadata_split/log_bin_2=0/part-00000-258bcaab-9d0e-4aab-b175-1347e636b05c.c000.snappy.parquet#1715406888605441...\n",
      "Removing gs://dsgt-clef-geolifeclef-2024/data/processed/metadata_split/log_bin_2=0/part-00001-258bcaab-9d0e-4aab-b175-1347e636b05c.c000.snappy.parquet#1715406891348213...\n",
      "/ [4 objects]                                                                   \n",
      "==> NOTE: You are performing a sequence of gsutil operations that may\n",
      "run significantly faster if you instead use gsutil -m rm ... Please\n",
      "see the -m section under \"gsutil help options\" for further information\n",
      "about when gsutil -m can be advantageous.\n",
      "\n",
      "Removing gs://dsgt-clef-geolifeclef-2024/data/processed/metadata_split/log_bin_2=0/part-00002-258bcaab-9d0e-4aab-b175-1347e636b05c.c000.snappy.parquet#1715406895002336...\n",
      "Removing gs://dsgt-clef-geolifeclef-2024/data/processed/metadata_split/log_bin_2=0/part-00003-258bcaab-9d0e-4aab-b175-1347e636b05c.c000.snappy.parquet#1715406898506930...\n",
      "Removing gs://dsgt-clef-geolifeclef-2024/data/processed/metadata_split/log_bin_2=1/part-00000-258bcaab-9d0e-4aab-b175-1347e636b05c.c000.snappy.parquet#1715406888836664...\n",
      "Removing gs://dsgt-clef-geolifeclef-2024/data/processed/metadata_split/log_bin_2=1/part-00001-258bcaab-9d0e-4aab-b175-1347e636b05c.c000.snappy.parquet#1715406891583737...\n",
      "Removing gs://dsgt-clef-geolifeclef-2024/data/processed/metadata_split/log_bin_2=1/part-00002-258bcaab-9d0e-4aab-b175-1347e636b05c.c000.snappy.parquet#1715406895222852...\n",
      "Removing gs://dsgt-clef-geolifeclef-2024/data/processed/metadata_split/log_bin_2=1/part-00003-258bcaab-9d0e-4aab-b175-1347e636b05c.c000.snappy.parquet#1715406898721080...\n",
      "Removing gs://dsgt-clef-geolifeclef-2024/data/processed/metadata_split/log_bin_2=10/part-00000-258bcaab-9d0e-4aab-b175-1347e636b05c.c000.snappy.parquet#1715406890426073...\n",
      "Removing gs://dsgt-clef-geolifeclef-2024/data/processed/metadata_split/log_bin_2=10/part-00001-258bcaab-9d0e-4aab-b175-1347e636b05c.c000.snappy.parquet#1715406893771266...\n",
      "Removing gs://dsgt-clef-geolifeclef-2024/data/processed/metadata_split/log_bin_2=10/part-00002-258bcaab-9d0e-4aab-b175-1347e636b05c.c000.snappy.parquet#1715406897388488...\n",
      "Removing gs://dsgt-clef-geolifeclef-2024/data/processed/metadata_split/log_bin_2=10/part-00003-258bcaab-9d0e-4aab-b175-1347e636b05c.c000.snappy.parquet#1715406900712384...\n",
      "Removing gs://dsgt-clef-geolifeclef-2024/data/processed/metadata_split/log_bin_2=11/part-00000-258bcaab-9d0e-4aab-b175-1347e636b05c.c000.snappy.parquet#1715406890562827...\n",
      "Removing gs://dsgt-clef-geolifeclef-2024/data/processed/metadata_split/log_bin_2=11/part-00001-258bcaab-9d0e-4aab-b175-1347e636b05c.c000.snappy.parquet#1715406894003341...\n",
      "Removing gs://dsgt-clef-geolifeclef-2024/data/processed/metadata_split/log_bin_2=11/part-00002-258bcaab-9d0e-4aab-b175-1347e636b05c.c000.snappy.parquet#1715406897598864...\n",
      "Removing gs://dsgt-clef-geolifeclef-2024/data/processed/metadata_split/log_bin_2=11/part-00003-258bcaab-9d0e-4aab-b175-1347e636b05c.c000.snappy.parquet#1715406900950118...\n",
      "Removing gs://dsgt-clef-geolifeclef-2024/data/processed/metadata_split/log_bin_2=12/part-00000-258bcaab-9d0e-4aab-b175-1347e636b05c.c000.snappy.parquet#1715406890729166...\n",
      "Removing gs://dsgt-clef-geolifeclef-2024/data/processed/metadata_split/log_bin_2=12/part-00001-258bcaab-9d0e-4aab-b175-1347e636b05c.c000.snappy.parquet#1715406894213662...\n",
      "Removing gs://dsgt-clef-geolifeclef-2024/data/processed/metadata_split/log_bin_2=12/part-00002-258bcaab-9d0e-4aab-b175-1347e636b05c.c000.snappy.parquet#1715406897810546...\n",
      "Removing gs://dsgt-clef-geolifeclef-2024/data/processed/metadata_split/log_bin_2=12/part-00003-258bcaab-9d0e-4aab-b175-1347e636b05c.c000.snappy.parquet#1715406901204185...\n",
      "Removing gs://dsgt-clef-geolifeclef-2024/data/processed/metadata_split/log_bin_2=13/part-00000-258bcaab-9d0e-4aab-b175-1347e636b05c.c000.snappy.parquet#1715406890914174...\n",
      "Removing gs://dsgt-clef-geolifeclef-2024/data/processed/metadata_split/log_bin_2=13/part-00001-258bcaab-9d0e-4aab-b175-1347e636b05c.c000.snappy.parquet#1715406894437390...\n",
      "Removing gs://dsgt-clef-geolifeclef-2024/data/processed/metadata_split/log_bin_2=13/part-00002-258bcaab-9d0e-4aab-b175-1347e636b05c.c000.snappy.parquet#1715406898025016...\n",
      "Removing gs://dsgt-clef-geolifeclef-2024/data/processed/metadata_split/log_bin_2=13/part-00003-258bcaab-9d0e-4aab-b175-1347e636b05c.c000.snappy.parquet#1715406901435828...\n",
      "Removing gs://dsgt-clef-geolifeclef-2024/data/processed/metadata_split/log_bin_2=14/part-00000-258bcaab-9d0e-4aab-b175-1347e636b05c.c000.snappy.parquet#1715406891076673...\n",
      "Removing gs://dsgt-clef-geolifeclef-2024/data/processed/metadata_split/log_bin_2=14/part-00001-258bcaab-9d0e-4aab-b175-1347e636b05c.c000.snappy.parquet#1715406894717557...\n",
      "Removing gs://dsgt-clef-geolifeclef-2024/data/processed/metadata_split/log_bin_2=14/part-00002-258bcaab-9d0e-4aab-b175-1347e636b05c.c000.snappy.parquet#1715406898247427...\n",
      "Removing gs://dsgt-clef-geolifeclef-2024/data/processed/metadata_split/log_bin_2=14/part-00003-258bcaab-9d0e-4aab-b175-1347e636b05c.c000.snappy.parquet#1715406901678421...\n",
      "Removing gs://dsgt-clef-geolifeclef-2024/data/processed/metadata_split/log_bin_2=2/part-00000-258bcaab-9d0e-4aab-b175-1347e636b05c.c000.snappy.parquet#1715406889012070...\n",
      "Removing gs://dsgt-clef-geolifeclef-2024/data/processed/metadata_split/log_bin_2=2/part-00001-258bcaab-9d0e-4aab-b175-1347e636b05c.c000.snappy.parquet#1715406891822449...\n",
      "Removing gs://dsgt-clef-geolifeclef-2024/data/processed/metadata_split/log_bin_2=2/part-00002-258bcaab-9d0e-4aab-b175-1347e636b05c.c000.snappy.parquet#1715406895454868...\n",
      "Removing gs://dsgt-clef-geolifeclef-2024/data/processed/metadata_split/log_bin_2=2/part-00003-258bcaab-9d0e-4aab-b175-1347e636b05c.c000.snappy.parquet#1715406898940477...\n",
      "Removing gs://dsgt-clef-geolifeclef-2024/data/processed/metadata_split/log_bin_2=3/part-00000-258bcaab-9d0e-4aab-b175-1347e636b05c.c000.snappy.parquet#1715406889186302...\n",
      "Removing gs://dsgt-clef-geolifeclef-2024/data/processed/metadata_split/log_bin_2=3/part-00001-258bcaab-9d0e-4aab-b175-1347e636b05c.c000.snappy.parquet#1715406892086080...\n",
      "Removing gs://dsgt-clef-geolifeclef-2024/data/processed/metadata_split/log_bin_2=3/part-00002-258bcaab-9d0e-4aab-b175-1347e636b05c.c000.snappy.parquet#1715406895697497...\n",
      "Removing gs://dsgt-clef-geolifeclef-2024/data/processed/metadata_split/log_bin_2=3/part-00003-258bcaab-9d0e-4aab-b175-1347e636b05c.c000.snappy.parquet#1715406899177394...\n",
      "Removing gs://dsgt-clef-geolifeclef-2024/data/processed/metadata_split/log_bin_2=4/part-00000-258bcaab-9d0e-4aab-b175-1347e636b05c.c000.snappy.parquet#1715406889451047...\n",
      "Removing gs://dsgt-clef-geolifeclef-2024/data/processed/metadata_split/log_bin_2=4/part-00001-258bcaab-9d0e-4aab-b175-1347e636b05c.c000.snappy.parquet#1715406892323482...\n",
      "Removing gs://dsgt-clef-geolifeclef-2024/data/processed/metadata_split/log_bin_2=4/part-00002-258bcaab-9d0e-4aab-b175-1347e636b05c.c000.snappy.parquet#1715406895939057...\n",
      "Removing gs://dsgt-clef-geolifeclef-2024/data/processed/metadata_split/log_bin_2=4/part-00003-258bcaab-9d0e-4aab-b175-1347e636b05c.c000.snappy.parquet#1715406899383588...\n",
      "Removing gs://dsgt-clef-geolifeclef-2024/data/processed/metadata_split/log_bin_2=5/part-00000-258bcaab-9d0e-4aab-b175-1347e636b05c.c000.snappy.parquet#1715406889609233...\n",
      "Removing gs://dsgt-clef-geolifeclef-2024/data/processed/metadata_split/log_bin_2=5/part-00001-258bcaab-9d0e-4aab-b175-1347e636b05c.c000.snappy.parquet#1715406892548481...\n",
      "Removing gs://dsgt-clef-geolifeclef-2024/data/processed/metadata_split/log_bin_2=5/part-00002-258bcaab-9d0e-4aab-b175-1347e636b05c.c000.snappy.parquet#1715406896255543...\n",
      "Removing gs://dsgt-clef-geolifeclef-2024/data/processed/metadata_split/log_bin_2=5/part-00003-258bcaab-9d0e-4aab-b175-1347e636b05c.c000.snappy.parquet#1715406899606504...\n",
      "Removing gs://dsgt-clef-geolifeclef-2024/data/processed/metadata_split/log_bin_2=6/part-00000-258bcaab-9d0e-4aab-b175-1347e636b05c.c000.snappy.parquet#1715406889770854...\n",
      "Removing gs://dsgt-clef-geolifeclef-2024/data/processed/metadata_split/log_bin_2=6/part-00001-258bcaab-9d0e-4aab-b175-1347e636b05c.c000.snappy.parquet#1715406892784089...\n",
      "Removing gs://dsgt-clef-geolifeclef-2024/data/processed/metadata_split/log_bin_2=6/part-00002-258bcaab-9d0e-4aab-b175-1347e636b05c.c000.snappy.parquet#1715406896502901...\n",
      "Removing gs://dsgt-clef-geolifeclef-2024/data/processed/metadata_split/log_bin_2=6/part-00003-258bcaab-9d0e-4aab-b175-1347e636b05c.c000.snappy.parquet#1715406899827643...\n",
      "Removing gs://dsgt-clef-geolifeclef-2024/data/processed/metadata_split/log_bin_2=7/part-00000-258bcaab-9d0e-4aab-b175-1347e636b05c.c000.snappy.parquet#1715406889937885...\n",
      "Removing gs://dsgt-clef-geolifeclef-2024/data/processed/metadata_split/log_bin_2=7/part-00001-258bcaab-9d0e-4aab-b175-1347e636b05c.c000.snappy.parquet#1715406893017855...\n",
      "Removing gs://dsgt-clef-geolifeclef-2024/data/processed/metadata_split/log_bin_2=7/part-00002-258bcaab-9d0e-4aab-b175-1347e636b05c.c000.snappy.parquet#1715406896720086...\n",
      "Removing gs://dsgt-clef-geolifeclef-2024/data/processed/metadata_split/log_bin_2=7/part-00003-258bcaab-9d0e-4aab-b175-1347e636b05c.c000.snappy.parquet#1715406900076976...\n",
      "Removing gs://dsgt-clef-geolifeclef-2024/data/processed/metadata_split/log_bin_2=8/part-00000-258bcaab-9d0e-4aab-b175-1347e636b05c.c000.snappy.parquet#1715406890116151...\n",
      "Removing gs://dsgt-clef-geolifeclef-2024/data/processed/metadata_split/log_bin_2=8/part-00001-258bcaab-9d0e-4aab-b175-1347e636b05c.c000.snappy.parquet#1715406893312110...\n",
      "Removing gs://dsgt-clef-geolifeclef-2024/data/processed/metadata_split/log_bin_2=8/part-00002-258bcaab-9d0e-4aab-b175-1347e636b05c.c000.snappy.parquet#1715406896941532...\n",
      "Removing gs://dsgt-clef-geolifeclef-2024/data/processed/metadata_split/log_bin_2=8/part-00003-258bcaab-9d0e-4aab-b175-1347e636b05c.c000.snappy.parquet#1715406900285113...\n",
      "Removing gs://dsgt-clef-geolifeclef-2024/data/processed/metadata_split/log_bin_2=9/part-00000-258bcaab-9d0e-4aab-b175-1347e636b05c.c000.snappy.parquet#1715406890274375...\n",
      "Removing gs://dsgt-clef-geolifeclef-2024/data/processed/metadata_split/log_bin_2=9/part-00001-258bcaab-9d0e-4aab-b175-1347e636b05c.c000.snappy.parquet#1715406893541255...\n",
      "Removing gs://dsgt-clef-geolifeclef-2024/data/processed/metadata_split/log_bin_2=9/part-00002-258bcaab-9d0e-4aab-b175-1347e636b05c.c000.snappy.parquet#1715406897161332...\n",
      "Removing gs://dsgt-clef-geolifeclef-2024/data/processed/metadata_split/log_bin_2=9/part-00003-258bcaab-9d0e-4aab-b175-1347e636b05c.c000.snappy.parquet#1715406900496241...\n",
      "/ [62 objects]                                                                  \n",
      "==> NOTE: You are performing a sequence of gsutil operations that may\n",
      "run significantly faster if you instead use gsutil -m rm ... Please\n",
      "see the -m section under \"gsutil help options\" for further information\n",
      "about when gsutil -m can be advantageous.\n",
      "\n",
      "\n",
      "Operation completed over 62 objects.                                             \n"
     ]
    }
   ],
   "source": [
    "!gsutil rm -r gs://dsgt-clef-geolifeclef-2024/data/processed/metadata_split/*"
   ]
  },
  {
   "cell_type": "code",
   "execution_count": null,
   "metadata": {},
   "outputs": [],
   "source": []
  },
  {
   "cell_type": "code",
   "execution_count": 49,
   "metadata": {},
   "outputs": [
    {
     "name": "stderr",
     "output_type": "stream",
     "text": [
      "                                                                                \r"
     ]
    }
   ],
   "source": [
    "log_base_name = f\"log_bin_{log_base}\"\n",
    "output_path = \"gs://dsgt-clef-geolifeclef-2024/data/processed/metadata_split\"\n",
    "\n",
    "metadata_count.write.partitionBy(log_base_name).format(\"parquet\").save(output_path)"
   ]
  },
  {
   "cell_type": "code",
   "execution_count": 62,
   "metadata": {},
   "outputs": [
    {
     "name": "stdout",
     "output_type": "stream",
     "text": [
      "gs://dsgt-clef-geolifeclef-2024/data/processed/metadata_split/\n",
      "gs://dsgt-clef-geolifeclef-2024/data/processed/metadata_split/_SUCCESS\n",
      "gs://dsgt-clef-geolifeclef-2024/data/processed/metadata_split/log_bin_2=0/\n",
      "gs://dsgt-clef-geolifeclef-2024/data/processed/metadata_split/log_bin_2=1/\n",
      "gs://dsgt-clef-geolifeclef-2024/data/processed/metadata_split/log_bin_2=10/\n",
      "gs://dsgt-clef-geolifeclef-2024/data/processed/metadata_split/log_bin_2=11/\n",
      "gs://dsgt-clef-geolifeclef-2024/data/processed/metadata_split/log_bin_2=12/\n",
      "gs://dsgt-clef-geolifeclef-2024/data/processed/metadata_split/log_bin_2=13/\n",
      "gs://dsgt-clef-geolifeclef-2024/data/processed/metadata_split/log_bin_2=14/\n",
      "gs://dsgt-clef-geolifeclef-2024/data/processed/metadata_split/log_bin_2=2/\n",
      "gs://dsgt-clef-geolifeclef-2024/data/processed/metadata_split/log_bin_2=3/\n",
      "gs://dsgt-clef-geolifeclef-2024/data/processed/metadata_split/log_bin_2=4/\n",
      "gs://dsgt-clef-geolifeclef-2024/data/processed/metadata_split/log_bin_2=5/\n",
      "gs://dsgt-clef-geolifeclef-2024/data/processed/metadata_split/log_bin_2=6/\n",
      "gs://dsgt-clef-geolifeclef-2024/data/processed/metadata_split/log_bin_2=7/\n",
      "gs://dsgt-clef-geolifeclef-2024/data/processed/metadata_split/log_bin_2=8/\n",
      "gs://dsgt-clef-geolifeclef-2024/data/processed/metadata_split/log_bin_2=9/\n"
     ]
    }
   ],
   "source": [
    "!gsutil ls gs://dsgt-clef-geolifeclef-2024/data/processed/metadata_split"
   ]
  },
  {
   "cell_type": "code",
   "execution_count": 63,
   "metadata": {},
   "outputs": [
    {
     "data": {
      "text/plain": [
       "['gs://dsgt-clef-geolifeclef-2024/data/processed/metadata_split/log_bin_2=9',\n",
       " 'gs://dsgt-clef-geolifeclef-2024/data/processed/metadata_split/log_bin_2=12',\n",
       " 'gs://dsgt-clef-geolifeclef-2024/data/processed/metadata_split/log_bin_2=1',\n",
       " 'gs://dsgt-clef-geolifeclef-2024/data/processed/metadata_split/log_bin_2=13',\n",
       " 'gs://dsgt-clef-geolifeclef-2024/data/processed/metadata_split/log_bin_2=14',\n",
       " 'gs://dsgt-clef-geolifeclef-2024/data/processed/metadata_split/log_bin_2=2',\n",
       " 'gs://dsgt-clef-geolifeclef-2024/data/processed/metadata_split/log_bin_2=4',\n",
       " 'gs://dsgt-clef-geolifeclef-2024/data/processed/metadata_split/log_bin_2=6',\n",
       " 'gs://dsgt-clef-geolifeclef-2024/data/processed/metadata_split/log_bin_2=3',\n",
       " 'gs://dsgt-clef-geolifeclef-2024/data/processed/metadata_split/log_bin_2=0',\n",
       " 'gs://dsgt-clef-geolifeclef-2024/data/processed/metadata_split/log_bin_2=7',\n",
       " 'gs://dsgt-clef-geolifeclef-2024/data/processed/metadata_split/log_bin_2=8',\n",
       " 'gs://dsgt-clef-geolifeclef-2024/data/processed/metadata_split/log_bin_2=10',\n",
       " 'gs://dsgt-clef-geolifeclef-2024/data/processed/metadata_split/log_bin_2=5',\n",
       " 'gs://dsgt-clef-geolifeclef-2024/data/processed/metadata_split/log_bin_2=11']"
      ]
     },
     "execution_count": 63,
     "metadata": {},
     "output_type": "execute_result"
    }
   ],
   "source": [
    "import os\n",
    "from google.cloud import storage\n",
    "\n",
    "\n",
    "def list_blobs_with_prefix(bucket_name, prefix, delimiter=\"/\"):\n",
    "    \"\"\"List all blobs in a bucket that begin with the prefix.\"\"\"\n",
    "    storage_client = storage.Client()\n",
    "\n",
    "    # Ensure prefix ends with a delimiter if we're trying to list \"directories\"\n",
    "    if not prefix.endswith(delimiter):\n",
    "        prefix += delimiter\n",
    "\n",
    "    blobs = storage_client.list_blobs(bucket_name, prefix=prefix, delimiter=delimiter)\n",
    "\n",
    "    for _ in blobs:\n",
    "        pass\n",
    "\n",
    "    prefixes = []\n",
    "    if hasattr(blobs, \"prefixes\"):\n",
    "        for prefix in blobs.prefixes:\n",
    "            if prefix.endswith(delimiter):\n",
    "                prefix = prefix[:-1]\n",
    "            prefixes.append(os.path.join(\"gs://\" + bucket_name, prefix))\n",
    "    else:\n",
    "        print(\"No subdirectories found.\")\n",
    "\n",
    "    return prefixes\n",
    "\n",
    "\n",
    "# Example usage\n",
    "bucket_name = \"dsgt-clef-geolifeclef-2024\"\n",
    "prefix = \"data/processed/metadata_split\"\n",
    "delimiter = \"/\"  # This helps to list \"directories\"\n",
    "\n",
    "directories = list_blobs_with_prefix(bucket_name, prefix, delimiter)\n",
    "directories"
   ]
  },
  {
   "cell_type": "code",
   "execution_count": 65,
   "metadata": {},
   "outputs": [
    {
     "name": "stdout",
     "output_type": "stream",
     "text": [
      "+---------+--------+--------+-------------------+--------------------+---------+---------+----+-----------------+-----+\n",
      "|speciesId| dataset|surveyId|           lat_proj|            lon_proj|      lat|      lon|year|geoUncertaintyInM|count|\n",
      "+---------+--------+--------+-------------------+--------------------+---------+---------+----+-----------------+-----+\n",
      "|   1051.0|pa_train| 3412695|-2184955.7611585953|1.6529686403457548E7|51.791987| 5.052532|2018|              3.0| 5922|\n",
      "|   1761.0|      po|  413828|-2772968.6334859626|1.6643487800882865E7| 49.71669|-1.858366|2020|             10.0| 5835|\n",
      "|   1051.0|pa_train| 2988921|-1622389.4078049771|1.5032506910059154E7| 42.44147| 19.24652|2020|             10.0| 5922|\n",
      "|   1051.0|pa_train|  949197|-2209196.5968492534|1.6592893719301667E7|52.114129| 4.314883|2019|              3.0| 5922|\n",
      "|   1761.0|      po|     892|-2375170.7526728497|1.6564332281930208E7| 51.14661|  2.73312|2020|             30.0| 5835|\n",
      "|   1761.0|pa_train| 1945746|-1700593.8062245608| 1.681289578055435E7| 55.96476|  8.69837|2017|             10.0| 5835|\n",
      "|   1051.0|pa_train| 1808924|-1114452.6844340228|1.5379330784975622E7| 46.57971|   23.893|2017|              0.0| 5922|\n",
      "|   1051.0|pa_train|  393650| -1619422.960839326| 1.680344427253925E7| 56.24946|   9.8313|2017|             10.0| 5922|\n",
      "|   1761.0|      po|  517825| -1706317.719012958|1.6668581771903183E7| 54.88816| 9.723228|2021|              6.0| 5835|\n",
      "|   1761.0|      po|  255182|-1609058.8329569772|1.7047126877600126E7| 58.06449| 7.975252|2017|             50.0| 5835|\n",
      "|   1761.0|pa_train| 1654882| -1578913.968269862| 1.662069517932225E7| 55.06085| 11.71279|2017|             10.0| 5835|\n",
      "|    305.0|pa_train| 1634317| -2040091.240857935|1.5577275127857655E7|45.450592|12.397358|2018|             20.0| 4815|\n",
      "|   1051.0|pa_train| 3918779| -2201790.213512027| 1.640193735056172E7|50.831558| 5.778331|2018|              3.0| 5922|\n",
      "|    305.0|      po|   75347|-2239744.6561874533|1.6038376496177886E7|  48.1026| 7.728986|2021|              4.7| 4815|\n",
      "|   1051.0|pa_train| 1398225|-1154898.3448386183|1.4833913986335546E7| 41.89137| 25.08877|2017|              0.0| 5922|\n",
      "|   1761.0|pa_train| 3660816|-2109830.1207851265|1.6674109377849048E7|53.130233| 4.813383|2018|              3.0| 5835|\n",
      "|   1051.0|      po|  315338|-2576191.7311407058|1.6702563683887396E7| 51.06801| -0.40245|2020|             24.0| 5922|\n",
      "|   1761.0|pa_train|  901327| -1550879.073457547| 1.671001519397667E7| 55.84496| 11.44192|2017|             10.0| 5835|\n",
      "|   1051.0|pa_train| 3013352|-1503064.1886705207|1.6704780762780344E7| 56.00059| 12.11996|2019|             10.0| 5922|\n",
      "|   1051.0|pa_train| 2963927|-1622133.5122723328|1.5031548115530979E7| 42.43437| 19.25274|2020|             10.0| 5922|\n",
      "+---------+--------+--------+-------------------+--------------------+---------+---------+----+-----------------+-----+\n",
      "only showing top 20 rows\n",
      "\n"
     ]
    },
    {
     "name": "stderr",
     "output_type": "stream",
     "text": [
      "                                                                                \r"
     ]
    }
   ],
   "source": [
    "test_df = spark.read.parquet(directories[1])\n",
    "test_df.show()"
   ]
  },
  {
   "cell_type": "code",
   "execution_count": 14,
   "metadata": {},
   "outputs": [
    {
     "ename": "ModuleNotFoundError",
     "evalue": "No module named 'sparkdl'",
     "output_type": "error",
     "traceback": [
      "\u001b[0;31m---------------------------------------------------------------------------\u001b[0m",
      "\u001b[0;31mModuleNotFoundError\u001b[0m                       Traceback (most recent call last)",
      "Cell \u001b[0;32mIn[14], line 2\u001b[0m\n\u001b[1;32m      1\u001b[0m \u001b[38;5;28;01mfrom\u001b[39;00m \u001b[38;5;21;01mpyspark\u001b[39;00m\u001b[38;5;21;01m.\u001b[39;00m\u001b[38;5;21;01mml\u001b[39;00m\u001b[38;5;21;01m.\u001b[39;00m\u001b[38;5;21;01mfeature\u001b[39;00m \u001b[38;5;28;01mimport\u001b[39;00m VectorAssembler\n\u001b[0;32m----> 2\u001b[0m \u001b[38;5;28;01mfrom\u001b[39;00m \u001b[38;5;21;01msparkdl\u001b[39;00m\u001b[38;5;21;01m.\u001b[39;00m\u001b[38;5;21;01mxgboost\u001b[39;00m \u001b[38;5;28;01mimport\u001b[39;00m XgboostClassifier\n\u001b[1;32m      4\u001b[0m feature_cols \u001b[38;5;241m=\u001b[39m [\u001b[38;5;124m\"\u001b[39m\u001b[38;5;124mlat\u001b[39m\u001b[38;5;124m\"\u001b[39m, \u001b[38;5;124m\"\u001b[39m\u001b[38;5;124mlon\u001b[39m\u001b[38;5;124m\"\u001b[39m]\n\u001b[1;32m      5\u001b[0m assembler \u001b[38;5;241m=\u001b[39m VectorAssembler(inputCols\u001b[38;5;241m=\u001b[39mfeature_cols, outputCol\u001b[38;5;241m=\u001b[39m\u001b[38;5;124m\"\u001b[39m\u001b[38;5;124mfeatures\u001b[39m\u001b[38;5;124m\"\u001b[39m)\n",
      "\u001b[0;31mModuleNotFoundError\u001b[0m: No module named 'sparkdl'"
     ]
    }
   ],
   "source": [
    "from pyspark.ml.feature import VectorAssembler\n",
    "from xgboost.spark import SparkXGBClassifier\n",
    "\n",
    "feature_cols = [\"lat\", \"lon\"]\n",
    "assembler = VectorAssembler(inputCols=feature_cols, outputCol=\"features\")\n",
    "train_df = assembler.transform(metadata_count)\n",
    "\n",
    "xgb_classifier = XgboostClassifier(inputCols=feature_cols, outputCol=\"speciesId\")\n",
    "\n",
    "models = {}\n",
    "\n",
    "for group in groups:\n",
    "    group_bin = group[f\"log_bin {log_base}\"]\n",
    "    group_data = train_df.filter(F.col(log_col_name) == group_bin)\n",
    "\n",
    "    model = xgb_classifier.fit(group_data)\n",
    "    models[group_bin] = model"
   ]
  },
  {
   "cell_type": "code",
   "execution_count": null,
   "metadata": {},
   "outputs": [],
   "source": []
  }
 ],
 "metadata": {
  "kernelspec": {
   "display_name": "Python 3",
   "language": "python",
   "name": "python3"
  },
  "language_info": {
   "codemirror_mode": {
    "name": "ipython",
    "version": 3
   },
   "file_extension": ".py",
   "mimetype": "text/x-python",
   "name": "python",
   "nbconvert_exporter": "python",
   "pygments_lexer": "ipython3",
   "version": "3.10.12"
  }
 },
 "nbformat": 4,
 "nbformat_minor": 2
}
