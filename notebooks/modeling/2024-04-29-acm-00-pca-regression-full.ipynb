{
 "cells": [
  {
   "cell_type": "code",
   "execution_count": 1,
   "metadata": {},
   "outputs": [
    {
     "name": "stderr",
     "output_type": "stream",
     "text": [
      "24/04/29 07:29:37 WARN Utils: Your hostname, daphne-major resolves to a loopback address: 127.0.1.1; using 172.28.199.217 instead (on interface eth0)\n",
      "24/04/29 07:29:37 WARN Utils: Set SPARK_LOCAL_IP if you need to bind to another address\n",
      "Setting default log level to \"WARN\".\n",
      "To adjust logging level use sc.setLogLevel(newLevel). For SparkR, use setLogLevel(newLevel).\n",
      "24/04/29 07:29:39 WARN NativeCodeLoader: Unable to load native-hadoop library for your platform... using builtin-java classes where applicable\n",
      "24/04/29 07:29:39 WARN SparkConf: Note that spark.local.dir will be overridden by the value set by the cluster manager (via SPARK_LOCAL_DIRS in mesos/standalone/kubernetes and LOCAL_DIRS in YARN).\n"
     ]
    },
    {
     "name": "stdout",
     "output_type": "stream",
     "text": [
      "root\n",
      " |-- dataset: string (nullable = true)\n",
      " |-- surveyId: integer (nullable = true)\n",
      " |-- lat_proj: double (nullable = true)\n",
      " |-- lon_proj: double (nullable = true)\n",
      " |-- lat: double (nullable = true)\n",
      " |-- lon: double (nullable = true)\n",
      " |-- year: integer (nullable = true)\n",
      " |-- geoUncertaintyInM: double (nullable = true)\n",
      " |-- speciesId: double (nullable = true)\n",
      "\n",
      "+--------+--------+-------------------+--------------------+---------+---------+----+-----------------+---------+\n",
      "| dataset|surveyId|           lat_proj|            lon_proj|      lat|      lon|year|geoUncertaintyInM|speciesId|\n",
      "+--------+--------+-------------------+--------------------+---------+---------+----+-----------------+---------+\n",
      "|pa_train| 1154667|-1532011.0411057267| 1.691006027258277E7| 57.41102|  10.1656|2018|             10.0|   5928.0|\n",
      "|      po|  328943|-1238969.8380109437|1.6157490707117997E7| 52.66047|  19.0257|2021|              4.0|   8654.0|\n",
      "|      po|  272993| -3131000.345551669|1.5794519571905952E7| 42.70678| 0.578367|2021|             7.67|  10929.0|\n",
      "|      po|   42950| -2693959.769707624|1.6015928734426929E7| 46.04146| 3.254066|2020|            21.44|   6837.0|\n",
      "|      po|   32868| -2341953.455934548|1.6504383916338675E7| 50.90031|  3.52936|2020|             25.0|   2112.0|\n",
      "|pa_train| 1655162|-2702929.1847960646|1.6298793816959836E7| 47.87137|  1.32333|2019|              1.0|  10385.0|\n",
      "|      po|  670234|-2036981.8590675113|  1.57872775137939E7|  47.0442| 11.35543|2020|              2.0|    651.0|\n",
      "|      po|  589121|-1777936.5218863091|1.5888547154955283E7| 48.74094| 13.73946|2020|              8.5|   2844.0|\n",
      "|pa_train|  345603|-1389743.7790760458|1.6542768033002183E7| 55.19991| 14.76312|2018|             10.0|   1170.0|\n",
      "|pa_train|  318150|-1733612.7867249795|1.6802006101411916E7| 55.74012|  8.35988|2017|             10.0|   2885.0|\n",
      "|pa_train| 2331885| -2285666.944556036|1.6524370506686892E7|51.295156| 3.987151|2017|              3.0|    340.0|\n",
      "|      po|  317870|-2354252.9617561535|1.5956893484668594E7| 47.05761| 7.011929|2020|            65.67|   7631.0|\n",
      "|      po|  515379|-1550172.3377061433|1.6726513644846333E7| 55.97131| 11.33033|2021|            69.83|   2211.0|\n",
      "|pa_train| 1291711|  -2780706.21819399|1.5972106844648577E7| 45.37428|  2.69648|2019|              1.0|   4238.0|\n",
      "|      po|   98967| -1608698.136602696| 1.683675260405097E7| 56.54018|  9.71395|2017|              3.0|   6056.0|\n",
      "|pa_train| 1509601|-1614865.1712672543|1.5046729648528673E7|42.576714|19.278194|2018|              0.0|   8351.0|\n",
      "|      po|  692501|-1428853.6229169564|1.4613155334146844E7| 39.45714| 22.67864|2020|              4.0|   9126.0|\n",
      "|pa_train|  509430|-1689105.3883994417|1.6759262311357759E7| 55.62524|  9.26265|2017|             10.0|   8151.0|\n",
      "|      po|  108373| -3944689.685146342|1.5579899147203334E7| 37.91857|-4.733669|2019|             25.0|   3834.0|\n",
      "|pa_train| 1484108|   -2099533.6900234|1.5123301999800764E7| 41.78508| 13.82349|2017|             20.0|   3451.0|\n",
      "+--------+--------+-------------------+--------------------+---------+---------+----+-----------------+---------+\n",
      "only showing top 20 rows\n",
      "\n"
     ]
    }
   ],
   "source": [
    "%load_ext autoreload\n",
    "%autoreload 2\n",
    "from geolifeclef.utils import get_spark\n",
    "from pyspark.sql import functions as F\n",
    "\n",
    "spark = get_spark(memory=\"24g\", executor_memory=\"1g\")\n",
    "metadata = spark.read.parquet(\n",
    "    \"../../data/geolifeclef-2024/data/processed/metadata_clean/v1\"\n",
    ")\n",
    "metadata.printSchema()\n",
    "metadata.show()"
   ]
  },
  {
   "cell_type": "code",
   "execution_count": 2,
   "metadata": {},
   "outputs": [
    {
     "name": "stderr",
     "output_type": "stream",
     "text": [
      "[Stage 7:====================>                                   (10 + 18) / 28]\r"
     ]
    },
    {
     "name": "stdout",
     "output_type": "stream",
     "text": [
      "88987\n",
      "+--------+-------------------+--------------------+--------------------+--------------------+---------+-------------+--------+-------+\n",
      "|surveyId|           lat_proj|            lon_proj|           labels_sp|              labels|sample_id|is_validation|is_train|is_test|\n",
      "+--------+-------------------+--------------------+--------------------+--------------------+---------+-------------+--------+-------+\n",
      "|     212|-2901099.7073597685|1.5712712997500205E7|(11255,[51,476,98...|[51.0, 476.0, 982...|       82|        false|   false|   true|\n",
      "|     222|-1577042.7181193172| 1.686875248622122E7|(11255,[254,433,5...|[254.0, 433.0, 54...|       73|        false|    true|  false|\n",
      "|     243|-1745905.7764134756| 1.679526716269353E7|(11255,[129,254,1...|[129.0, 254.0, 13...|       89|        false|   false|   true|\n",
      "|     324|-3149612.3055191883|1.5932557464872137E7|(11255,[146,694,2...|[146.0, 694.0, 23...|       19|        false|    true|  false|\n",
      "|     333|-2985718.7817890504|1.6179947656697601E7|(11255,[981,1888,...|[981.0, 1888.0, 2...|       33|        false|    true|  false|\n",
      "|     391|  -2037225.59798842| 1.657495688734197E7|(11255,[540,581,1...|[540.0, 581.0, 17...|       19|        false|    true|  false|\n",
      "|     410|-2445269.7306538164| 1.603313953562088E7|(11255,[963,981,1...|[963.0, 981.0, 18...|       64|        false|    true|  false|\n",
      "|     489|-1957777.4671866586|1.5745169963900825E7|(11255,[167,178,4...|[167.0, 178.0, 42...|       61|        false|    true|  false|\n",
      "|     590|-2199146.9420442325|1.6511424660377022E7|(11255,[254,540,9...|[254.0, 540.0, 99...|       67|        false|    true|  false|\n",
      "|     607|-1497829.3934174944|1.6928326941004083E7|(11255,[2556,3497...|[2556.0, 3497.0, ...|       76|        false|    true|  false|\n",
      "|     662| -1602431.611822716|1.6843351042501558E7|(11255,[254,433,4...|[254.0, 433.0, 47...|       81|        false|   false|   true|\n",
      "|     664|-2156503.5051556984|  1.64236237273084E7|(11255,[424,1180,...|[424.0, 1180.0, 1...|       56|        false|    true|  false|\n",
      "|     729|-1702523.9964240193|1.6841133118677497E7|(11255,[53,651,96...|[53.0, 651.0, 963...|        6|         true|    true|  false|\n",
      "|     744|-1744691.0302163311|1.6708929694082681E7|(11255,[2823,5386...|[2823.0, 5386.0, ...|       13|        false|    true|  false|\n",
      "|     769| -2107544.411980301|1.6538396681589898E7|(11255,[1539,4638...|[1539.0, 4638.0, ...|       70|        false|    true|  false|\n",
      "|     772|-1615324.6702687168|1.6799707284953415E7|(11255,[254,340,4...|[254.0, 340.0, 47...|        3|         true|    true|  false|\n",
      "|     779|-2693512.6723982766| 1.625674725847261E7|(11255,[544,1498,...|[544.0, 1498.0, 1...|       51|        false|    true|  false|\n",
      "|     841| -1736717.054276861| 1.680551465227952E7|(11255,[254,1180,...|[254.0, 1180.0, 1...|       83|        false|   false|   true|\n",
      "|     863|-2106707.9870040007|1.6562283554020682E7|(11255,[540,1170,...|[540.0, 1170.0, 3...|       33|        false|    true|  false|\n",
      "|     878|  -2667773.14640872|1.5634879285186851E7|(11255,[51,476,87...|[51.0, 476.0, 876...|        0|         true|    true|  false|\n",
      "+--------+-------------------+--------------------+--------------------+--------------------+---------+-------------+--------+-------+\n",
      "only showing top 20 rows\n",
      "\n"
     ]
    },
    {
     "name": "stderr",
     "output_type": "stream",
     "text": [
      "                                                                                \r"
     ]
    }
   ],
   "source": [
    "from pyspark.ml.linalg import SparseVector, VectorUDT\n",
    "from collections import Counter\n",
    "\n",
    "\n",
    "def _collect_sparse_labels(array):\n",
    "    \"\"\"Turn a list of numbers into a sparse vector.\"\"\"\n",
    "    max_species = 11255\n",
    "\n",
    "    @F.udf(VectorUDT())\n",
    "    def func(array):\n",
    "        if not array:\n",
    "            return SparseVector(max_species, [])\n",
    "        return SparseVector(max_species, sorted(Counter(array).items()))\n",
    "\n",
    "    return func(array)\n",
    "\n",
    "\n",
    "df = (\n",
    "    (\n",
    "        metadata.where(F.col(\"dataset\") == \"pa_train\")\n",
    "        .groupBy(\"surveyId\")\n",
    "        .agg(\n",
    "            F.mean(\"lat_proj\").alias(\"lat_proj\"),\n",
    "            F.mean(\"lon_proj\").alias(\"lon_proj\"),\n",
    "            _collect_sparse_labels(F.collect_list(\"speciesId\")).alias(\"labels_sp\"),\n",
    "            F.sort_array(F.collect_set(\"speciesId\")).alias(\"labels\"),\n",
    "        )\n",
    "        .withColumn(\"sample_id\", F.crc32(F.col(\"surveyId\").cast(\"string\")) % 100)\n",
    "        .withColumn(\"is_validation\", F.col(\"sample_id\") < 10)\n",
    "        .withColumn(\"is_train\", F.col(\"sample_id\") < 80)\n",
    "        .withColumn(\"is_test\", F.col(\"sample_id\") >= 80)\n",
    "    )\n",
    "    .orderBy(\"surveyId\")\n",
    "    .cache()\n",
    ")\n",
    "print(df.count())\n",
    "df.show()"
   ]
  },
  {
   "cell_type": "code",
   "execution_count": 3,
   "metadata": {},
   "outputs": [],
   "source": [
    "from pyspark.ml.feature import VectorAssembler, StandardScaler, PCA\n",
    "\n",
    "scaled_labels = (\n",
    "    StandardScaler(\n",
    "        inputCol=\"labels_sp\", outputCol=\"labels_centered\", withStd=False, withMean=True\n",
    "    )\n",
    "    .fit(df)\n",
    "    .transform(df)\n",
    ")"
   ]
  },
  {
   "cell_type": "code",
   "execution_count": 4,
   "metadata": {},
   "outputs": [
    {
     "name": "stderr",
     "output_type": "stream",
     "text": [
      "24/04/29 07:30:21 WARN PythonRunner: Detected deadlock while completing task 0.0 in stage 30 (TID 697): Attempting to kill Python Worker\n",
      "24/04/29 07:30:21 WARN RowMatrix: The input data is not directly cached, which may hurt performance if its parent RDDs are also uncached.\n",
      "[Stage 141:===================================================> (194 + 6) / 200]\r"
     ]
    },
    {
     "name": "stdout",
     "output_type": "stream",
     "text": [
      "[324.16952924662274,261.938272376485]\n",
      "(11255, 2)\n",
      "MapPartitionsRDD[169] at mapPartitions at PythonMLLibAPI.scala:1344\n",
      "svd computed in 951.50s\n"
     ]
    },
    {
     "name": "stderr",
     "output_type": "stream",
     "text": [
      "24/04/29 07:46:07 WARN RowMatrix: The input data was not directly cached, which may hurt performance if its parent RDDs are also uncached.\n"
     ]
    }
   ],
   "source": [
    "# compute svd using the labels_sp column\n",
    "from pyspark.mllib.linalg.distributed import RowMatrix\n",
    "from pyspark.mllib.linalg import Vectors\n",
    "from contexttimer import Timer\n",
    "\n",
    "# convert to a sparse matrix\n",
    "X = RowMatrix(\n",
    "    scaled_labels.rdd.map(lambda x: Vectors.fromML(x.labels_centered)).cache()\n",
    ")\n",
    "with Timer() as t:\n",
    "    svd = X.computeSVD(2, computeU=True)\n",
    "    print(svd.s)\n",
    "    print(svd.V.toArray().shape)\n",
    "    print(svd.U.rows)\n",
    "    # pca = X.computePrincipalComponents(16)\n",
    "    # print(pca)\n",
    "\n",
    "print(f\"svd computed in {t.elapsed:.2f}s\")"
   ]
  },
  {
   "cell_type": "code",
   "execution_count": 5,
   "metadata": {},
   "outputs": [
    {
     "name": "stderr",
     "output_type": "stream",
     "text": [
      "                                                                                \r"
     ]
    },
    {
     "name": "stdout",
     "output_type": "stream",
     "text": [
      "root\n",
      " |-- index: long (nullable = true)\n",
      " |-- labels_svd: vector (nullable = true)\n",
      " |-- surveyId: long (nullable = true)\n",
      "\n"
     ]
    },
    {
     "name": "stderr",
     "output_type": "stream",
     "text": [
      "                                                                                \r"
     ]
    },
    {
     "name": "stdout",
     "output_type": "stream",
     "text": [
      "+-----+---------------------------------------------+--------+\n",
      "|index|                                   labels_svd|surveyId|\n",
      "+-----+---------------------------------------------+--------+\n",
      "|   26| [0.004343498115214126,-0.003363208215765497]|    1191|\n",
      "|   29|  [-7.17245831061917E-4,8.634193068591118E-4]|    1386|\n",
      "|  474|[2.066592609943839E-4,-2.4705978577512107E-4]|   21721|\n",
      "|  964| [-0.0030182006426398927,9.32739118855535E-4]|   42555|\n",
      "| 1677|[-1.5598121064664387E-4,8.386758741235021E-4]|   76148|\n",
      "+-----+---------------------------------------------+--------+\n",
      "only showing top 5 rows\n",
      "\n"
     ]
    }
   ],
   "source": [
    "labels_svd = (\n",
    "    svd.U.rows.zipWithIndex()\n",
    "    .map(lambda x: (x[1], x[0]))\n",
    "    .toDF([\"index\", \"labels_svd\"])\n",
    "    .join(\n",
    "        df.select(\"surveyId\")\n",
    "        .rdd.zipWithIndex()\n",
    "        .map(lambda x: (x[1], x[0].surveyId))\n",
    "        .toDF([\"index\", \"surveyId\"]),\n",
    "        on=\"index\",\n",
    "    )\n",
    "    .cache()\n",
    ")\n",
    "labels_svd.printSchema()\n",
    "labels_svd.show(n=5, truncate=80)"
   ]
  },
  {
   "cell_type": "code",
   "execution_count": 6,
   "metadata": {},
   "outputs": [
    {
     "name": "stdout",
     "output_type": "stream",
     "text": [
      "(88987, 2)\n"
     ]
    },
    {
     "data": {
      "image/png": "[encoded data removed]",
      "text/plain": [
       "<Figure size 640x480 with 1 Axes>"
      ]
     },
     "metadata": {},
     "output_type": "display_data"
    }
   ],
   "source": [
    "import matplotlib.pyplot as plt\n",
    "import numpy as np\n",
    "\n",
    "U = np.stack(labels_svd.toPandas().labels_svd)\n",
    "print(U.shape)\n",
    "plt.scatter(U[:, 0], U[:, 1], alpha=0.5)\n",
    "plt.show()"
   ]
  },
  {
   "cell_type": "code",
   "execution_count": 7,
   "metadata": {},
   "outputs": [],
   "source": [
    "from pynndescent import NNDescent\n",
    "\n",
    "index = NNDescent(U, metric=\"cosine\")"
   ]
  },
  {
   "cell_type": "code",
   "execution_count": 8,
   "metadata": {},
   "outputs": [
    {
     "name": "stderr",
     "output_type": "stream",
     "text": [
      "/home/anthony/omscs/dsgt-clef/venv/lib/python3.11/site-packages/scipy/sparse/_index.py:145: SparseEfficiencyWarning: Changing the sparsity structure of a csr_matrix is expensive. lil_matrix is more efficient.\n",
      "  self._set_arrayXarray(i, j, x)\n"
     ]
    },
    {
     "name": "stdout",
     "output_type": "stream",
     "text": [
      "[[ 5787     0  2919 31210 60389 56827  6184 18025 25239 64167]] [[0.00000000e+00 0.00000000e+00 0.00000000e+00 0.00000000e+00\n",
      "  0.00000000e+00 0.00000000e+00 1.19209271e-07 1.19209271e-07\n",
      "  2.38418528e-07 2.38418528e-07]]\n"
     ]
    }
   ],
   "source": [
    "# test a query\n",
    "indices, distances = index.query(U[:1], k=10)\n",
    "print(indices, distances)"
   ]
  }
 ],
 "metadata": {
  "kernelspec": {
   "display_name": "venv",
   "language": "python",
   "name": "python3"
  },
  "language_info": {
   "codemirror_mode": {
    "name": "ipython",
    "version": 3
   },
   "file_extension": ".py",
   "mimetype": "text/x-python",
   "name": "python",
   "nbconvert_exporter": "python",
   "pygments_lexer": "ipython3",
   "version": "3.11.6"
  }
 },
 "nbformat": 4,
 "nbformat_minor": 2
}
