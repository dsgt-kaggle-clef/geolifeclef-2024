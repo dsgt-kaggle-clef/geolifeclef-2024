{
 "cells": [
  {
   "cell_type": "code",
   "execution_count": 3,
   "metadata": {
    "metadata": {}
   },
   "outputs": [
    {
     "name": "stderr",
     "output_type": "stream",
     "text": [
      "[autoreload of geolifeclef.torch.multilabel.data failed: Traceback (most recent call last):\n",
      "  File \"/home/anthony/omscs/dsgt-clef/venv/lib/python3.11/site-packages/IPython/extensions/autoreload.py\", line 276, in check\n",
      "    superreload(m, reload, self.old_objects)\n",
      "  File \"/home/anthony/omscs/dsgt-clef/venv/lib/python3.11/site-packages/IPython/extensions/autoreload.py\", line 500, in superreload\n",
      "    update_generic(old_obj, new_obj)\n",
      "  File \"/home/anthony/omscs/dsgt-clef/venv/lib/python3.11/site-packages/IPython/extensions/autoreload.py\", line 397, in update_generic\n",
      "    update(a, b)\n",
      "  File \"/home/anthony/omscs/dsgt-clef/venv/lib/python3.11/site-packages/IPython/extensions/autoreload.py\", line 349, in update_class\n",
      "    if update_generic(old_obj, new_obj):\n",
      "       ^^^^^^^^^^^^^^^^^^^^^^^^^^^^^^^^\n",
      "  File \"/home/anthony/omscs/dsgt-clef/venv/lib/python3.11/site-packages/IPython/extensions/autoreload.py\", line 397, in update_generic\n",
      "    update(a, b)\n",
      "  File \"/home/anthony/omscs/dsgt-clef/venv/lib/python3.11/site-packages/IPython/extensions/autoreload.py\", line 309, in update_function\n",
      "    setattr(old, name, getattr(new, name))\n",
      "ValueError: __init__() requires a code object with 0 free vars, not 1\n",
      "]\n"
     ]
    },
    {
     "name": "stdout",
     "output_type": "stream",
     "text": [
      "The autoreload extension is already loaded. To reload it, use:\n",
      "  %reload_ext autoreload\n"
     ]
    },
    {
     "name": "stderr",
     "output_type": "stream",
     "text": [
      "24/05/09 17:39:40 WARN SparkSession: Using an existing Spark session; only runtime SQL configurations will take effect.\n"
     ]
    },
    {
     "name": "stdout",
     "output_type": "stream",
     "text": [
      "root\n",
      " |-- dataset: string (nullable = true)\n",
      " |-- surveyId: integer (nullable = true)\n",
      " |-- lat_proj: double (nullable = true)\n",
      " |-- lon_proj: double (nullable = true)\n",
      " |-- lat: double (nullable = true)\n",
      " |-- lon: double (nullable = true)\n",
      " |-- year: integer (nullable = true)\n",
      " |-- geoUncertaintyInM: double (nullable = true)\n",
      " |-- speciesId: double (nullable = true)\n",
      "\n"
     ]
    },
    {
     "name": "stdout",
     "output_type": "stream",
     "text": [
      "+--------+--------+------------------+------------------+---------+--------+----+-----------------+---------+\n",
      "| dataset|surveyId|          lat_proj|          lon_proj|      lat|     lon|year|geoUncertaintyInM|speciesId|\n",
      "+--------+--------+------------------+------------------+---------+--------+----+-----------------+---------+\n",
      "|pa_train|  466777| 4258649.026349918| 3627262.163247163| 55.74584| 9.00774|2017|             10.0|   8818.0|\n",
      "|pa_train|  181246|  3939982.81917914| 2803538.119830606| 48.22618| 4.86949|2019|              1.0|   8208.0|\n",
      "|pa_train|  670712|4324135.7407767875|3642589.0695722783| 55.88744|10.05008|2019|             10.0|   2398.0|\n",
      "|pa_train|  692580| 4372050.003956936|3579158.3301057364| 55.31484|10.80367|2017|             10.0|   3969.0|\n",
      "|pa_train| 1295071|3569952.2269496117| 2520200.241981442| 45.35802| 0.39937|2019|              1.0|  10909.0|\n",
      "|pa_train| 1594761|4063343.5648477273|2831212.0165254003| 48.53947| 6.51067|2019|              1.0|   5542.0|\n",
      "|pa_train|  640973| 4288712.862807567| 3758687.266842996| 56.92989| 9.47025|2018|             10.0|    651.0|\n",
      "|pa_train|  789799| 4507429.914891104| 2659495.667033428| 47.02126|12.45062|2018|              5.0|  10904.0|\n",
      "|pa_train| 1242578| 4358902.582536513|3629313.4560678327| 55.76671|10.60349|2017|             10.0|   6915.0|\n",
      "|pa_train|  984017|4289336.6610469865| 3787495.188780888| 57.18889| 9.47691|2018|             10.0|   7122.0|\n",
      "|pa_train| 1382571|4041142.3192172316|3223255.5359218465|52.048671|5.918188|2021|              3.0|   8746.0|\n",
      "|pa_train| 1365337| 4425034.803374173|3641780.6309196535| 55.86939|11.66092|2019|             10.0|   5114.0|\n",
      "|pa_train|    4517|4085986.5149992397| 3347319.365260572|53.182883|6.483306|2018|              3.0|   4397.0|\n",
      "|pa_train|  809864|3985361.4735625847| 3159045.157530306|51.442191|5.168574|2018|              5.0|   9647.0|\n",
      "|pa_train|  672079|  3934082.80996013| 3240259.951316987|52.136839|4.342413|2017|              3.0|   2163.0|\n",
      "|pa_train| 1484108| 4639893.113490392|2083887.1048662516| 41.78508|13.82349|2017|             20.0|  10281.0|\n",
      "|pa_train|  399792| 4419382.613005509|3586962.0630982565| 55.37801|11.55136|2019|             10.0|   2885.0|\n",
      "|pa_train|  905839|  4274077.50155062|3760856.9763245145|  56.9482| 9.22974|2017|             10.0|   7121.0|\n",
      "|pa_train|  788266|3940592.3704455164|2688928.2623467776| 47.19789| 4.97931|2019|              1.0|   3457.0|\n",
      "|pa_train|   55424|4052321.5421605995| 3247102.070588528|52.268136|6.062107|2018|              3.0|   8149.0|\n",
      "+--------+--------+------------------+------------------+---------+--------+----+-----------------+---------+\n",
      "only showing top 20 rows\n",
      "\n"
     ]
    }
   ],
   "source": [
    "%load_ext autoreload\n",
    "%autoreload 2\n",
    "from geolifeclef.utils import get_spark\n",
    "from pyspark.sql import functions as F\n",
    "\n",
    "spark = get_spark(memory=\"24g\", executor_memory=\"1g\")\n",
    "input_path = \"../../data/geolifeclef-2024/data/processed/metadata_clean/v2\"\n",
    "metadata = spark.read.parquet(input_path)\n",
    "metadata.printSchema()\n",
    "metadata.show()"
   ]
  },
  {
   "cell_type": "code",
   "execution_count": 5,
   "metadata": {
    "metadata": {}
   },
   "outputs": [
    {
     "name": "stderr",
     "output_type": "stream",
     "text": [
      "24/05/09 17:40:39 WARN CacheManager: Asked to cache already cached data.\n",
      "Converting floating-point columns to float32\n",
      "The median size 275697 B (< 50 MB) of the parquet files is too small. Total size: 9056784 B. Increase the median file size by calling df.repartition(n) or df.coalesce(n), which might help improve the performance. Parquet files: file:///mnt/data/tmp/20240509174039-appid-local-1715300883035-2a071274-8395-4292-8cd7-a25605422a1b/part-00004-f9e32b0e-1a6d-40d8-92e8-695aab2206f7-c000.parquet, ...\n",
      "Converting floating-point columns to float32\n",
      "The median size 69144 B (< 50 MB) of the parquet files is too small. Total size: 2211788 B. Increase the median file size by calling df.repartition(n) or df.coalesce(n), which might help improve the performance. Parquet files: file:///mnt/data/tmp/20240509174047-appid-local-1715300883035-cbe150fc-a857-4cdf-80a2-58df97f20f29/part-00005-93dad61b-1ab4-49bd-b1aa-858b94f71d66-c000.parquet, ...\n"
     ]
    },
    {
     "data": {
      "text/plain": [
       "{'features': tensor([[4016091.5000, 3132193.2500],\n",
       "         [4441989.0000, 3636221.0000],\n",
       "         [3974507.0000, 3348629.0000],\n",
       "         [4268146.5000, 3647237.7500],\n",
       "         [4367148.0000, 3563753.7500],\n",
       "         [4288645.5000, 3730910.5000],\n",
       "         [4264134.0000, 3600254.0000],\n",
       "         [4643137.5000, 3565657.7500],\n",
       "         [4438344.0000, 3603761.0000],\n",
       "         [4220184.0000, 3666627.2500],\n",
       "         [4323026.0000, 3721717.0000],\n",
       "         [4052518.2500, 3313392.2500],\n",
       "         [3972530.5000, 2297273.7500],\n",
       "         [4334775.5000, 3779046.2500],\n",
       "         [4482246.0000, 3637118.5000],\n",
       "         [4678666.5000, 2917421.2500],\n",
       "         [4209221.0000, 3616201.2500],\n",
       "         [4265088.5000, 3717947.5000],\n",
       "         [4460232.0000, 3648049.2500],\n",
       "         [4775161.0000, 2787932.5000],\n",
       "         [4380858.0000, 3559332.2500],\n",
       "         [4408491.5000, 3634731.5000],\n",
       "         [3484765.2500, 2388498.2500],\n",
       "         [4222718.5000, 3582995.2500],\n",
       "         [3749640.0000, 2209011.5000],\n",
       "         [4235734.0000, 3645249.2500],\n",
       "         [4355165.5000, 3677315.5000],\n",
       "         [4217726.0000, 3619049.5000],\n",
       "         [4336099.5000, 3558284.5000],\n",
       "         [4280901.5000, 3649719.7500],\n",
       "         [3974825.5000, 3239749.0000],\n",
       "         [5083461.5000, 2197361.0000]]),\n",
       " 'labels': tensor(indices=tensor([[    0,     0,     0,  ...,    31,    31,    31],\n",
       "                        [ 1539,  6079,  6962,  ..., 10763, 11087, 11238]]),\n",
       "        values=tensor([1, 1, 2, 1, 1, 1, 1, 1, 1, 1, 1, 1, 1, 1, 1, 1, 1, 1, 1,\n",
       "                       1, 1, 1, 1, 1, 1, 1, 1, 1, 1, 1, 1, 1, 1, 1, 1, 1, 1, 1,\n",
       "                       1, 1, 1, 1, 1, 1, 1, 1, 1, 1, 1, 1, 1, 1, 1, 1, 1, 1, 1,\n",
       "                       1, 1, 1, 1, 1, 1, 1, 1, 1, 1, 1, 1, 1, 1, 1, 1, 2, 2, 2,\n",
       "                       2, 2, 2, 2, 2, 2, 2, 2, 2, 2, 2, 2, 2, 2, 2, 2, 2, 2, 2,\n",
       "                       2, 2, 2, 2, 2, 2, 2, 2, 2, 2, 2, 2, 2, 2, 2, 1, 1, 1, 1,\n",
       "                       1, 1, 1, 1, 1, 1, 1, 1, 1, 1, 1, 1, 1, 1, 1, 1, 1, 1, 1,\n",
       "                       1, 1, 1, 1, 1, 1, 1, 1, 1, 1, 1, 1, 1, 1, 1, 1, 1, 1, 1,\n",
       "                       1, 1, 1, 1, 1, 1, 1, 1, 1, 1, 1, 1, 1, 1, 1, 1, 1, 1, 1,\n",
       "                       1, 1, 1, 1, 1, 1, 1, 1, 1, 1, 1, 1, 1, 1, 1, 1, 1, 1, 1,\n",
       "                       1, 1, 1, 1, 1, 1, 1, 1, 1, 1, 1, 1, 1, 1, 1, 1, 1, 1, 1,\n",
       "                       1, 1, 1, 1, 1, 1, 1, 1, 1, 1, 1, 1, 1, 1, 1, 1, 1, 1, 1,\n",
       "                       1, 1, 1, 1, 1, 1, 1, 1, 1, 1, 1, 1, 1, 1, 1, 1, 1, 1, 1,\n",
       "                       1, 1, 1, 1, 1, 1, 1, 1, 1, 1, 1, 1, 1, 1, 1, 1, 1, 1, 1,\n",
       "                       1, 1, 1, 1, 1, 1, 1, 1, 1, 1, 1, 1, 1, 1, 1, 1, 1, 1, 1,\n",
       "                       1, 1, 1, 1, 1, 1, 1, 1, 1, 1, 1, 1, 1, 1, 1, 1, 1, 1, 1,\n",
       "                       1, 1, 1, 1, 1, 1, 1, 1, 2, 1, 1, 2, 1, 1, 1, 1, 1, 1, 1,\n",
       "                       1, 1, 1, 2, 1, 1, 1, 1, 1, 1, 1, 3, 1, 1, 1, 1, 1, 1, 2,\n",
       "                       1, 2, 1, 1, 1, 2, 1, 1, 1, 1, 1, 1, 1, 1, 1, 1, 1, 1, 1,\n",
       "                       1, 1, 1, 1, 1, 1, 1, 1, 1, 1, 1, 1, 1, 1, 1, 1, 1, 1, 1,\n",
       "                       1, 1, 1, 1, 1, 1, 1, 1, 1, 1, 1, 1, 1, 1, 1, 1, 1, 1, 1,\n",
       "                       1, 1, 1, 1, 1, 1, 1, 1, 1, 1, 1, 1, 1, 1, 1, 1, 1, 1, 1,\n",
       "                       1, 1, 1, 1, 1, 1, 1, 1, 1, 1, 1, 1, 1, 1, 1, 1, 1, 1, 1,\n",
       "                       1, 1, 1, 1, 1, 1, 1, 1, 1, 1, 1, 1, 1, 1, 1, 1, 1, 1, 1,\n",
       "                       1, 1, 1, 1, 1, 1, 1, 1, 1, 1, 1, 1, 1, 1, 1, 1, 1, 1, 1,\n",
       "                       1, 1, 1, 1, 1, 1, 1, 1, 1, 1, 1, 1, 1, 1, 1, 1, 1, 1, 1,\n",
       "                       1, 1, 1, 1, 1, 1, 1, 1, 1, 1, 1, 1, 1, 1, 1, 1, 1, 1, 1,\n",
       "                       1, 1, 1, 1, 1, 1, 1, 1, 1, 1, 1, 1, 1, 1, 1, 1, 1, 1, 1,\n",
       "                       1, 1, 1, 1, 1, 1, 1, 1, 1, 1, 1, 1, 1, 1, 1, 1, 1]),\n",
       "        size=(32, 11255), nnz=549, dtype=torch.int16, layout=torch.sparse_coo)}"
      ]
     },
     "execution_count": 5,
     "metadata": {},
     "output_type": "execute_result"
    }
   ],
   "source": [
    "from geolifeclef.torch.multilabel.data import GeoSpatialDataModel\n",
    "\n",
    "dm = GeoSpatialDataModel(spark, input_path)\n",
    "dm.setup()\n",
    "batch = next(dm.train_dataloader())\n",
    "batch"
   ]
  }
 ],
 "metadata": {
  "kernelspec": {
   "display_name": "venv",
   "language": "python",
   "name": "python3"
  },
  "language_info": {
   "codemirror_mode": {
    "name": "ipython",
    "version": 3
   },
   "file_extension": ".py",
   "mimetype": "text/x-python",
   "name": "python",
   "nbconvert_exporter": "python",
   "pygments_lexer": "ipython3",
   "version": "3.11.6"
  }
 },
 "nbformat": 4,
 "nbformat_minor": 2
}
