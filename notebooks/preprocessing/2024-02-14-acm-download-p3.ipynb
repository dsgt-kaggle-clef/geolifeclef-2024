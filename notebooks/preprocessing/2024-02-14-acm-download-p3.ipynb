{
 "cells": [
  {
   "cell_type": "markdown",
   "metadata": {},
   "source": [
    "# untarring data (part 3)\n",
    "\n",
    "We omitted a few datasets in the last notebook, we'll do the rest of the smaller datasets here.\n",
    "We'll also take care of the satellite imagery here, although this is mostly so we can start to serve this data via nginx."
   ]
  },
  {
   "cell_type": "code",
   "execution_count": 1,
   "metadata": {},
   "outputs": [
    {
     "name": "stdout",
     "output_type": "stream",
     "text": [
      "gs://dsgt-clef-geolifeclef-2024/data/downloaded/\n",
      "gs://dsgt-clef-geolifeclef-2024/data/raw/\n",
      "\n",
      "404.61kiB    gs://dsgt-clef-geolifeclef-2024/data/downloaded/Baseline_runs.zip\n",
      "24.90GiB     gs://dsgt-clef-geolifeclef-2024/data/downloaded/Climate.zip\n",
      "12.19GiB     gs://dsgt-clef-geolifeclef-2024/data/downloaded/Elevation.zip\n",
      "3.02MiB      gs://dsgt-clef-geolifeclef-2024/data/downloaded/For_submission.zip\n",
      "69.66MiB     gs://dsgt-clef-geolifeclef-2024/data/downloaded/HumanFootprint.zip\n",
      "28.46MiB     gs://dsgt-clef-geolifeclef-2024/data/downloaded/LandCover.zip\n",
      "3.89MiB      gs://dsgt-clef-geolifeclef-2024/data/downloaded/Presence_Absence_surveys.zip\n",
      "166.25MiB    gs://dsgt-clef-geolifeclef-2024/data/downloaded/Presence_only_occurrences.zip\n",
      "618.15MiB    gs://dsgt-clef-geolifeclef-2024/data/downloaded/Soilgrids.zip\n",
      "16.46GiB     gs://dsgt-clef-geolifeclef-2024/data/downloaded/patchs_nir.zip\n",
      "16.28GiB     gs://dsgt-clef-geolifeclef-2024/data/downloaded/patchs_rgb.zip\n",
      "1.26GiB      gs://dsgt-clef-geolifeclef-2024/data/downloaded/time_series_all.zip\n",
      "544.00B      gs://dsgt-clef-geolifeclef-2024/data/downloaded/urls.txt\n",
      "71.96GiB     gs://dsgt-clef-geolifeclef-2024/data/downloaded/\n"
     ]
    }
   ],
   "source": [
    "root = \"gs://dsgt-clef-geolifeclef-2024\"\n",
    "! gcloud storage ls {root}/data\n",
    "! echo\n",
    "! gcloud storage du --readable-sizes {root}/data/downloaded"
   ]
  },
  {
   "cell_type": "markdown",
   "metadata": {},
   "source": [
    "```\n",
    "EnvironmentalRasters\t\n",
    "Presence_Absence_surveys\t\n",
    "Presence_only_occurrences\n",
    "SatelliteImages\t\n",
    "SatelliteTimeSeries\n",
    "```"
   ]
  },
  {
   "cell_type": "code",
   "execution_count": 2,
   "metadata": {},
   "outputs": [
    {
     "name": "stdout",
     "output_type": "stream",
     "text": [
      "At gs://dsgt-clef-geolifeclef-2024/data/downloaded/**, worker process 2172 thread 140582022526784 listed 13...\n",
      "Copying gs://dsgt-clef-geolifeclef-2024/data/downloaded/Baseline_runs.zip to file:///mnt/data/downloaded/Baseline_runs.zip\n",
      "Copying gs://dsgt-clef-geolifeclef-2024/data/downloaded/Climate.zip to file:///mnt/data/downloaded/Climate.zip\n",
      "Copying gs://dsgt-clef-geolifeclef-2024/data/downloaded/Elevation.zip to file:///mnt/data/downloaded/Elevation.zip\n",
      "Copying gs://dsgt-clef-geolifeclef-2024/data/downloaded/For_submission.zip to file:///mnt/data/downloaded/For_submission.zip\n",
      "Copying gs://dsgt-clef-geolifeclef-2024/data/downloaded/HumanFootprint.zip to file:///mnt/data/downloaded/HumanFootprint.zip\n",
      "Copying gs://dsgt-clef-geolifeclef-2024/data/downloaded/LandCover.zip to file:///mnt/data/downloaded/LandCover.zip\n",
      "Copying gs://dsgt-clef-geolifeclef-2024/data/downloaded/Presence_Absence_surveys.zip to file:///mnt/data/downloaded/Presence_Absence_surveys.zip\n",
      "Copying gs://dsgt-clef-geolifeclef-2024/data/downloaded/Presence_only_occurrences.zip to file:///mnt/data/downloaded/Presence_only_occurrences.zip\n",
      "Copying gs://dsgt-clef-geolifeclef-2024/data/downloaded/Soilgrids.zip to file:///mnt/data/downloaded/Soilgrids.zip\n",
      "Copying gs://dsgt-clef-geolifeclef-2024/data/downloaded/patchs_nir.zip to file:///mnt/data/downloaded/patchs_nir.zip\n",
      "Copying gs://dsgt-clef-geolifeclef-2024/data/downloaded/patchs_rgb.zip to file:///mnt/data/downloaded/patchs_rgb.zip\n",
      "Copying gs://dsgt-clef-geolifeclef-2024/data/downloaded/time_series_all.zip to file:///mnt/data/downloaded/time_series_all.zip\n",
      "Copying gs://dsgt-clef-geolifeclef-2024/data/downloaded/urls.txt to file:///mnt/data/downloaded/urls.txt\n",
      "  Completed files 13/13 | 72.0GiB/72.0GiB | 323.0MiB/s                         \n",
      "\n",
      "Average throughput: 398.9MiB/s\n"
     ]
    }
   ],
   "source": [
    "! mkdir -p /mnt/data/downloaded\n",
    "! gcloud storage rsync -r {root}/data/downloaded/ /mnt/data/downloaded/"
   ]
  },
  {
   "cell_type": "code",
   "execution_count": 3,
   "metadata": {},
   "outputs": [
    {
     "name": "stdout",
     "output_type": "stream",
     "text": [
      "Archive:  /mnt/data/downloaded/Presence_only_occurrences.zip\n",
      "  inflating: /mnt/data/raw/Presence_only_occurrences/Readme.txt  \n",
      "  inflating: /mnt/data/raw/Presence_only_occurrences/Presences_only_train.csv  "
     ]
    },
    {
     "name": "stdout",
     "output_type": "stream",
     "text": [
      "\n",
      "Archive:  /mnt/data/downloaded/Presence_Absence_surveys.zip\n",
      "  inflating: /mnt/data/raw/Presence_Absence_surveys/train_pred_maxent_on_PA.csv  \n",
      "  inflating: /mnt/data/raw/Presence_Absence_surveys/train_pa_spAround_1km.csv  \n",
      "  inflating: /mnt/data/raw/Presence_Absence_surveys/enviroTab_pa_train.csv  \n",
      "  inflating: /mnt/data/raw/Presence_Absence_surveys/Readme.txt  \n",
      "  inflating: /mnt/data/raw/Presence_Absence_surveys/Presences_Absences_train.csv  \n",
      "Archive:  /mnt/data/downloaded/Baseline_runs.zip\n",
      "  inflating: /mnt/data/raw/Baseline_runs/run_spatial_RF.csv  \n",
      "  inflating: /mnt/data/raw/Baseline_runs/run_maxent_on_PA.csv  \n",
      "  inflating: /mnt/data/raw/Baseline_runs/run_enviro_RF.csv  \n",
      "  inflating: /mnt/data/raw/Baseline_runs/run_constant_baseline.csv  \n",
      "Archive:  /mnt/data/downloaded/For_submission.zip\n",
      "  inflating: /mnt/data/raw/For_submission/test_spAround_1km.csv  \n",
      "  inflating: /mnt/data/raw/For_submission/test_blind.csv  \n",
      "  inflating: /mnt/data/raw/For_submission/enviroTab_pa_test.csv  \n"
     ]
    }
   ],
   "source": [
    "for name in [\n",
    "    \"Presence_only_occurrences\",\n",
    "    \"Presence_Absence_surveys\",\n",
    "    \"Baseline_runs\",\n",
    "    \"For_submission\",\n",
    "]:\n",
    "    ! unzip -o /mnt/data/downloaded/{name}.zip -d /mnt/data/raw"
   ]
  },
  {
   "cell_type": "code",
   "execution_count": 7,
   "metadata": {},
   "outputs": [],
   "source": [
    "# ! gcloud storage rsync -x '.*SatelliteImages.*' -r /mnt/data/raw/ gs://dsgt-clef-geolifeclef-2024/data/raw/"
   ]
  },
  {
   "cell_type": "code",
   "execution_count": 9,
   "metadata": {},
   "outputs": [
    {
     "name": "stdout",
     "output_type": "stream",
     "text": [
      "\n",
      "real\t6m49.375s\n",
      "user\t2m23.509s\n",
      "sys\t4m23.363s\n",
      "\n",
      "real\t5m35.164s\n",
      "user\t1m24.508s\n",
      "sys\t4m8.156s\n"
     ]
    }
   ],
   "source": [
    "! mkdir -p /mnt/data/raw/SatelliteImages/\n",
    "for name in [\"patchs_rgb\", \"patchs_nir\"]:\n",
    "    ! time unzip -q -o /mnt/data/downloaded/{name}.zip -d /mnt/data/raw/SatelliteImages/"
   ]
  },
  {
   "cell_type": "code",
   "execution_count": null,
   "metadata": {},
   "outputs": [
    {
     "name": "stdout",
     "output_type": "stream",
     "text": [
      "At gs://dsgt-clef-geolifeclef-2024/data/raw/**, worker process 5047 thread 140020322961216 listed 1027...\n",
      "At file:///mnt/data/raw/**, worker process 5047 thread 140020322961216 listed 32000...\n",
      "At file:///mnt/data/raw/**, worker process 5047 thread 140020322961216 listed 64000...\n",
      "At file:///mnt/data/raw/**, worker process 5047 thread 140020322961216 listed 96000...\n",
      "At file:///mnt/data/raw/**, worker process 5047 thread 140020322961216 listed 128000...\n",
      "At file:///mnt/data/raw/**, worker process 5047 thread 140020322961216 listed 160000...\n",
      "At file:///mnt/data/raw/**, worker process 5047 thread 140020322961216 listed 192000...\n",
      "At file:///mnt/data/raw/**, worker process 5047 thread 140020322961216 listed 224000...\n",
      "At file:///mnt/data/raw/**, worker process 5047 thread 140020322961216 listed 256000...\n",
      "At file:///mnt/data/raw/**, worker process 5047 thread 140020322961216 listed 288000...\n",
      "At file:///mnt/data/raw/**, worker process 5047 thread 140020322961216 listed 320000...\n",
      "At file:///mnt/data/raw/**, worker process 5047 thread 140020322961216 listed 352000...\n",
      "At file:///mnt/data/raw/**, worker process 5047 thread 140020322961216 listed 384000...\n",
      "At file:///mnt/data/raw/**, worker process 5047 thread 140020322961216 listed 416000...\n",
      "At file:///mnt/data/raw/**, worker process 5047 thread 140020322961216 listed 448000...\n",
      "At file:///mnt/data/raw/**, worker process 5047 thread 140020322961216 listed 480000...\n",
      "At file:///mnt/data/raw/**, worker process 5047 thread 140020322961216 listed 512000...\n",
      "At file:///mnt/data/raw/**, worker process 5047 thread 140020322961216 listed 544000...\n",
      "At file:///mnt/data/raw/**, worker process 5047 thread 140020322961216 listed 576000...\n",
      "At file:///mnt/data/raw/**, worker process 5047 thread 140020322961216 listed 608000...\n",
      "At file:///mnt/data/raw/**, worker process 5047 thread 140020322961216 listed 640000...\n",
      "At file:///mnt/data/raw/**, worker process 5047 thread 140020322961216 listed 672000...\n",
      "At file:///mnt/data/raw/**, worker process 5047 thread 140020322961216 listed 704000...\n",
      "At file:///mnt/data/raw/**, worker process 5047 thread 140020322961216 listed 736000...\n",
      "At file:///mnt/data/raw/**, worker process 5047 thread 140020322961216 listed 768000...\n",
      "At file:///mnt/data/raw/**, worker process 5047 thread 140020322961216 listed 800000...\n",
      "At file:///mnt/data/raw/**, worker process 5047 thread 140020322961216 listed 832000...\n",
      "At file:///mnt/data/raw/**, worker process 5047 thread 140020322961216 listed 864000...\n",
      "At file:///mnt/data/raw/**, worker process 5047 thread 140020322961216 listed 896000...\n",
      "At file:///mnt/data/raw/**, worker process 5047 thread 140020322961216 listed 928000...\n",
      "At file:///mnt/data/raw/**, worker process 5047 thread 140020322961216 listed 960000...\n",
      "At file:///mnt/data/raw/**, worker process 5047 thread 140020322961216 listed 992000...\n",
      "At file:///mnt/data/raw/**, worker process 5047 thread 140020322961216 listed 1024000...\n",
      "At file:///mnt/data/raw/**, worker process 5047 thread 140020322961216 listed 1056000...\n",
      "At file:///mnt/data/raw/**, worker process 5047 thread 140020322961216 listed 1088000...\n",
      "At file:///mnt/data/raw/**, worker process 5047 thread 140020322961216 listed 1120000...\n",
      "At file:///mnt/data/raw/**, worker process 5047 thread 140020322961216 listed 1152000...\n",
      "At file:///mnt/data/raw/**, worker process 5047 thread 140020322961216 listed 1184000...\n",
      "At file:///mnt/data/raw/**, worker process 5047 thread 140020322961216 listed 1216000...\n",
      "At file:///mnt/data/raw/**, worker process 5047 thread 140020322961216 listed 1248000...\n",
      "At file:///mnt/data/raw/**, worker process 5047 thread 140020322961216 listed 1280000...\n",
      "At file:///mnt/data/raw/**, worker process 5047 thread 140020322961216 listed 1312000...\n",
      "At file:///mnt/data/raw/**, worker process 5047 thread 140020322961216 listed 1344000...\n",
      "At file:///mnt/data/raw/**, worker process 5047 thread 140020322961216 listed 1376000...\n",
      "At file:///mnt/data/raw/**, worker process 5047 thread 140020322961216 listed 1408000...\n",
      "At file:///mnt/data/raw/**, worker process 5047 thread 140020322961216 listed 1440000...\n",
      "At file:///mnt/data/raw/**, worker process 5047 thread 140020322961216 listed 1472000...\n",
      "At file:///mnt/data/raw/**, worker process 5047 thread 140020322961216 listed 1504000...\n",
      "At file:///mnt/data/raw/**, worker process 5047 thread 140020322961216 listed 1536000...\n",
      "At file:///mnt/data/raw/**, worker process 5047 thread 140020322961216 listed 1568000...\n",
      "At file:///mnt/data/raw/**, worker process 5047 thread 140020322961216 listed 1600000...\n",
      "At file:///mnt/data/raw/**, worker process 5047 thread 140020322961216 listed 1632000...\n",
      "At file:///mnt/data/raw/**, worker process 5047 thread 140020322961216 listed 1664000...\n",
      "At file:///mnt/data/raw/**, worker process 5047 thread 140020322961216 listed 1696000...\n",
      "At file:///mnt/data/raw/**, worker process 5047 thread 140020322961216 listed 1728000...\n",
      "At file:///mnt/data/raw/**, worker process 5047 thread 140020322961216 listed 1760000...\n",
      "At file:///mnt/data/raw/**, worker process 5047 thread 140020322961216 listed 1792000...\n",
      "At file:///mnt/data/raw/**, worker process 5047 thread 140020322961216 listed 1824000...\n",
      "At file:///mnt/data/raw/**, worker process 5047 thread 140020322961216 listed 1856000...\n",
      "At file:///mnt/data/raw/**, worker process 5047 thread 140020322961216 listed 1888000...\n",
      "At file:///mnt/data/raw/**, worker process 5047 thread 140020322961216 listed 1920000...\n",
      "At file:///mnt/data/raw/**, worker process 5047 thread 140020322961216 listed 1952000...\n",
      "At file:///mnt/data/raw/**, worker process 5047 thread 140020322961216 listed 1984000...\n",
      "At file:///mnt/data/raw/**, worker process 5047 thread 140020322961216 listed 2016000...\n"
     ]
    }
   ],
   "source": [
    "# rsync can OOM, so copy instead\n",
    "# run this in a tmux session\n",
    "# ! gcloud storage cp -r /mnt/data/raw gs://dsgt-clef-geolifeclef-2024/data/"
   ]
  }
 ],
 "metadata": {
  "kernelspec": {
   "display_name": "Python 3",
   "language": "python",
   "name": "python3"
  },
  "language_info": {
   "codemirror_mode": {
    "name": "ipython",
    "version": 3
   },
   "file_extension": ".py",
   "mimetype": "text/x-python",
   "name": "python",
   "nbconvert_exporter": "python",
   "pygments_lexer": "ipython3",
   "version": "3.10.12"
  }
 },
 "nbformat": 4,
 "nbformat_minor": 2
}
