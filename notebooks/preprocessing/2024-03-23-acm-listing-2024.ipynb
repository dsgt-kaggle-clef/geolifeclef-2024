{
 "cells": [
  {
   "cell_type": "code",
   "execution_count": 2,
   "metadata": {},
   "outputs": [
    {
     "name": "stdout",
     "output_type": "stream",
     "text": [
      "24.90GiB     gs://dsgt-clef-geolifeclef-2024/data/downloaded/2024/EnvironmentalRasters/Climate.zip\n",
      "12.19GiB     gs://dsgt-clef-geolifeclef-2024/data/downloaded/2024/EnvironmentalRasters/Elevation.zip\n",
      "69.67MiB     gs://dsgt-clef-geolifeclef-2024/data/downloaded/2024/EnvironmentalRasters/HumanFootprint.zip\n",
      "28.46MiB     gs://dsgt-clef-geolifeclef-2024/data/downloaded/2024/EnvironmentalRasters/LandCover.zip\n",
      "618.16MiB    gs://dsgt-clef-geolifeclef-2024/data/downloaded/2024/EnvironmentalRasters/Soilgrids.zip\n",
      "433.62kiB    gs://dsgt-clef-geolifeclef-2024/data/downloaded/2024/EnvironmentalRasters/Climate/GLC24-PA-test-bioclimatic-average.csv\n",
      "20.86MiB     gs://dsgt-clef-geolifeclef-2024/data/downloaded/2024/EnvironmentalRasters/Climate/GLC24-PA-test-bioclimatic-monthly.csv\n",
      "7.98MiB      gs://dsgt-clef-geolifeclef-2024/data/downloaded/2024/EnvironmentalRasters/Climate/GLC24-PA-train-bioclimatic-average.csv\n",
      "395.18MiB    gs://dsgt-clef-geolifeclef-2024/data/downloaded/2024/EnvironmentalRasters/Climate/GLC24-PA-train-bioclimatic-monthly.csv\n",
      "345.91MiB    gs://dsgt-clef-geolifeclef-2024/data/downloaded/2024/EnvironmentalRasters/Climate/GLC24-PO-train-bioclimatic-average.csv\n",
      "17.32GiB     gs://dsgt-clef-geolifeclef-2024/data/downloaded/2024/EnvironmentalRasters/Climate/GLC24-PO-train-bioclimatic-monthly.csv\n",
      "18.07GiB     gs://dsgt-clef-geolifeclef-2024/data/downloaded/2024/EnvironmentalRasters/Climate/\n",
      "59.28kiB     gs://dsgt-clef-geolifeclef-2024/data/downloaded/2024/EnvironmentalRasters/Elevation/GLC24-PA-test-elevation.csv\n",
      "1.08MiB      gs://dsgt-clef-geolifeclef-2024/data/downloaded/2024/EnvironmentalRasters/Elevation/GLC24-PA-train-elevation.csv\n",
      "48.61MiB     gs://dsgt-clef-geolifeclef-2024/data/downloaded/2024/EnvironmentalRasters/Elevation/GLC24-PO-train-elevation.csv\n",
      "49.75MiB     gs://dsgt-clef-geolifeclef-2024/data/downloaded/2024/EnvironmentalRasters/Elevation/\n",
      "347.08kiB    gs://dsgt-clef-geolifeclef-2024/data/downloaded/2024/EnvironmentalRasters/HumanFootprint/GLC24-PA-test-human-footprint.csv\n",
      "6.57MiB      gs://dsgt-clef-geolifeclef-2024/data/downloaded/2024/EnvironmentalRasters/HumanFootprint/GLC24-PA-train-human-footprint.csv\n",
      "284.02MiB    gs://dsgt-clef-geolifeclef-2024/data/downloaded/2024/EnvironmentalRasters/HumanFootprint/GLC24-PO-train-human-footprint.csv\n",
      "290.93MiB    gs://dsgt-clef-geolifeclef-2024/data/downloaded/2024/EnvironmentalRasters/HumanFootprint/\n",
      "56.01kiB     gs://dsgt-clef-geolifeclef-2024/data/downloaded/2024/EnvironmentalRasters/LandCover/GLC24-PA-test-landcover.csv\n",
      "1.04MiB      gs://dsgt-clef-geolifeclef-2024/data/downloaded/2024/EnvironmentalRasters/LandCover/GLC24-PA-train-landcover.csv\n",
      "44.95MiB     gs://dsgt-clef-geolifeclef-2024/data/downloaded/2024/EnvironmentalRasters/LandCover/GLC24-PO-train-landcover.csv\n",
      "46.04MiB     gs://dsgt-clef-geolifeclef-2024/data/downloaded/2024/EnvironmentalRasters/LandCover/\n",
      "252.40kiB    gs://dsgt-clef-geolifeclef-2024/data/downloaded/2024/EnvironmentalRasters/Soilgrids/GLC24-PA-test-soilgrids.csv\n",
      "4.76MiB      gs://dsgt-clef-geolifeclef-2024/data/downloaded/2024/EnvironmentalRasters/Soilgrids/GLC24-PA-train-soilgrids.csv\n",
      "193.38MiB    gs://dsgt-clef-geolifeclef-2024/data/downloaded/2024/EnvironmentalRasters/Soilgrids/GLC24-PO-train-soilgrids.csv\n",
      "198.38MiB    gs://dsgt-clef-geolifeclef-2024/data/downloaded/2024/EnvironmentalRasters/Soilgrids/\n",
      "56.42GiB     gs://dsgt-clef-geolifeclef-2024/data/downloaded/2024/EnvironmentalRasters/\n",
      "268.83kiB    gs://dsgt-clef-geolifeclef-2024/data/downloaded/2024/PresenceAbsenceSurveys/GLC24-PA-metadata-test.csv\n",
      "93.15MiB     gs://dsgt-clef-geolifeclef-2024/data/downloaded/2024/PresenceAbsenceSurveys/GLC24-PA-metadata-train.csv\n",
      "93.42MiB     gs://dsgt-clef-geolifeclef-2024/data/downloaded/2024/PresenceAbsenceSurveys/\n",
      "359.08MiB    gs://dsgt-clef-geolifeclef-2024/data/downloaded/2024/PresenceOnlyOccurrences/GLC24-PO-metadata-train.csv\n",
      "359.08MiB    gs://dsgt-clef-geolifeclef-2024/data/downloaded/2024/PresenceOnlyOccurrences/\n",
      "19.21MiB     gs://dsgt-clef-geolifeclef-2024/data/downloaded/2024/SatellitePatches/PA-Test-SatellitePatches-NIR.zip\n",
      "18.74MiB     gs://dsgt-clef-geolifeclef-2024/data/downloaded/2024/SatellitePatches/PA-Test-SatellitePatches-RGB.zip\n",
      "357.32MiB    gs://dsgt-clef-geolifeclef-2024/data/downloaded/2024/SatellitePatches/PA-Train-SatellitePatches-NIR.zip\n",
      "336.99MiB    gs://dsgt-clef-geolifeclef-2024/data/downloaded/2024/SatellitePatches/PA-Train-SatellitePatches-RGB.zip\n",
      "16.11GiB     gs://dsgt-clef-geolifeclef-2024/data/downloaded/2024/SatellitePatches/PO-Train-SatellitePatches-NIR.zip\n",
      "15.91GiB     gs://dsgt-clef-geolifeclef-2024/data/downloaded/2024/SatellitePatches/PO-Train-SatellitePatches-RGB.zip\n",
      "32.74GiB     gs://dsgt-clef-geolifeclef-2024/data/downloaded/2024/SatellitePatches/\n",
      "1.54MiB      gs://dsgt-clef-geolifeclef-2024/data/downloaded/2024/SatelliteTimeSeries/GLC24-PA-test-landsat-time-series-blue.csv\n",
      "1.78MiB      gs://dsgt-clef-geolifeclef-2024/data/downloaded/2024/SatelliteTimeSeries/GLC24-PA-test-landsat-time-series-green.csv\n",
      "1.82MiB      gs://dsgt-clef-geolifeclef-2024/data/downloaded/2024/SatelliteTimeSeries/GLC24-PA-test-landsat-time-series-nir.csv\n",
      "1.74MiB      gs://dsgt-clef-geolifeclef-2024/data/downloaded/2024/SatelliteTimeSeries/GLC24-PA-test-landsat-time-series-red.csv\n",
      "1.80MiB      gs://dsgt-clef-geolifeclef-2024/data/downloaded/2024/SatelliteTimeSeries/GLC24-PA-test-landsat-time-series-swir1.csv\n",
      "1.79MiB      gs://dsgt-clef-geolifeclef-2024/data/downloaded/2024/SatelliteTimeSeries/GLC24-PA-test-landsat-time-series-swir2.csv\n",
      "28.29MiB     gs://dsgt-clef-geolifeclef-2024/data/downloaded/2024/SatelliteTimeSeries/GLC24-PA-train-landsat-time-series-blue.csv\n",
      "33.49MiB     gs://dsgt-clef-geolifeclef-2024/data/downloaded/2024/SatelliteTimeSeries/GLC24-PA-train-landsat-time-series-green.csv\n",
      "34.05MiB     gs://dsgt-clef-geolifeclef-2024/data/downloaded/2024/SatelliteTimeSeries/GLC24-PA-train-landsat-time-series-nir.csv\n",
      "32.60MiB     gs://dsgt-clef-geolifeclef-2024/data/downloaded/2024/SatelliteTimeSeries/GLC24-PA-train-landsat-time-series-red.csv\n",
      "33.76MiB     gs://dsgt-clef-geolifeclef-2024/data/downloaded/2024/SatelliteTimeSeries/GLC24-PA-train-landsat-time-series-swir1.csv\n",
      "33.61MiB     gs://dsgt-clef-geolifeclef-2024/data/downloaded/2024/SatelliteTimeSeries/GLC24-PA-train-landsat-time-series-swir2.csv\n",
      "1.31GiB      gs://dsgt-clef-geolifeclef-2024/data/downloaded/2024/SatelliteTimeSeries/GLC24-PO-train-landsat-time-series-blue.csv\n",
      "1.48GiB      gs://dsgt-clef-geolifeclef-2024/data/downloaded/2024/SatelliteTimeSeries/GLC24-PO-train-landsat-time-series-green.csv\n",
      "1.51GiB      gs://dsgt-clef-geolifeclef-2024/data/downloaded/2024/SatelliteTimeSeries/GLC24-PO-train-landsat-time-series-nir.csv\n",
      "1.45GiB      gs://dsgt-clef-geolifeclef-2024/data/downloaded/2024/SatelliteTimeSeries/GLC24-PO-train-landsat-time-series-red.csv\n",
      "1.50GiB      gs://dsgt-clef-geolifeclef-2024/data/downloaded/2024/SatelliteTimeSeries/GLC24-PO-train-landsat-time-series-swir1.csv\n",
      "1.48GiB      gs://dsgt-clef-geolifeclef-2024/data/downloaded/2024/SatelliteTimeSeries/GLC24-PO-train-landsat-time-series-swir2.csv\n",
      "8.94GiB      gs://dsgt-clef-geolifeclef-2024/data/downloaded/2024/SatelliteTimeSeries/\n",
      "98.54GiB     gs://dsgt-clef-geolifeclef-2024/data/downloaded/2024/\n"
     ]
    }
   ],
   "source": [
    "! gcloud storage du --readable-sizes -r gs://dsgt-clef-geolifeclef-2024/data/downloaded/2024"
   ]
  },
  {
   "cell_type": "code",
   "execution_count": 3,
   "metadata": {},
   "outputs": [
    {
     "name": "stderr",
     "output_type": "stream",
     "text": [
      "Setting default log level to \"WARN\".\n",
      "To adjust logging level use sc.setLogLevel(newLevel). For SparkR, use setLogLevel(newLevel).\n",
      "24/03/23 12:00:07 WARN NativeCodeLoader: Unable to load native-hadoop library for your platform... using builtin-java classes where applicable\n",
      "24/03/23 12:00:07 WARN SparkConf: Note that spark.local.dir will be overridden by the value set by the cluster manager (via SPARK_LOCAL_DIRS in mesos/standalone/kubernetes and LOCAL_DIRS in YARN).\n"
     ]
    }
   ],
   "source": [
    "from geolifeclef.utils import get_spark\n",
    "\n",
    "spark = get_spark()"
   ]
  },
  {
   "cell_type": "code",
   "execution_count": 8,
   "metadata": {},
   "outputs": [
    {
     "name": "stdout",
     "output_type": "stream",
     "text": [
      "Reading EnvironmentalRasters/Climate/GLC24-PA-test-bioclimatic-average.csv\n"
     ]
    },
    {
     "name": "stdout",
     "output_type": "stream",
     "text": [
      "root\n",
      " |-- surveyId: integer (nullable = true)\n",
      " |-- Bio1: integer (nullable = true)\n",
      " |-- Bio2: integer (nullable = true)\n",
      " |-- Bio3: integer (nullable = true)\n",
      " |-- Bio4: integer (nullable = true)\n",
      " |-- Bio5: integer (nullable = true)\n",
      " |-- Bio6: integer (nullable = true)\n",
      " |-- Bio7: integer (nullable = true)\n",
      " |-- Bio8: integer (nullable = true)\n",
      " |-- Bio9: integer (nullable = true)\n",
      " |-- Bio10: integer (nullable = true)\n",
      " |-- Bio11: integer (nullable = true)\n",
      " |-- Bio12: integer (nullable = true)\n",
      " |-- Bio13: integer (nullable = true)\n",
      " |-- Bio14: integer (nullable = true)\n",
      " |-- Bio15: integer (nullable = true)\n",
      " |-- Bio16: integer (nullable = true)\n",
      " |-- Bio17: integer (nullable = true)\n",
      " |-- Bio18: integer (nullable = true)\n",
      " |-- Bio19: integer (nullable = true)\n",
      "\n",
      "+--------+----+----+----+----+----+----+----+----+----+-----+-----+-----+-----+-----+-----+-----+-----+-----+-----+\n",
      "|surveyId|Bio1|Bio2|Bio3|Bio4|Bio5|Bio6|Bio7|Bio8|Bio9|Bio10|Bio11|Bio12|Bio13|Bio14|Bio15|Bio16|Bio17|Bio18|Bio19|\n",
      "+--------+----+----+----+----+----+----+----+----+----+-----+-----+-----+-----+-----+-----+-----+-----+-----+-----+\n",
      "|     642|2814|  57|   2|5717|2934|2720| 214|2859|2767| 2890| 2745| 8165|  896|  425|  210| 2555| 1461| 2358| 1832|\n",
      "|    1792|2826| 104|   3|7607|2975|2666| 309|2922|2780| 2922| 2725| 7694|  780|  499|  140| 2276| 1635| 2276| 1929|\n",
      "|    3256|2735|  93|   3|6168|2876|2611| 265|2755|2669| 2817| 2660|10128| 1068|  585|  146| 2995| 2179| 2465| 2314|\n",
      "|    3855|2739|  95|   3|7129|2880|2583| 297|2811|2661| 2829| 2645|15348| 1981|  488|  395| 5699| 1822| 5541| 1825|\n",
      "|    4889|2809|  62|   2|5603|2928|2715| 213|2854|2797| 2882| 2740| 9387| 1110|  443|  215| 2930| 1747| 2380| 2370|\n",
      "|    5884|2813|  58|   2|5715|2934|2718| 216|2858|2766| 2889| 2744| 8042|  884|  418|  210| 2517| 1437| 2326| 1802|\n",
      "|    6955|2822|  93|   3|6703|2969|2689| 280|2788|2910| 2910| 2738|10580| 1562|  406|  374| 3979| 1448| 1448| 3291|\n",
      "|    8956|2815|  56|   2|5618|2932|2721| 211|2860|2769| 2889| 2747| 7932|  884|  381|  207| 2479| 1417| 2180| 1889|\n",
      "|    9037|2832|  69|   3|5525|2953|2733| 220|2773|2792| 2903| 2761| 8865|  865|  449|  148| 2474| 1790| 2390| 2286|\n",
      "|    9537|2841|  80|   3|6421|2971|2715| 256|2800|2800| 2924| 2758|17175| 1730| 1142|  122| 4961| 3730| 3999| 4170|\n",
      "|   11594|2814|  63|   2|5673|2936|2719| 217|2859|2802| 2888| 2744| 8919| 1048|  412|  212| 2792| 1656| 2304| 2235|\n",
      "|   11849|2894|  63|   2|5477|3013|2792| 221|2867|2967| 2967| 2828| 6849| 1061|  102|  484| 2779|  633|  633| 2059|\n",
      "|   12019|2827|  67|   3|5443|2944|2731| 213|2769|2787| 2897| 2758| 9124|  915|  471|  152| 2509| 1845| 2466| 2335|\n",
      "|   12436|2827|  67|   3|5443|2944|2731| 213|2769|2787| 2897| 2758| 9124|  915|  471|  152| 2509| 1845| 2466| 2335|\n",
      "|   12705|2817|  51|   2|5473|2927|2727| 200|2862|2770| 2888| 2751| 7758|  921|  387|  213| 2447| 1439| 2013| 1850|\n",
      "|   12842|2744|  94|   3|6665|2881|2605| 276|2829|2699| 2829| 2658|26845| 3244| 1661|  229| 9122| 5568| 9122| 5688|\n",
      "|   13429|2897|  52|   2|5456|3007|2801| 206|2874|2968| 2969| 2832| 6905| 1019|  134|  489| 2943|  629| 1050| 2027|\n",
      "|   15914|2841|  92|   3|6798|2981|2700| 281|2846|2929| 2929| 2754|11393| 1182|  724|  151| 3337| 2422| 2422| 2690|\n",
      "|   16550|2836|  71|   3|5568|2958|2736| 222|2776|2796| 2908| 2765| 8300|  788|  470|  116| 2281| 1758| 2186| 2148|\n",
      "|   18511|2894|  68|   2|5621|3018|2788| 230|2865|2969| 2969| 2826| 6832| 1055|  105|  481| 2771|  641|  641| 2040|\n",
      "+--------+----+----+----+----+----+----+----+----+----+-----+-----+-----+-----+-----+-----+-----+-----+-----+-----+\n",
      "only showing top 20 rows\n",
      "\n"
     ]
    }
   ],
   "source": [
    "def print_schema_and_show(suffix):\n",
    "    print(f\"Reading {suffix}\")\n",
    "    df = spark.read.csv(\n",
    "        f\"gs://dsgt-clef-geolifeclef-2024/data/downloaded/2024/{suffix}\",\n",
    "        header=True,\n",
    "        inferSchema=True,\n",
    "    )\n",
    "    df.printSchema()\n",
    "    df.show()\n",
    "\n",
    "\n",
    "print_schema_and_show(\n",
    "    \"EnvironmentalRasters/Climate/GLC24-PA-test-bioclimatic-average.csv\"\n",
    ")\n",
    "# has a column for each month and summary figure\n",
    "# print_schema_and_show(\n",
    "#     \"EnvironmentalRasters/Climate/GLC24-PA-test-bioclimatic-monthly.csv\"\n",
    "# )"
   ]
  },
  {
   "cell_type": "code",
   "execution_count": 9,
   "metadata": {},
   "outputs": [
    {
     "name": "stdout",
     "output_type": "stream",
     "text": [
      "Reading EnvironmentalRasters/Elevation/GLC24-PO-train-elevation.csv\n"
     ]
    },
    {
     "name": "stderr",
     "output_type": "stream",
     "text": [
      "[Stage 21:==============>                                           (1 + 3) / 4]\r"
     ]
    },
    {
     "name": "stdout",
     "output_type": "stream",
     "text": [
      "root\n",
      " |-- surveyId: integer (nullable = true)\n",
      " |-- Elevation: double (nullable = true)\n",
      "\n",
      "+--------+---------+\n",
      "|surveyId|Elevation|\n",
      "+--------+---------+\n",
      "|       1|    184.0|\n",
      "|       2|    464.0|\n",
      "|       3|    139.0|\n",
      "|       4|     97.0|\n",
      "|       5|    156.0|\n",
      "|       6|    482.0|\n",
      "|       7|    663.0|\n",
      "|       8|     12.0|\n",
      "|       9|    335.0|\n",
      "|      10|    312.0|\n",
      "|      11|     55.0|\n",
      "|      12|    532.0|\n",
      "|      13|     16.0|\n",
      "|      14|   1394.0|\n",
      "|      15|     13.0|\n",
      "|      16|     11.0|\n",
      "|      17|    178.0|\n",
      "|      18|     15.0|\n",
      "|      19|     28.0|\n",
      "|      20|    105.0|\n",
      "+--------+---------+\n",
      "only showing top 20 rows\n",
      "\n"
     ]
    },
    {
     "name": "stderr",
     "output_type": "stream",
     "text": [
      "                                                                                \r"
     ]
    }
   ],
   "source": [
    "print_schema_and_show(\"EnvironmentalRasters/Elevation/GLC24-PO-train-elevation.csv\")"
   ]
  },
  {
   "cell_type": "code",
   "execution_count": 10,
   "metadata": {},
   "outputs": [
    {
     "name": "stdout",
     "output_type": "stream",
     "text": [
      "Reading EnvironmentalRasters/LandCover/GLC24-PO-train-landcover.csv\n"
     ]
    },
    {
     "name": "stderr",
     "output_type": "stream",
     "text": [
      "[Stage 24:==============>                                           (1 + 3) / 4]\r"
     ]
    },
    {
     "name": "stdout",
     "output_type": "stream",
     "text": [
      "root\n",
      " |-- surveyId: integer (nullable = true)\n",
      " |-- LandCover: double (nullable = true)\n",
      "\n",
      "+--------+---------+\n",
      "|surveyId|LandCover|\n",
      "+--------+---------+\n",
      "|       1|     12.0|\n",
      "|       2|     17.0|\n",
      "|       3|      9.0|\n",
      "|       4|      9.0|\n",
      "|       5|     14.0|\n",
      "|       6|      5.0|\n",
      "|       7|     10.0|\n",
      "|       8|     12.0|\n",
      "|       9|      8.0|\n",
      "|      10|      9.0|\n",
      "|      11|     13.0|\n",
      "|      12|     12.0|\n",
      "|      13|      9.0|\n",
      "|      14|     10.0|\n",
      "|      15|     13.0|\n",
      "|      16|     10.0|\n",
      "|      17|      9.0|\n",
      "|      18|      9.0|\n",
      "|      19|     12.0|\n",
      "|      20|     14.0|\n",
      "+--------+---------+\n",
      "only showing top 20 rows\n",
      "\n"
     ]
    },
    {
     "name": "stderr",
     "output_type": "stream",
     "text": [
      "                                                                                \r"
     ]
    }
   ],
   "source": [
    "print_schema_and_show(\"EnvironmentalRasters/LandCover/GLC24-PO-train-landcover.csv\")"
   ]
  }
 ],
 "metadata": {
  "kernelspec": {
   "display_name": "Python 3",
   "language": "python",
   "name": "python3"
  },
  "language_info": {
   "codemirror_mode": {
    "name": "ipython",
    "version": 3
   },
   "file_extension": ".py",
   "mimetype": "text/x-python",
   "name": "python",
   "nbconvert_exporter": "python",
   "pygments_lexer": "ipython3",
   "version": "3.10.12"
  }
 },
 "nbformat": 4,
 "nbformat_minor": 2
}
