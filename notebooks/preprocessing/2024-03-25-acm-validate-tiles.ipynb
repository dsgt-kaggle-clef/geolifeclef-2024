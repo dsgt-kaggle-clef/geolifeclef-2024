{
 "cells": [
  {
   "cell_type": "code",
   "execution_count": 3,
   "metadata": {},
   "outputs": [
    {
     "name": "stdout",
     "output_type": "stream",
     "text": [
      "30.67MiB     gs://dsgt-clef-geolifeclef-2024/data/processed/tiles/v1/part-00091-cbe4eb4a-2479-400f-af13-bbdc76ad6f14-c000.snappy.parquet\n",
      "29.51MiB     gs://dsgt-clef-geolifeclef-2024/data/processed/tiles/v1/part-00092-cbe4eb4a-2479-400f-af13-bbdc76ad6f14-c000.snappy.parquet\n",
      "29.38MiB     gs://dsgt-clef-geolifeclef-2024/data/processed/tiles/v1/part-00093-cbe4eb4a-2479-400f-af13-bbdc76ad6f14-c000.snappy.parquet\n",
      "29.42MiB     gs://dsgt-clef-geolifeclef-2024/data/processed/tiles/v1/part-00094-cbe4eb4a-2479-400f-af13-bbdc76ad6f14-c000.snappy.parquet\n",
      "29.26MiB     gs://dsgt-clef-geolifeclef-2024/data/processed/tiles/v1/part-00095-cbe4eb4a-2479-400f-af13-bbdc76ad6f14-c000.snappy.parquet\n",
      "29.49MiB     gs://dsgt-clef-geolifeclef-2024/data/processed/tiles/v1/part-00096-cbe4eb4a-2479-400f-af13-bbdc76ad6f14-c000.snappy.parquet\n",
      "29.54MiB     gs://dsgt-clef-geolifeclef-2024/data/processed/tiles/v1/part-00097-cbe4eb4a-2479-400f-af13-bbdc76ad6f14-c000.snappy.parquet\n",
      "29.56MiB     gs://dsgt-clef-geolifeclef-2024/data/processed/tiles/v1/part-00098-cbe4eb4a-2479-400f-af13-bbdc76ad6f14-c000.snappy.parquet\n",
      "29.76MiB     gs://dsgt-clef-geolifeclef-2024/data/processed/tiles/v1/part-00099-cbe4eb4a-2479-400f-af13-bbdc76ad6f14-c000.snappy.parquet\n",
      "2.89GiB      gs://dsgt-clef-geolifeclef-2024/data/processed/tiles/v1/\n"
     ]
    }
   ],
   "source": [
    "! gcloud storage du --readable-sizes \"gs://dsgt-clef-geolifeclef-2024/data/processed/tiles/v1\" | tail"
   ]
  },
  {
   "cell_type": "code",
   "execution_count": 1,
   "metadata": {},
   "outputs": [
    {
     "name": "stderr",
     "output_type": "stream",
     "text": [
      "Setting default log level to \"WARN\".\n",
      "To adjust logging level use sc.setLogLevel(newLevel). For SparkR, use setLogLevel(newLevel).\n",
      "24/03/25 09:20:35 WARN NativeCodeLoader: Unable to load native-hadoop library for your platform... using builtin-java classes where applicable\n",
      "24/03/25 09:20:35 WARN SparkConf: Note that spark.local.dir will be overridden by the value set by the cluster manager (via SPARK_LOCAL_DIRS in mesos/standalone/kubernetes and LOCAL_DIRS in YARN).\n",
      "                                                                                \r"
     ]
    },
    {
     "name": "stdout",
     "output_type": "stream",
     "text": [
      "root\n",
      " |-- bio1: array (nullable = true)\n",
      " |    |-- element: double (containsNull = true)\n",
      " |-- bio2: array (nullable = true)\n",
      " |    |-- element: double (containsNull = true)\n",
      " |-- HFP2009_WGS84: array (nullable = true)\n",
      " |    |-- element: double (containsNull = true)\n",
      " |-- red: array (nullable = true)\n",
      " |    |-- element: double (containsNull = true)\n",
      " |-- green: array (nullable = true)\n",
      " |    |-- element: double (containsNull = true)\n",
      " |-- blue: array (nullable = true)\n",
      " |    |-- element: double (containsNull = true)\n",
      " |-- nir: array (nullable = true)\n",
      " |    |-- element: double (containsNull = true)\n",
      " |-- lat: double (nullable = true)\n",
      " |-- lon: double (nullable = true)\n",
      " |-- surveyId: double (nullable = true)\n",
      " |-- target: long (nullable = true)\n",
      "\n"
     ]
    },
    {
     "name": "stderr",
     "output_type": "stream",
     "text": [
      "                                                                                \r"
     ]
    },
    {
     "name": "stdout",
     "output_type": "stream",
     "text": [
      "Number of rows: 29900\n"
     ]
    },
    {
     "name": "stderr",
     "output_type": "stream",
     "text": [
      "                                                                                \r"
     ]
    },
    {
     "name": "stdout",
     "output_type": "stream",
     "text": [
      "-RECORD 0-----------------------------------------------------------------------------------------\n",
      " bio1          | [0.19804762303829193, 0.18759965896606445, 0.19804762303829193, 0.18759965896... \n",
      " bio2          | [1.0623652935028076, 1.0623652935028076, 1.0623652935028076, 1.06236529350280... \n",
      " HFP2009_WGS84 | [0.6308284997940063, 0.3340561091899872, 0.1924036741256714, 0.17524692416191... \n",
      " red           | [59.0, 61.0, 62.0, 59.0, 57.0, 59.0, 60.0, 59.0, 57.0, 59.0, 62.0, 66.0, 67.0... \n",
      " green         | [71.0, 73.0, 74.0, 71.0, 69.0, 71.0, 72.0, 71.0, 69.0, 71.0, 74.0, 78.0, 79.0... \n",
      " blue          | [51.0, 53.0, 54.0, 51.0, 49.0, 51.0, 52.0, 51.0, 49.0, 51.0, 54.0, 58.0, 59.0... \n",
      " nir           | [150.0, 157.0, 165.0, 163.0, 164.0, 166.0, 160.0, 162.0, 161.0, 161.0, 161.0,... \n",
      " lat           | 42.84032                                                                         \n",
      " lon           | 0.337922                                                                         \n",
      " surveyId      | 7878.0                                                                           \n",
      " target        | 3383                                                                             \n",
      "only showing top 1 row\n",
      "\n"
     ]
    }
   ],
   "source": [
    "from geolifeclef.utils import get_spark\n",
    "\n",
    "spark = get_spark()\n",
    "df = spark.read.parquet(\"gs://dsgt-clef-geolifeclef-2024/data/processed/tiles/v1\")\n",
    "df.printSchema()\n",
    "print(f\"Number of rows: {df.count()}\")\n",
    "df.show(n=1, vertical=True, truncate=80)"
   ]
  }
 ],
 "metadata": {
  "kernelspec": {
   "display_name": "Python 3",
   "language": "python",
   "name": "python3"
  },
  "language_info": {
   "codemirror_mode": {
    "name": "ipython",
    "version": 3
   },
   "file_extension": ".py",
   "mimetype": "text/x-python",
   "name": "python",
   "nbconvert_exporter": "python",
   "pygments_lexer": "ipython3",
   "version": "3.10.12"
  }
 },
 "nbformat": 4,
 "nbformat_minor": 2
}
