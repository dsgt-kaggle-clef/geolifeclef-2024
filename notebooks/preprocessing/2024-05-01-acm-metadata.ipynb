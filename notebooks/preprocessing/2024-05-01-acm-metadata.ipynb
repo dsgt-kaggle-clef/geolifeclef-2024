{
 "cells": [
  {
   "cell_type": "code",
   "execution_count": 2,
   "metadata": {},
   "outputs": [
    {
     "name": "stderr",
     "output_type": "stream",
     "text": [
      "24/05/20 16:13:27 WARN Utils: Your hostname, daphne-major resolves to a loopback address: 127.0.1.1; using 172.28.199.217 instead (on interface eth0)\n",
      "24/05/20 16:13:27 WARN Utils: Set SPARK_LOCAL_IP if you need to bind to another address\n",
      "Setting default log level to \"WARN\".\n",
      "To adjust logging level use sc.setLogLevel(newLevel). For SparkR, use setLogLevel(newLevel).\n",
      "24/05/20 16:13:29 WARN NativeCodeLoader: Unable to load native-hadoop library for your platform... using builtin-java classes where applicable\n",
      "24/05/20 16:13:29 WARN SparkConf: Note that spark.local.dir will be overridden by the value set by the cluster manager (via SPARK_LOCAL_DIRS in mesos/standalone/kubernetes and LOCAL_DIRS in YARN).\n",
      "                                                                                \r"
     ]
    },
    {
     "name": "stdout",
     "output_type": "stream",
     "text": [
      "root\n",
      " |-- dataset: string (nullable = true)\n",
      " |-- surveyId: integer (nullable = true)\n",
      " |-- lat_proj: double (nullable = true)\n",
      " |-- lon_proj: double (nullable = true)\n",
      " |-- lat: double (nullable = true)\n",
      " |-- lon: double (nullable = true)\n",
      " |-- year: integer (nullable = true)\n",
      " |-- geoUncertaintyInM: double (nullable = true)\n",
      " |-- speciesId: double (nullable = true)\n",
      "\n"
     ]
    },
    {
     "name": "stderr",
     "output_type": "stream",
     "text": [
      "                                                                                \r"
     ]
    },
    {
     "name": "stdout",
     "output_type": "stream",
     "text": [
      "+--------+--------+-------------------+--------------------+---------+---------+----+-----------------+---------+\n",
      "| dataset|surveyId|           lat_proj|            lon_proj|      lat|      lon|year|geoUncertaintyInM|speciesId|\n",
      "+--------+--------+-------------------+--------------------+---------+---------+----+-----------------+---------+\n",
      "|pa_train| 1154667|-1532011.0411057267| 1.691006027258277E7| 57.41102|  10.1656|2018|             10.0|   5928.0|\n",
      "|      po|  328943|-1238969.8380109437|1.6157490707117997E7| 52.66047|  19.0257|2021|              4.0|   8654.0|\n",
      "|      po|  272993| -3131000.345551669|1.5794519571905952E7| 42.70678| 0.578367|2021|             7.67|  10929.0|\n",
      "|      po|   42950| -2693959.769707624|1.6015928734426929E7| 46.04146| 3.254066|2020|            21.44|   6837.0|\n",
      "|      po|   32868| -2341953.455934548|1.6504383916338675E7| 50.90031|  3.52936|2020|             25.0|   2112.0|\n",
      "|pa_train| 1655162|-2702929.1847960646|1.6298793816959836E7| 47.87137|  1.32333|2019|              1.0|  10385.0|\n",
      "|      po|  670234|-2036981.8590675113|  1.57872775137939E7|  47.0442| 11.35543|2020|              2.0|    651.0|\n",
      "|      po|  589121|-1777936.5218863091|1.5888547154955283E7| 48.74094| 13.73946|2020|              8.5|   2844.0|\n",
      "|pa_train|  345603|-1389743.7790760458|1.6542768033002183E7| 55.19991| 14.76312|2018|             10.0|   1170.0|\n",
      "|pa_train|  318150|-1733612.7867249795|1.6802006101411916E7| 55.74012|  8.35988|2017|             10.0|   2885.0|\n",
      "|pa_train| 2331885| -2285666.944556036|1.6524370506686892E7|51.295156| 3.987151|2017|              3.0|    340.0|\n",
      "|      po|  317870|-2354252.9617561535|1.5956893484668594E7| 47.05761| 7.011929|2020|            65.67|   7631.0|\n",
      "|      po|  515379|-1550172.3377061433|1.6726513644846333E7| 55.97131| 11.33033|2021|            69.83|   2211.0|\n",
      "|pa_train| 1291711|  -2780706.21819399|1.5972106844648577E7| 45.37428|  2.69648|2019|              1.0|   4238.0|\n",
      "|      po|   98967| -1608698.136602696| 1.683675260405097E7| 56.54018|  9.71395|2017|              3.0|   6056.0|\n",
      "|pa_train| 1509601|-1614865.1712672543|1.5046729648528673E7|42.576714|19.278194|2018|              0.0|   8351.0|\n",
      "|      po|  692501|-1428853.6229169564|1.4613155334146844E7| 39.45714| 22.67864|2020|              4.0|   9126.0|\n",
      "|pa_train|  509430|-1689105.3883994417|1.6759262311357759E7| 55.62524|  9.26265|2017|             10.0|   8151.0|\n",
      "|      po|  108373| -3944689.685146342|1.5579899147203334E7| 37.91857|-4.733669|2019|             25.0|   3834.0|\n",
      "|pa_train| 1484108|   -2099533.6900234|1.5123301999800764E7| 41.78508| 13.82349|2017|             20.0|   3451.0|\n",
      "+--------+--------+-------------------+--------------------+---------+---------+----+-----------------+---------+\n",
      "only showing top 20 rows\n",
      "\n"
     ]
    }
   ],
   "source": [
    "%load_ext autoreload\n",
    "%autoreload 2\n",
    "from geolifeclef.utils import get_spark\n",
    "from pyspark.sql import functions as F\n",
    "\n",
    "spark = get_spark()\n",
    "metadata = spark.read.parquet(\n",
    "    \"../../data/geolifeclef-2024/data/processed/metadata_clean/v1\"\n",
    ")\n",
    "metadata.printSchema()\n",
    "metadata.show()"
   ]
  },
  {
   "cell_type": "code",
   "execution_count": 3,
   "metadata": {},
   "outputs": [
    {
     "name": "stderr",
     "output_type": "stream",
     "text": [
      "[Stage 3:==========================================>              (24 + 8) / 32]\r"
     ]
    },
    {
     "name": "stdout",
     "output_type": "stream",
     "text": [
      "+--------+-------+\n",
      "| dataset|  count|\n",
      "+--------+-------+\n",
      "|      po|5079797|\n",
      "|pa_train|1483637|\n",
      "| pa_test|   4716|\n",
      "+--------+-------+\n",
      "\n"
     ]
    },
    {
     "name": "stderr",
     "output_type": "stream",
     "text": [
      "                                                                                \r"
     ]
    }
   ],
   "source": [
    "metadata.groupBy(\"dataset\").count().show()"
   ]
  },
  {
   "cell_type": "code",
   "execution_count": 4,
   "metadata": {},
   "outputs": [
    {
     "name": "stderr",
     "output_type": "stream",
     "text": [
      "                                                                                \r"
     ]
    },
    {
     "data": {
      "text/plain": [
       "10359"
      ]
     },
     "execution_count": 4,
     "metadata": {},
     "output_type": "execute_result"
    }
   ],
   "source": [
    "metadata.select(\"speciesId\").distinct().count()"
   ]
  },
  {
   "cell_type": "code",
   "execution_count": 5,
   "metadata": {},
   "outputs": [
    {
     "name": "stderr",
     "output_type": "stream",
     "text": [
      "                                                                                \r"
     ]
    },
    {
     "data": {
      "text/plain": [
       "5016"
      ]
     },
     "execution_count": 5,
     "metadata": {},
     "output_type": "execute_result"
    }
   ],
   "source": [
    "metadata.where(\"dataset='pa_train'\").select(\"speciesId\").distinct().count()"
   ]
  },
  {
   "cell_type": "code",
   "execution_count": 6,
   "metadata": {},
   "outputs": [
    {
     "name": "stderr",
     "output_type": "stream",
     "text": [
      "[Stage 18:=================================================>      (28 + 4) / 32]\r"
     ]
    },
    {
     "name": "stdout",
     "output_type": "stream",
     "text": [
      "+---+----+\n",
      "|  n|freq|\n",
      "+---+----+\n",
      "|  1|1526|\n",
      "|  2| 795|\n",
      "|  3| 478|\n",
      "|  4| 363|\n",
      "|  5| 267|\n",
      "|  6| 237|\n",
      "|  7| 192|\n",
      "|  8| 172|\n",
      "|  9| 143|\n",
      "| 10| 123|\n",
      "| 11| 130|\n",
      "| 12| 112|\n",
      "| 13|  95|\n",
      "| 14| 100|\n",
      "| 15|  86|\n",
      "| 16|  85|\n",
      "| 17|  93|\n",
      "| 18|  87|\n",
      "| 19|  68|\n",
      "| 20|  68|\n",
      "+---+----+\n",
      "only showing top 20 rows\n",
      "\n"
     ]
    },
    {
     "name": "stderr",
     "output_type": "stream",
     "text": [
      "                                                                                \r"
     ]
    }
   ],
   "source": [
    "(\n",
    "    metadata.groupBy(\"speciesId\")\n",
    "    .agg(F.count(\"surveyId\").alias(\"n\"))\n",
    "    .groupBy(\"n\")\n",
    "    .agg(F.count(\"*\").alias(\"freq\"))\n",
    "    .orderBy(\"n\")\n",
    ").show()"
   ]
  },
  {
   "cell_type": "code",
   "execution_count": 7,
   "metadata": {},
   "outputs": [
    {
     "name": "stdout",
     "output_type": "stream",
     "text": [
      "+-------+-----------------+\n",
      "|summary|        speciesId|\n",
      "+-------+-----------------+\n",
      "|  count|          6563434|\n",
      "|   mean|5607.773993156631|\n",
      "| stddev| 3296.91880881717|\n",
      "|    min|              0.0|\n",
      "|    max|          11254.0|\n",
      "+-------+-----------------+\n",
      "\n"
     ]
    }
   ],
   "source": [
    "metadata.select(\"speciesId\").describe().show()"
   ]
  },
  {
   "cell_type": "code",
   "execution_count": 8,
   "metadata": {},
   "outputs": [
    {
     "name": "stdout",
     "output_type": "stream",
     "text": [
      "+--------------+\n",
      "|max(speciesId)|\n",
      "+--------------+\n",
      "|       11254.0|\n",
      "+--------------+\n",
      "\n"
     ]
    }
   ],
   "source": [
    "metadata.select(F.max(\"speciesId\")).show()"
   ]
  },
  {
   "cell_type": "code",
   "execution_count": 9,
   "metadata": {},
   "outputs": [
    {
     "name": "stderr",
     "output_type": "stream",
     "text": [
      "[Stage 32:>                                                       (0 + 32) / 33]\r"
     ]
    },
    {
     "name": "stdout",
     "output_type": "stream",
     "text": [
      "+--------+------------------------+\n",
      "| dataset|count(DISTINCT surveyId)|\n",
      "+--------+------------------------+\n",
      "|      po|                 3845533|\n",
      "|pa_train|                   88987|\n",
      "| pa_test|                    4716|\n",
      "+--------+------------------------+\n",
      "\n"
     ]
    },
    {
     "name": "stderr",
     "output_type": "stream",
     "text": [
      "                                                                                \r"
     ]
    }
   ],
   "source": [
    "metadata.groupBy(\"dataset\").agg(F.countDistinct(\"surveyId\")).show()"
   ]
  },
  {
   "cell_type": "code",
   "execution_count": 10,
   "metadata": {},
   "outputs": [
    {
     "name": "stdout",
     "output_type": "stream",
     "text": [
      "num_species 0\n"
     ]
    },
    {
     "name": "stderr",
     "output_type": "stream",
     "text": [
      "                                                                                \r"
     ]
    },
    {
     "name": "stdout",
     "output_type": "stream",
     "text": [
      "+--------+-------+\n",
      "| dataset|  count|\n",
      "+--------+-------+\n",
      "|      po|3845533|\n",
      "|pa_train|  88987|\n",
      "+--------+-------+\n",
      "\n",
      "num_species 2\n"
     ]
    },
    {
     "name": "stderr",
     "output_type": "stream",
     "text": [
      "                                                                                \r"
     ]
    },
    {
     "name": "stdout",
     "output_type": "stream",
     "text": [
      "+--------+------+\n",
      "| dataset| count|\n",
      "+--------+------+\n",
      "|      po|170215|\n",
      "|pa_train| 87440|\n",
      "+--------+------+\n",
      "\n",
      "num_species 4\n"
     ]
    },
    {
     "name": "stderr",
     "output_type": "stream",
     "text": [
      "                                                                                \r"
     ]
    },
    {
     "name": "stdout",
     "output_type": "stream",
     "text": [
      "+--------+------+\n",
      "| dataset| count|\n",
      "+--------+------+\n",
      "|      po|104124|\n",
      "|pa_train| 84061|\n",
      "+--------+------+\n",
      "\n",
      "num_species 6\n"
     ]
    },
    {
     "name": "stderr",
     "output_type": "stream",
     "text": [
      "                                                                                \r"
     ]
    },
    {
     "name": "stdout",
     "output_type": "stream",
     "text": [
      "+--------+-----+\n",
      "| dataset|count|\n",
      "+--------+-----+\n",
      "|      po|66182|\n",
      "|pa_train|78411|\n",
      "+--------+-----+\n",
      "\n",
      "num_species 8\n"
     ]
    },
    {
     "name": "stderr",
     "output_type": "stream",
     "text": [
      "[Stage 78:============================================>           (26 + 7) / 33]\r"
     ]
    },
    {
     "name": "stdout",
     "output_type": "stream",
     "text": [
      "+--------+-----+\n",
      "| dataset|count|\n",
      "+--------+-----+\n",
      "|      po|42094|\n",
      "|pa_train|70553|\n",
      "+--------+-----+\n",
      "\n"
     ]
    },
    {
     "name": "stderr",
     "output_type": "stream",
     "text": [
      "                                                                                \r"
     ]
    }
   ],
   "source": [
    "for i in range(0, 10, 2):\n",
    "    print(\"num_species\", i)\n",
    "    (\n",
    "        metadata.groupBy(\"dataset\", \"surveyId\")\n",
    "        .agg(F.countDistinct(\"speciesId\").alias(\"n_species\"))\n",
    "        .where(f\"n_species > {i}\")\n",
    "        .groupBy(\"dataset\")\n",
    "        .count()\n",
    "    ).show()"
   ]
  },
  {
   "cell_type": "code",
   "execution_count": 11,
   "metadata": {},
   "outputs": [
    {
     "name": "stderr",
     "output_type": "stream",
     "text": [
      "                                                                                \r"
     ]
    },
    {
     "name": "stdout",
     "output_type": "stream",
     "text": [
      "+-------------------------+\n",
      "|count(DISTINCT speciesId)|\n",
      "+-------------------------+\n",
      "|                     6443|\n",
      "+-------------------------+\n",
      "\n"
     ]
    },
    {
     "name": "stderr",
     "output_type": "stream",
     "text": [
      "[Stage 118:>                                                      (0 + 32) / 33]\r"
     ]
    },
    {
     "name": "stdout",
     "output_type": "stream",
     "text": [
      "+-------+------------------+------------------+\n",
      "|summary|          surveyId|         n_species|\n",
      "+-------+------------------+------------------+\n",
      "|  count|            154606|            154606|\n",
      "|   mean|1961119.9113294438|14.094433592486709|\n",
      "| stddev|1132436.1905773734| 8.565677476416594|\n",
      "|    min|                26|                 6|\n",
      "|    max|           3919655|               163|\n",
      "+-------+------------------+------------------+\n",
      "\n"
     ]
    },
    {
     "name": "stderr",
     "output_type": "stream",
     "text": [
      "                                                                                \r"
     ]
    }
   ],
   "source": [
    "subset = metadata.join(\n",
    "    metadata.groupBy(\"dataset\", \"surveyId\")\n",
    "    .agg(F.countDistinct(\"speciesId\").alias(\"n_species\"))\n",
    "    .where(\"n_species > 5\")\n",
    "    .select(\"surveyId\"),\n",
    "    on=\"surveyId\",\n",
    ")\n",
    "subset.select(F.countDistinct(\"speciesId\")).show()\n",
    "(\n",
    "    subset.groupBy(\"surveyId\")\n",
    "    .agg(F.countDistinct(\"speciesId\").alias(\"n_species\"))\n",
    "    .describe()\n",
    ").show()"
   ]
  },
  {
   "cell_type": "code",
   "execution_count": 12,
   "metadata": {},
   "outputs": [
    {
     "name": "stderr",
     "output_type": "stream",
     "text": [
      "[Stage 122:=========================================>             (24 + 8) / 32]\r"
     ]
    },
    {
     "name": "stdout",
     "output_type": "stream",
     "text": [
      "+--------+------------------------+\n",
      "| dataset|count(DISTINCT surveyId)|\n",
      "+--------+------------------------+\n",
      "|      po|                 3845533|\n",
      "|pa_train|                   88987|\n",
      "| pa_test|                    4716|\n",
      "+--------+------------------------+\n",
      "\n"
     ]
    },
    {
     "name": "stderr",
     "output_type": "stream",
     "text": [
      "                                                                                \r"
     ]
    }
   ],
   "source": [
    "metadata.groupBy(\"dataset\").agg(F.countDistinct(\"surveyId\")).show()"
   ]
  }
 ],
 "metadata": {
  "kernelspec": {
   "display_name": "venv",
   "language": "python",
   "name": "python3"
  },
  "language_info": {
   "codemirror_mode": {
    "name": "ipython",
    "version": 3
   },
   "file_extension": ".py",
   "mimetype": "text/x-python",
   "name": "python",
   "nbconvert_exporter": "python",
   "pygments_lexer": "ipython3",
   "version": "3.11.6"
  }
 },
 "nbformat": 4,
 "nbformat_minor": 2
}
