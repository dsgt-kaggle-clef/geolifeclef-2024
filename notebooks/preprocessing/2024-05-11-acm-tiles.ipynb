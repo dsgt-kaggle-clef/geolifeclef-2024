{
 "cells": [
  {
   "cell_type": "code",
   "execution_count": 1,
   "metadata": {},
   "outputs": [
    {
     "name": "stderr",
     "output_type": "stream",
     "text": [
      "Setting default log level to \"WARN\".\n",
      "To adjust logging level use sc.setLogLevel(newLevel). For SparkR, use setLogLevel(newLevel).\n",
      "24/05/11 10:52:23 WARN NativeCodeLoader: Unable to load native-hadoop library for your platform... using builtin-java classes where applicable\n",
      "24/05/11 10:52:23 WARN SparkConf: Note that spark.local.dir will be overridden by the value set by the cluster manager (via SPARK_LOCAL_DIRS in mesos/standalone/kubernetes and LOCAL_DIRS in YARN).\n"
     ]
    }
   ],
   "source": [
    "%load_ext autoreload\n",
    "%autoreload 2\n",
    "from geolifeclef.utils import get_spark\n",
    "from pyspark.sql import functions as F\n",
    "\n",
    "spark = get_spark()"
   ]
  },
  {
   "cell_type": "markdown",
   "metadata": {},
   "source": [
    "```\n",
    "$ gcloud storage du --readable-sizes gs://dsgt-clef-geolifeclef-2024/data/intermediate/tiles_test --summarize\n",
    "215.30MiB    gs://dsgt-clef-geolifeclef-2024/data/intermediate/tiles_test\n",
    "\n",
    "$ gcloud storage du --readable-sizes gs://dsgt-clef-geolifeclef-2024/data/intermediate/tiles --summarize\n",
    "573.12GiB    gs://dsgt-clef-geolifeclef-2024/data/intermediate/tiles\n",
    "\n",
    "$ gcloud storage du --readable-sizes gs://dsgt-clef-geolifeclef-2024/data/intermediate/tiles/*/satellite --summarize\n",
    "8.43GiB      gs://dsgt-clef-geolifeclef-2024/data/intermediate/tiles/*/satellite\n",
    "\n",
    "$ gcloud storage du --readable-sizes gs://dsgt-clef-geolifeclef-2024/data/intermediate/tiles/*/BioClimatic_Average_1981-2010 --summarize\n",
    "42.30GiB     gs://dsgt-clef-geolifeclef-2024/data/intermediate/tiles/*/BioClimatic_Average_1981-2010\n",
    "```"
   ]
  },
  {
   "cell_type": "code",
   "execution_count": 7,
   "metadata": {},
   "outputs": [
    {
     "data": {
      "text/plain": [
       "[<Blob: dsgt-clef-geolifeclef-2024, data/intermediate/tiles_test/pa-test/BioClimatic_Average_1981-2010/bio1/v3/_SUCCESS, 1711888979341060>,\n",
       " <Blob: dsgt-clef-geolifeclef-2024, data/intermediate/tiles_test/pa-test/BioClimatic_Average_1981-2010/bio10/v3/_SUCCESS, 1711888998323268>,\n",
       " <Blob: dsgt-clef-geolifeclef-2024, data/intermediate/tiles_test/pa-test/BioClimatic_Average_1981-2010/bio11/v3/_SUCCESS, 1711888992331823>,\n",
       " <Blob: dsgt-clef-geolifeclef-2024, data/intermediate/tiles_test/pa-test/BioClimatic_Average_1981-2010/bio12/v3/_SUCCESS, 1711889004833109>,\n",
       " <Blob: dsgt-clef-geolifeclef-2024, data/intermediate/tiles_test/pa-test/BioClimatic_Average_1981-2010/bio13/v3/_SUCCESS, 1711888991513252>,\n",
       " <Blob: dsgt-clef-geolifeclef-2024, data/intermediate/tiles_test/pa-test/BioClimatic_Average_1981-2010/bio14/v3/_SUCCESS, 1711888984230307>,\n",
       " <Blob: dsgt-clef-geolifeclef-2024, data/intermediate/tiles_test/pa-test/BioClimatic_Average_1981-2010/bio15/v3/_SUCCESS, 1711888998950520>,\n",
       " <Blob: dsgt-clef-geolifeclef-2024, data/intermediate/tiles_test/pa-test/BioClimatic_Average_1981-2010/bio16/v3/_SUCCESS, 1711888984276666>,\n",
       " <Blob: dsgt-clef-geolifeclef-2024, data/intermediate/tiles_test/pa-test/BioClimatic_Average_1981-2010/bio17/v3/_SUCCESS, 1711888972324140>,\n",
       " <Blob: dsgt-clef-geolifeclef-2024, data/intermediate/tiles_test/pa-test/BioClimatic_Average_1981-2010/bio18/v3/_SUCCESS, 1711888978147642>,\n",
       " <Blob: dsgt-clef-geolifeclef-2024, data/intermediate/tiles_test/pa-test/BioClimatic_Average_1981-2010/bio19/v3/_SUCCESS, 1711889010952167>,\n",
       " <Blob: dsgt-clef-geolifeclef-2024, data/intermediate/tiles_test/pa-test/BioClimatic_Average_1981-2010/bio2/v3/_SUCCESS, 1711889005246965>,\n",
       " <Blob: dsgt-clef-geolifeclef-2024, data/intermediate/tiles_test/pa-test/BioClimatic_Average_1981-2010/bio3/v3/_SUCCESS, 1711888997493713>,\n",
       " <Blob: dsgt-clef-geolifeclef-2024, data/intermediate/tiles_test/pa-test/BioClimatic_Average_1981-2010/bio4/v3/_SUCCESS, 1711888991468987>,\n",
       " <Blob: dsgt-clef-geolifeclef-2024, data/intermediate/tiles_test/pa-test/BioClimatic_Average_1981-2010/bio5/v3/_SUCCESS, 1711889012596314>,\n",
       " <Blob: dsgt-clef-geolifeclef-2024, data/intermediate/tiles_test/pa-test/BioClimatic_Average_1981-2010/bio6/v3/_SUCCESS, 1711889005828593>,\n",
       " <Blob: dsgt-clef-geolifeclef-2024, data/intermediate/tiles_test/pa-test/BioClimatic_Average_1981-2010/bio7/v3/_SUCCESS, 1711888986708131>,\n",
       " <Blob: dsgt-clef-geolifeclef-2024, data/intermediate/tiles_test/pa-test/BioClimatic_Average_1981-2010/bio8/v3/_SUCCESS, 1711888971987909>,\n",
       " <Blob: dsgt-clef-geolifeclef-2024, data/intermediate/tiles_test/pa-test/BioClimatic_Average_1981-2010/bio9/v3/_SUCCESS, 1711888972312074>,\n",
       " <Blob: dsgt-clef-geolifeclef-2024, data/intermediate/tiles_test/pa-test/LandCover/LandCover_MODIS_Terra-Aqua_500m/v3/_SUCCESS, 1711889075844836>,\n",
       " <Blob: dsgt-clef-geolifeclef-2024, data/intermediate/tiles_test/pa-test/Soilgrids/crop_proj_bdod_5-15cm_mean_1000/v3/_SUCCESS, 1711889012008533>,\n",
       " <Blob: dsgt-clef-geolifeclef-2024, data/intermediate/tiles_test/pa-test/Soilgrids/crop_proj_cec_5-15cm_mean_1000/v3/_SUCCESS, 1711889023177424>,\n",
       " <Blob: dsgt-clef-geolifeclef-2024, data/intermediate/tiles_test/pa-test/Soilgrids/crop_proj_cfvo_5-15cm_mean_1000/v3/_SUCCESS, 1711889029199924>,\n",
       " <Blob: dsgt-clef-geolifeclef-2024, data/intermediate/tiles_test/pa-test/Soilgrids/crop_proj_clay_5-15cm_mean_1000/v3/_SUCCESS, 1711889023936684>,\n",
       " <Blob: dsgt-clef-geolifeclef-2024, data/intermediate/tiles_test/pa-test/Soilgrids/crop_proj_nitrogen_5-15cm_mean_1000/v3/_SUCCESS, 1711889017205786>,\n",
       " <Blob: dsgt-clef-geolifeclef-2024, data/intermediate/tiles_test/pa-test/Soilgrids/crop_proj_phh2o_5-15cm_mean_1000/v3/_SUCCESS, 1711889030053142>,\n",
       " <Blob: dsgt-clef-geolifeclef-2024, data/intermediate/tiles_test/pa-test/Soilgrids/crop_proj_sand_5-15cm_mean_1000/v3/_SUCCESS, 1711889018323997>,\n",
       " <Blob: dsgt-clef-geolifeclef-2024, data/intermediate/tiles_test/pa-test/Soilgrids/crop_proj_silt_5-15cm_mean_1000/v3/_SUCCESS, 1711889017969203>,\n",
       " <Blob: dsgt-clef-geolifeclef-2024, data/intermediate/tiles_test/pa-test/Soilgrids/crop_proj_soc_5-15cm_mean_1000/v3/_SUCCESS, 1711889024355980>,\n",
       " <Blob: dsgt-clef-geolifeclef-2024, data/intermediate/tiles_test/pa-test/detailed/Built1994_WGS84/v3/_SUCCESS, 1711889041087514>,\n",
       " <Blob: dsgt-clef-geolifeclef-2024, data/intermediate/tiles_test/pa-test/detailed/Built2009_WGS84/v3/_SUCCESS, 1711889066919703>,\n",
       " <Blob: dsgt-clef-geolifeclef-2024, data/intermediate/tiles_test/pa-test/detailed/Lights1994_WGS84/v3/_SUCCESS, 1711889056544638>,\n",
       " <Blob: dsgt-clef-geolifeclef-2024, data/intermediate/tiles_test/pa-test/detailed/Lights2009_WGS84/v3/_SUCCESS, 1711889061494006>,\n",
       " <Blob: dsgt-clef-geolifeclef-2024, data/intermediate/tiles_test/pa-test/detailed/NavWater1994_WGS84/v3/_SUCCESS, 1711889051089628>,\n",
       " <Blob: dsgt-clef-geolifeclef-2024, data/intermediate/tiles_test/pa-test/detailed/NavWater2009_WGS84/v3/_SUCCESS, 1711889062089945>,\n",
       " <Blob: dsgt-clef-geolifeclef-2024, data/intermediate/tiles_test/pa-test/detailed/Pasture1993_WGS84/v3/_SUCCESS, 1711889035290549>,\n",
       " <Blob: dsgt-clef-geolifeclef-2024, data/intermediate/tiles_test/pa-test/detailed/Pasture2009_WGS84/v3/_SUCCESS, 1711889056726426>,\n",
       " <Blob: dsgt-clef-geolifeclef-2024, data/intermediate/tiles_test/pa-test/detailed/Popdensity1990_WGS84/v3/_SUCCESS, 1711889045573394>,\n",
       " <Blob: dsgt-clef-geolifeclef-2024, data/intermediate/tiles_test/pa-test/detailed/Popdensity2010_WGS84/v3/_SUCCESS, 1711889040483980>,\n",
       " <Blob: dsgt-clef-geolifeclef-2024, data/intermediate/tiles_test/pa-test/detailed/Railways_WGS84/v3/_SUCCESS, 1711889067104671>,\n",
       " <Blob: dsgt-clef-geolifeclef-2024, data/intermediate/tiles_test/pa-test/detailed/Roads_WGS84/v3/_SUCCESS, 1711889051536417>,\n",
       " <Blob: dsgt-clef-geolifeclef-2024, data/intermediate/tiles_test/pa-test/detailed/croplands1992_WGS84/v3/_SUCCESS, 1711889072206772>,\n",
       " <Blob: dsgt-clef-geolifeclef-2024, data/intermediate/tiles_test/pa-test/detailed/croplands2005_WGS84/v3/_SUCCESS, 1711889046035101>,\n",
       " <Blob: dsgt-clef-geolifeclef-2024, data/intermediate/tiles_test/pa-test/satellite/v3/_SUCCESS, 1711889078901673>,\n",
       " <Blob: dsgt-clef-geolifeclef-2024, data/intermediate/tiles_test/pa-test/summarized/HFP1993_WGS84/v3/_SUCCESS, 1711889030070934>,\n",
       " <Blob: dsgt-clef-geolifeclef-2024, data/intermediate/tiles_test/pa-test/summarized/HFP2009_WGS84/v3/_SUCCESS, 1711889034711557>,\n",
       " <Blob: dsgt-clef-geolifeclef-2024, data/intermediate/tiles_test/pa-train/BioClimatic_Average_1981-2010/bio1/v3/_SUCCESS, 1711885123248069>,\n",
       " <Blob: dsgt-clef-geolifeclef-2024, data/intermediate/tiles_test/pa-train/BioClimatic_Average_1981-2010/bio10/v3/_SUCCESS, 1711885143812368>,\n",
       " <Blob: dsgt-clef-geolifeclef-2024, data/intermediate/tiles_test/pa-train/BioClimatic_Average_1981-2010/bio11/v3/_SUCCESS, 1711885137316294>,\n",
       " <Blob: dsgt-clef-geolifeclef-2024, data/intermediate/tiles_test/pa-train/BioClimatic_Average_1981-2010/bio12/v3/_SUCCESS, 1711885146706726>,\n",
       " <Blob: dsgt-clef-geolifeclef-2024, data/intermediate/tiles_test/pa-train/BioClimatic_Average_1981-2010/bio13/v3/_SUCCESS, 1711885136082370>,\n",
       " <Blob: dsgt-clef-geolifeclef-2024, data/intermediate/tiles_test/pa-train/BioClimatic_Average_1981-2010/bio14/v3/_SUCCESS, 1711885123534622>,\n",
       " <Blob: dsgt-clef-geolifeclef-2024, data/intermediate/tiles_test/pa-train/BioClimatic_Average_1981-2010/bio15/v3/_SUCCESS, 1711885138020405>,\n",
       " <Blob: dsgt-clef-geolifeclef-2024, data/intermediate/tiles_test/pa-train/BioClimatic_Average_1981-2010/bio16/v3/_SUCCESS, 1711885128394071>,\n",
       " <Blob: dsgt-clef-geolifeclef-2024, data/intermediate/tiles_test/pa-train/BioClimatic_Average_1981-2010/bio17/v3/_SUCCESS, 1711885116374543>,\n",
       " <Blob: dsgt-clef-geolifeclef-2024, data/intermediate/tiles_test/pa-train/BioClimatic_Average_1981-2010/bio18/v3/_SUCCESS, 1711885122098653>,\n",
       " <Blob: dsgt-clef-geolifeclef-2024, data/intermediate/tiles_test/pa-train/BioClimatic_Average_1981-2010/bio19/v3/_SUCCESS, 1711885153616433>,\n",
       " <Blob: dsgt-clef-geolifeclef-2024, data/intermediate/tiles_test/pa-train/BioClimatic_Average_1981-2010/bio2/v3/_SUCCESS, 1711885150803191>,\n",
       " <Blob: dsgt-clef-geolifeclef-2024, data/intermediate/tiles_test/pa-train/BioClimatic_Average_1981-2010/bio3/v3/_SUCCESS, 1711885142678269>,\n",
       " <Blob: dsgt-clef-geolifeclef-2024, data/intermediate/tiles_test/pa-train/BioClimatic_Average_1981-2010/bio4/v3/_SUCCESS, 1711885131235993>,\n",
       " <Blob: dsgt-clef-geolifeclef-2024, data/intermediate/tiles_test/pa-train/BioClimatic_Average_1981-2010/bio5/v3/_SUCCESS, 1711885159229709>,\n",
       " <Blob: dsgt-clef-geolifeclef-2024, data/intermediate/tiles_test/pa-train/BioClimatic_Average_1981-2010/bio6/v3/_SUCCESS, 1711885152087267>,\n",
       " <Blob: dsgt-clef-geolifeclef-2024, data/intermediate/tiles_test/pa-train/BioClimatic_Average_1981-2010/bio7/v3/_SUCCESS, 1711885130538487>,\n",
       " <Blob: dsgt-clef-geolifeclef-2024, data/intermediate/tiles_test/pa-train/BioClimatic_Average_1981-2010/bio8/v3/_SUCCESS, 1711885116166083>,\n",
       " <Blob: dsgt-clef-geolifeclef-2024, data/intermediate/tiles_test/pa-train/BioClimatic_Average_1981-2010/bio9/v3/_SUCCESS, 1711885116234091>,\n",
       " <Blob: dsgt-clef-geolifeclef-2024, data/intermediate/tiles_test/pa-train/LandCover/LandCover_MODIS_Terra-Aqua_500m/v3/_SUCCESS, 1711885206565125>,\n",
       " <Blob: dsgt-clef-geolifeclef-2024, data/intermediate/tiles_test/pa-train/Soilgrids/crop_proj_bdod_5-15cm_mean_1000/v3/_SUCCESS, 1711885159400723>,\n",
       " <Blob: dsgt-clef-geolifeclef-2024, data/intermediate/tiles_test/pa-train/Soilgrids/crop_proj_cec_5-15cm_mean_1000/v3/_SUCCESS, 1711885173506311>,\n",
       " <Blob: dsgt-clef-geolifeclef-2024, data/intermediate/tiles_test/pa-train/Soilgrids/crop_proj_cfvo_5-15cm_mean_1000/v3/_SUCCESS, 1711885182701145>,\n",
       " <Blob: dsgt-clef-geolifeclef-2024, data/intermediate/tiles_test/pa-train/Soilgrids/crop_proj_clay_5-15cm_mean_1000/v3/_SUCCESS, 1711885175689187>,\n",
       " <Blob: dsgt-clef-geolifeclef-2024, data/intermediate/tiles_test/pa-train/Soilgrids/crop_proj_nitrogen_5-15cm_mean_1000/v3/_SUCCESS, 1711885161106794>,\n",
       " <Blob: dsgt-clef-geolifeclef-2024, data/intermediate/tiles_test/pa-train/Soilgrids/crop_proj_phh2o_5-15cm_mean_1000/v3/_SUCCESS, 1711885188134638>,\n",
       " <Blob: dsgt-clef-geolifeclef-2024, data/intermediate/tiles_test/pa-train/Soilgrids/crop_proj_sand_5-15cm_mean_1000/v3/_SUCCESS, 1711885168162970>,\n",
       " <Blob: dsgt-clef-geolifeclef-2024, data/intermediate/tiles_test/pa-train/Soilgrids/crop_proj_silt_5-15cm_mean_1000/v3/_SUCCESS, 1711885166306313>,\n",
       " <Blob: dsgt-clef-geolifeclef-2024, data/intermediate/tiles_test/pa-train/Soilgrids/crop_proj_soc_5-15cm_mean_1000/v3/_SUCCESS, 1711885180918696>,\n",
       " <Blob: dsgt-clef-geolifeclef-2024, data/intermediate/tiles_test/pa-train/detailed/Built1994_WGS84/v3/_SUCCESS, 1711885202410498>,\n",
       " <Blob: dsgt-clef-geolifeclef-2024, data/intermediate/tiles_test/pa-train/detailed/Built2009_WGS84/v3/_SUCCESS, 1711885222468181>,\n",
       " <Blob: dsgt-clef-geolifeclef-2024, data/intermediate/tiles_test/pa-train/detailed/Lights1994_WGS84/v3/_SUCCESS, 1711885214170811>,\n",
       " <Blob: dsgt-clef-geolifeclef-2024, data/intermediate/tiles_test/pa-train/detailed/Lights2009_WGS84/v3/_SUCCESS, 1711885221015518>,\n",
       " <Blob: dsgt-clef-geolifeclef-2024, data/intermediate/tiles_test/pa-train/detailed/NavWater1994_WGS84/v3/_SUCCESS, 1711885212960230>,\n",
       " <Blob: dsgt-clef-geolifeclef-2024, data/intermediate/tiles_test/pa-train/detailed/NavWater2009_WGS84/v3/_SUCCESS, 1711885226678516>,\n",
       " <Blob: dsgt-clef-geolifeclef-2024, data/intermediate/tiles_test/pa-train/detailed/Pasture1993_WGS84/v3/_SUCCESS, 1711885195835044>,\n",
       " <Blob: dsgt-clef-geolifeclef-2024, data/intermediate/tiles_test/pa-train/detailed/Pasture2009_WGS84/v3/_SUCCESS, 1711885219940002>,\n",
       " <Blob: dsgt-clef-geolifeclef-2024, data/intermediate/tiles_test/pa-train/detailed/Popdensity1990_WGS84/v3/_SUCCESS, 1711885207881256>,\n",
       " <Blob: dsgt-clef-geolifeclef-2024, data/intermediate/tiles_test/pa-train/detailed/Popdensity2010_WGS84/v3/_SUCCESS, 1711885201607279>,\n",
       " <Blob: dsgt-clef-geolifeclef-2024, data/intermediate/tiles_test/pa-train/detailed/Railways_WGS84/v3/_SUCCESS, 1711885227455961>,\n",
       " <Blob: dsgt-clef-geolifeclef-2024, data/intermediate/tiles_test/pa-train/detailed/Roads_WGS84/v3/_SUCCESS, 1711885215549412>,\n",
       " <Blob: dsgt-clef-geolifeclef-2024, data/intermediate/tiles_test/pa-train/detailed/croplands1992_WGS84/v3/_SUCCESS, 1711885228817861>,\n",
       " <Blob: dsgt-clef-geolifeclef-2024, data/intermediate/tiles_test/pa-train/detailed/croplands2005_WGS84/v3/_SUCCESS, 1711885208861898>,\n",
       " <Blob: dsgt-clef-geolifeclef-2024, data/intermediate/tiles_test/pa-train/satellite/v3/_SUCCESS, 1711885237728192>,\n",
       " <Blob: dsgt-clef-geolifeclef-2024, data/intermediate/tiles_test/pa-train/summarized/HFP1993_WGS84/v3/_SUCCESS, 1711885189360838>,\n",
       " <Blob: dsgt-clef-geolifeclef-2024, data/intermediate/tiles_test/pa-train/summarized/HFP2009_WGS84/v3/_SUCCESS, 1711885194866830>,\n",
       " <Blob: dsgt-clef-geolifeclef-2024, data/intermediate/tiles_test/po/BioClimatic_Average_1981-2010/bio1/v3/_SUCCESS, 1711800853995216>,\n",
       " <Blob: dsgt-clef-geolifeclef-2024, data/intermediate/tiles_test/po/BioClimatic_Average_1981-2010/bio10/v3/_SUCCESS, 1711800826617114>,\n",
       " <Blob: dsgt-clef-geolifeclef-2024, data/intermediate/tiles_test/po/BioClimatic_Average_1981-2010/bio11/v3/_SUCCESS, 1711800845637829>,\n",
       " <Blob: dsgt-clef-geolifeclef-2024, data/intermediate/tiles_test/po/BioClimatic_Average_1981-2010/bio12/v3/_SUCCESS, 1711800864314157>,\n",
       " <Blob: dsgt-clef-geolifeclef-2024, data/intermediate/tiles_test/po/BioClimatic_Average_1981-2010/bio13/v3/_SUCCESS, 1711800874919066>,\n",
       " <Blob: dsgt-clef-geolifeclef-2024, data/intermediate/tiles_test/po/BioClimatic_Average_1981-2010/bio14/v3/_SUCCESS, 1711800854137841>,\n",
       " <Blob: dsgt-clef-geolifeclef-2024, data/intermediate/tiles_test/po/BioClimatic_Average_1981-2010/bio15/v3/_SUCCESS, 1711800837631889>,\n",
       " <Blob: dsgt-clef-geolifeclef-2024, data/intermediate/tiles_test/po/BioClimatic_Average_1981-2010/bio16/v3/_SUCCESS, 1711800873346446>,\n",
       " <Blob: dsgt-clef-geolifeclef-2024, data/intermediate/tiles_test/po/BioClimatic_Average_1981-2010/bio17/v3/_SUCCESS, 1711800844304221>,\n",
       " <Blob: dsgt-clef-geolifeclef-2024, data/intermediate/tiles_test/po/BioClimatic_Average_1981-2010/bio18/v3/_SUCCESS, 1711800836167531>,\n",
       " <Blob: dsgt-clef-geolifeclef-2024, data/intermediate/tiles_test/po/BioClimatic_Average_1981-2010/bio19/v3/_SUCCESS, 1711800836351874>,\n",
       " <Blob: dsgt-clef-geolifeclef-2024, data/intermediate/tiles_test/po/BioClimatic_Average_1981-2010/bio2/v3/_SUCCESS, 1711800864094858>,\n",
       " <Blob: dsgt-clef-geolifeclef-2024, data/intermediate/tiles_test/po/BioClimatic_Average_1981-2010/bio3/v3/_SUCCESS, 1711800854098406>,\n",
       " <Blob: dsgt-clef-geolifeclef-2024, data/intermediate/tiles_test/po/BioClimatic_Average_1981-2010/bio4/v3/_SUCCESS, 1711800828551474>,\n",
       " <Blob: dsgt-clef-geolifeclef-2024, data/intermediate/tiles_test/po/BioClimatic_Average_1981-2010/bio5/v3/_SUCCESS, 1711800828219344>,\n",
       " <Blob: dsgt-clef-geolifeclef-2024, data/intermediate/tiles_test/po/BioClimatic_Average_1981-2010/bio6/v3/_SUCCESS, 1711800873142396>,\n",
       " <Blob: dsgt-clef-geolifeclef-2024, data/intermediate/tiles_test/po/BioClimatic_Average_1981-2010/bio7/v3/_SUCCESS, 1711800884164006>,\n",
       " <Blob: dsgt-clef-geolifeclef-2024, data/intermediate/tiles_test/po/BioClimatic_Average_1981-2010/bio8/v3/_SUCCESS, 1711800844593148>,\n",
       " <Blob: dsgt-clef-geolifeclef-2024, data/intermediate/tiles_test/po/BioClimatic_Average_1981-2010/bio9/v3/_SUCCESS, 1711800862313888>,\n",
       " <Blob: dsgt-clef-geolifeclef-2024, data/intermediate/tiles_test/po/LandCover/LandCover_MODIS_Terra-Aqua_500m/v3/_SUCCESS, 1711800934840850>,\n",
       " <Blob: dsgt-clef-geolifeclef-2024, data/intermediate/tiles_test/po/Soilgrids/crop_proj_bdod_5-15cm_mean_1000/v3/_SUCCESS, 1711800973503527>,\n",
       " <Blob: dsgt-clef-geolifeclef-2024, data/intermediate/tiles_test/po/Soilgrids/crop_proj_cec_5-15cm_mean_1000/v3/_SUCCESS, 1711800963152558>,\n",
       " <Blob: dsgt-clef-geolifeclef-2024, data/intermediate/tiles_test/po/Soilgrids/crop_proj_cfvo_5-15cm_mean_1000/v3/_SUCCESS, 1711800981148092>,\n",
       " <Blob: dsgt-clef-geolifeclef-2024, data/intermediate/tiles_test/po/Soilgrids/crop_proj_clay_5-15cm_mean_1000/v3/_SUCCESS, 1711800961802259>,\n",
       " <Blob: dsgt-clef-geolifeclef-2024, data/intermediate/tiles_test/po/Soilgrids/crop_proj_nitrogen_5-15cm_mean_1000/v3/_SUCCESS, 1711800973021801>,\n",
       " <Blob: dsgt-clef-geolifeclef-2024, data/intermediate/tiles_test/po/Soilgrids/crop_proj_phh2o_5-15cm_mean_1000/v3/_SUCCESS, 1711800954239565>,\n",
       " <Blob: dsgt-clef-geolifeclef-2024, data/intermediate/tiles_test/po/Soilgrids/crop_proj_sand_5-15cm_mean_1000/v3/_SUCCESS, 1711800963865134>,\n",
       " <Blob: dsgt-clef-geolifeclef-2024, data/intermediate/tiles_test/po/Soilgrids/crop_proj_silt_5-15cm_mean_1000/v3/_SUCCESS, 1711800953114066>,\n",
       " <Blob: dsgt-clef-geolifeclef-2024, data/intermediate/tiles_test/po/Soilgrids/crop_proj_soc_5-15cm_mean_1000/v3/_SUCCESS, 1711800971596039>,\n",
       " <Blob: dsgt-clef-geolifeclef-2024, data/intermediate/tiles_test/po/detailed/Built1994_WGS84/v3/_SUCCESS, 1711800893456575>,\n",
       " <Blob: dsgt-clef-geolifeclef-2024, data/intermediate/tiles_test/po/detailed/Built2009_WGS84/v3/_SUCCESS, 1711800904229843>,\n",
       " <Blob: dsgt-clef-geolifeclef-2024, data/intermediate/tiles_test/po/detailed/Lights1994_WGS84/v3/_SUCCESS, 1711800943120670>,\n",
       " <Blob: dsgt-clef-geolifeclef-2024, data/intermediate/tiles_test/po/detailed/Lights2009_WGS84/v3/_SUCCESS, 1711800883670560>,\n",
       " <Blob: dsgt-clef-geolifeclef-2024, data/intermediate/tiles_test/po/detailed/NavWater1994_WGS84/v3/_SUCCESS, 1711800925137864>,\n",
       " <Blob: dsgt-clef-geolifeclef-2024, data/intermediate/tiles_test/po/detailed/NavWater2009_WGS84/v3/_SUCCESS, 1711800915290649>,\n",
       " <Blob: dsgt-clef-geolifeclef-2024, data/intermediate/tiles_test/po/detailed/Pasture1993_WGS84/v3/_SUCCESS, 1711800924893030>,\n",
       " <Blob: dsgt-clef-geolifeclef-2024, data/intermediate/tiles_test/po/detailed/Pasture2009_WGS84/v3/_SUCCESS, 1711800881859586>,\n",
       " <Blob: dsgt-clef-geolifeclef-2024, data/intermediate/tiles_test/po/detailed/Popdensity1990_WGS84/v3/_SUCCESS, 1711800893054141>,\n",
       " <Blob: dsgt-clef-geolifeclef-2024, data/intermediate/tiles_test/po/detailed/Popdensity2010_WGS84/v3/_SUCCESS, 1711800933826780>,\n",
       " <Blob: dsgt-clef-geolifeclef-2024, data/intermediate/tiles_test/po/detailed/Railways_WGS84/v3/_SUCCESS, 1711800934298770>,\n",
       " <Blob: dsgt-clef-geolifeclef-2024, data/intermediate/tiles_test/po/detailed/Roads_WGS84/v3/_SUCCESS, 1711800915022273>,\n",
       " <Blob: dsgt-clef-geolifeclef-2024, data/intermediate/tiles_test/po/detailed/croplands1992_WGS84/v3/_SUCCESS, 1711800904198973>,\n",
       " <Blob: dsgt-clef-geolifeclef-2024, data/intermediate/tiles_test/po/detailed/croplands2005_WGS84/v3/_SUCCESS, 1711800943290041>,\n",
       " <Blob: dsgt-clef-geolifeclef-2024, data/intermediate/tiles_test/po/satellite/v3/_SUCCESS, 1711800987876811>,\n",
       " <Blob: dsgt-clef-geolifeclef-2024, data/intermediate/tiles_test/po/summarized/HFP1993_WGS84/v3/_SUCCESS, 1711800944241243>,\n",
       " <Blob: dsgt-clef-geolifeclef-2024, data/intermediate/tiles_test/po/summarized/HFP2009_WGS84/v3/_SUCCESS, 1711800952175528>]"
      ]
     },
     "execution_count": 7,
     "metadata": {},
     "output_type": "execute_result"
    }
   ],
   "source": [
    "import google.cloud.storage as storage\n",
    "\n",
    "client = storage.Client()\n",
    "bucket = client.get_bucket(\"dsgt-clef-geolifeclef-2024\")\n",
    "blobs = list(\n",
    "    bucket.list_blobs(prefix=\"data/intermediate/tiles_test\", match_glob=\"**/_SUCCESS\")\n",
    ")\n",
    "blobs"
   ]
  },
  {
   "cell_type": "code",
   "execution_count": 12,
   "metadata": {},
   "outputs": [
    {
     "data": {
      "text/plain": [
       "('data/intermediate/tiles_test/pa-test/BioClimatic_Average_1981-2010/bio1/v3/_SUCCESS',\n",
       " 'dsgt-clef-geolifeclef-2024')"
      ]
     },
     "execution_count": 12,
     "metadata": {},
     "output_type": "execute_result"
    }
   ],
   "source": [
    "blobs[0].name, blobs[0].bucket.name"
   ]
  },
  {
   "cell_type": "code",
   "execution_count": 16,
   "metadata": {},
   "outputs": [
    {
     "data": {
      "text/plain": [
       "'gs://dsgt-clef-geolifeclef-2024/data/intermediate/tiles_test/pa-test/BioClimatic_Average_1981-2010/bio1/v3/*'"
      ]
     },
     "execution_count": 16,
     "metadata": {},
     "output_type": "execute_result"
    }
   ],
   "source": [
    "def create_dataset_path(blob):\n",
    "    name = \n",
    "    return f\"gs://{blob.bucket.name}/{blob.name.replace('_SUCCESS', '*')}\"\n",
    "\n",
    "\n",
    "create_dataset_path(blobs[0])"
   ]
  },
  {
   "cell_type": "code",
   "execution_count": 21,
   "metadata": {},
   "outputs": [
    {
     "name": "stdout",
     "output_type": "stream",
     "text": [
      "root\n",
      " |-- bio1: array (nullable = true)\n",
      " |    |-- element: double (containsNull = true)\n",
      " |-- lat: double (nullable = true)\n",
      " |-- lon: double (nullable = true)\n",
      " |-- surveyId: double (nullable = true)\n",
      "\n",
      "+--------------------+---------+--------+--------+\n",
      "|                bio1|      lat|     lon|surveyId|\n",
      "+--------------------+---------+--------+--------+\n",
      "|[-16706.4765625, ...| 57.12081|10.03355|   642.0|\n",
      "|[-60389.3046875, ...| 46.22997|   7.333|  1792.0|\n",
      "|[-19107.37890625,...| 42.58006|1.843658|  3256.0|\n",
      "|[-34104.8515625, ...| 46.26149|11.72009|  3855.0|\n",
      "|[-19326.07421875,...| 55.90245| 9.36187|  4889.0|\n",
      "|[-16739.07421875,...| 57.12295|10.01001|  5884.0|\n",
      "|[-2763.9575195312...| 42.04737|13.75019|  6955.0|\n",
      "|[-17500.60546875,...| 56.86452| 9.62643|  8956.0|\n",
      "|[-6434.1611328125...| 52.10887|6.199927|  9037.0|\n",
      "|[-5485.7783203125...| 46.33293|  5.6912|  9537.0|\n",
      "|[-18147.41796875,...| 55.57042| 9.41026| 11594.0|\n",
      "|[29705.1484375, -...| 43.08357|6.151231| 11849.0|\n",
      "|[-9034.66015625, ...| 52.83167|6.497538| 12019.0|\n",
      "|[-9045.400390625,...|52.834413|6.499299| 12436.0|\n",
      "|[-17351.576171875...| 56.65009| 9.15586| 12705.0|\n",
      "|[-45238.7890625, ...| 47.35235|10.11429| 12842.0|\n",
      "|[31839.208984375,...| 42.28494|11.64628| 13429.0|\n",
      "|[-18846.09375, 85...| 44.98392| 5.63542| 15914.0|\n",
      "|[-3972.5361328125...|51.317437|5.530068| 16550.0|\n",
      "|[29054.57421875, ...| 43.10858|6.153073| 18511.0|\n",
      "+--------------------+---------+--------+--------+\n",
      "only showing top 20 rows\n",
      "\n",
      "+----------+\n",
      "|size(bio1)|\n",
      "+----------+\n",
      "|        64|\n",
      "+----------+\n",
      "\n"
     ]
    },
    {
     "data": {
      "text/plain": [
       "4000"
      ]
     },
     "execution_count": 21,
     "metadata": {},
     "output_type": "execute_result"
    }
   ],
   "source": [
    "df = spark.read.parquet(create_dataset_path(blobs[0]))\n",
    "df.printSchema()\n",
    "df.show()\n",
    "df.select(F.size(\"bio1\")).limit(1).show()\n",
    "df.count()"
   ]
  },
  {
   "cell_type": "code",
   "execution_count": null,
   "metadata": {},
   "outputs": [],
   "source": [
    "df = spark.read.parquet(create_dataset_path(blobs[0]))\n",
    "df.printSchema()\n",
    "df.show()\n",
    "df.select(F.size(\"bio1\")).limit(1).show()\n",
    "df.count()"
   ]
  },
  {
   "cell_type": "code",
   "execution_count": 23,
   "metadata": {},
   "outputs": [
    {
     "data": {
      "text/plain": [
       "[<Blob: dsgt-clef-geolifeclef-2024, data/intermediate/tiles_test/pa-test/satellite/v3/_SUCCESS, 1711889078901673>,\n",
       " <Blob: dsgt-clef-geolifeclef-2024, data/intermediate/tiles_test/pa-train/satellite/v3/_SUCCESS, 1711885237728192>,\n",
       " <Blob: dsgt-clef-geolifeclef-2024, data/intermediate/tiles_test/po/satellite/v3/_SUCCESS, 1711800987876811>]"
      ]
     },
     "execution_count": 23,
     "metadata": {},
     "output_type": "execute_result"
    }
   ],
   "source": [
    "satellite_blobs = [blob for blob in blobs if \"satellite\" in blob.name]\n",
    "satellite_blobs"
   ]
  },
  {
   "cell_type": "code",
   "execution_count": 38,
   "metadata": {},
   "outputs": [
    {
     "name": "stdout",
     "output_type": "stream",
     "text": [
      "root\n",
      " |-- red: array (nullable = true)\n",
      " |    |-- element: double (containsNull = true)\n",
      " |-- green: array (nullable = true)\n",
      " |    |-- element: double (containsNull = true)\n",
      " |-- blue: array (nullable = true)\n",
      " |    |-- element: double (containsNull = true)\n",
      " |-- nir: array (nullable = true)\n",
      " |    |-- element: double (containsNull = true)\n",
      " |-- lat: double (nullable = true)\n",
      " |-- lon: double (nullable = true)\n",
      " |-- surveyId: double (nullable = true)\n",
      " |-- dataset: string (nullable = false)\n",
      " |-- file_path: string (nullable = false)\n",
      "\n",
      "+--------------------+--------------------+--------------------+--------------------+---------+--------+--------+-------+--------------------+\n",
      "|                 red|               green|                blue|                 nir|      lat|     lon|surveyId|dataset|           file_path|\n",
      "+--------------------+--------------------+--------------------+--------------------+---------+--------+--------+-------+--------------------+\n",
      "|[5103084.0, -3441...|[5291284.0, -2606...|[4475040.0, -1678...|[1.0362744E7, -10...| 57.12081|10.03355|   642.0|pa_test|gs://dsgt-clef-ge...|\n",
      "|[5751564.0, -1880...|[5975436.0, -1163...|[5106672.0, -1739...|[9797632.0, 11550...| 46.22997|   7.333|  1792.0|pa_test|gs://dsgt-clef-ge...|\n",
      "|[7673456.0, -5011...|[7669300.0, -4602...|[6921724.0, -5349...|[1.0800616E7, -36...| 42.58006|1.843658|  3256.0|pa_test|gs://dsgt-clef-ge...|\n",
      "|[1.1107224E7, 514...|[1.1055624E7, 501...|[1.0856348E7, 519...|[1.167018E7, 3380...| 46.26149|11.72009|  3855.0|pa_test|gs://dsgt-clef-ge...|\n",
      "|[4037656.0, -5964...|[4243048.0, -4772...|[3829284.0, -4771...|[8764288.0, -1477...| 55.90245| 9.36187|  4889.0|pa_test|gs://dsgt-clef-ge...|\n",
      "|[4987568.0, 13693...|[5215628.0, 11154...|[4499516.0, 99685...|[1.0260276E7, 850...| 57.12295|10.01001|  5884.0|pa_test|gs://dsgt-clef-ge...|\n",
      "|[6381328.0, 15063...|[6169168.0, -3045...|[5228728.0, 19577...|[9891416.0, -1166...| 42.04737|13.75019|  6955.0|pa_test|gs://dsgt-clef-ge...|\n",
      "|[4886624.0, -3799...|[5469796.0, -6962...|[4571024.0, -1226...|[1.0293324E7, -64...| 56.86452| 9.62643|  8956.0|pa_test|gs://dsgt-clef-ge...|\n",
      "|[5119248.0, 91105...|[5835392.0, 35523...|[4835944.0, 67678...|[1.0661008E7, 717...| 52.10887|6.199927|  9037.0|pa_test|gs://dsgt-clef-ge...|\n",
      "|[4571832.0, 18712...|[5380456.0, 95895...|[4346700.0, 11260...|[1.0654636E7, -21...| 46.33293|  5.6912|  9537.0|pa_test|gs://dsgt-clef-ge...|\n",
      "|[4460548.0, 64238...|[4767664.0, 48329...|[4146644.0, 88266...|[9402260.0, -2306...| 55.57042| 9.41026| 11594.0|pa_test|gs://dsgt-clef-ge...|\n",
      "|[7219008.0, 17087...|[7122748.0, 14014...|[6397864.0, 11186...|[9135340.0, 84912...| 43.08357|6.151231| 11849.0|pa_test|gs://dsgt-clef-ge...|\n",
      "|[5597628.0, -1705...|[6022652.0, -2189...|[5466240.0, -1679...|[1.0168572E7, -17...| 52.83167|6.497538| 12019.0|pa_test|gs://dsgt-clef-ge...|\n",
      "|[5469756.0, -1500...|[5914596.0, -2360...|[5366884.0, -1686...|[9991572.0, -2958...|52.834413|6.499299| 12436.0|pa_test|gs://dsgt-clef-ge...|\n",
      "|[2174676.0, 11897...|[2232944.0, 12245...|[1901692.0, 10356...|[3807704.0, 21587...| 56.65009| 9.15586| 12705.0|pa_test|gs://dsgt-clef-ge...|\n",
      "|[1.1479224E7, -39...|[1.146632E7, -419...|[1.147282E7, -410...|[1.1547156E7, -36...| 47.35235|10.11429| 12842.0|pa_test|gs://dsgt-clef-ge...|\n",
      "|[3258948.0, -1245...|[3387900.0, -1232...|[2932156.0, -1045...|[5420060.0, -2061...| 42.28494|11.64628| 13429.0|pa_test|gs://dsgt-clef-ge...|\n",
      "|[4465372.0, 22206...|[5294104.0, 99068...|[4089928.0, 12963...|[1.1077888E7, -14...| 44.98392| 5.63542| 15914.0|pa_test|gs://dsgt-clef-ge...|\n",
      "|[5160024.0, 15896...|[5674860.0, -1259...|[4860208.0, 81740...|[1.0577636E7, -41...|51.317437|5.530068| 16550.0|pa_test|gs://dsgt-clef-ge...|\n",
      "|[6140548.0, -1281...|[6351392.0, -8193...|[5365612.0, -1004...|[1.0473464E7, 545...| 43.10858|6.153073| 18511.0|pa_test|gs://dsgt-clef-ge...|\n",
      "+--------------------+--------------------+--------------------+--------------------+---------+--------+--------+-------+--------------------+\n",
      "only showing top 20 rows\n",
      "\n",
      "+---------+\n",
      "|size(red)|\n",
      "+---------+\n",
      "|       64|\n",
      "+---------+\n",
      "\n"
     ]
    },
    {
     "data": {
      "text/plain": [
       "4000"
      ]
     },
     "execution_count": 38,
     "metadata": {},
     "output_type": "execute_result"
    }
   ],
   "source": [
    "df = spark.read.parquet(create_dataset_path(satellite_blobs[0]))\n",
    "\n",
    "# get the dataset from the filepath\n",
    "df = df.select(\n",
    "    \"*\",\n",
    "    F.replace(\n",
    "        F.regexp_extract(F.input_file_name(), r\"tiles.*?/(.*?)/.*\", 1),\n",
    "        F.lit(\"-\"),\n",
    "        F.lit(\"_\"),\n",
    "    ).alias(\"dataset\"),\n",
    "    F.input_file_name().alias(\"file_path\"),\n",
    ")\n",
    "\n",
    "df.printSchema()\n",
    "df.show()\n",
    "df.select(F.size(\"red\")).limit(1).show()\n",
    "df.count()"
   ]
  }
 ],
 "metadata": {
  "kernelspec": {
   "display_name": "Python 3",
   "language": "python",
   "name": "python3"
  },
  "language_info": {
   "codemirror_mode": {
    "name": "ipython",
    "version": 3
   },
   "file_extension": ".py",
   "mimetype": "text/x-python",
   "name": "python",
   "nbconvert_exporter": "python",
   "pygments_lexer": "ipython3",
   "version": "3.10.12"
  }
 },
 "nbformat": 4,
 "nbformat_minor": 2
}
