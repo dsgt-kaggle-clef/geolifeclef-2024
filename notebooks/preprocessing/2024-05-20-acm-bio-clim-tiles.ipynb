{
 "cells": [
  {
   "cell_type": "code",
   "execution_count": 2,
   "metadata": {},
   "outputs": [
    {
     "name": "stderr",
     "output_type": "stream",
     "text": [
      "24/05/24 06:17:10 WARN Utils: Your hostname, daphne-major resolves to a loopback address: 127.0.1.1; using 172.28.199.217 instead (on interface eth0)\n",
      "24/05/24 06:17:10 WARN Utils: Set SPARK_LOCAL_IP if you need to bind to another address\n",
      "Setting default log level to \"WARN\".\n",
      "To adjust logging level use sc.setLogLevel(newLevel). For SparkR, use setLogLevel(newLevel).\n",
      "24/05/24 06:17:11 WARN NativeCodeLoader: Unable to load native-hadoop library for your platform... using builtin-java classes where applicable\n",
      "24/05/24 06:17:11 WARN SparkConf: Note that spark.local.dir will be overridden by the value set by the cluster manager (via SPARK_LOCAL_DIRS in mesos/standalone/kubernetes and LOCAL_DIRS in YARN).\n",
      "24/05/24 06:17:12 WARN Utils: Service 'SparkUI' could not bind on port 4040. Attempting port 4041.\n"
     ]
    },
    {
     "name": "stdout",
     "output_type": "stream",
     "text": [
      "root\n",
      " |-- bio1: array (nullable = true)\n",
      " |    |-- element: double (containsNull = true)\n",
      " |-- lat: double (nullable = true)\n",
      " |-- lon: double (nullable = true)\n",
      " |-- surveyId: double (nullable = true)\n",
      " |-- target: long (nullable = true)\n",
      "\n",
      "Number of rows: 1483637\n",
      "-RECORD 0------------------------------------------------------------------------------------\n",
      " bio1     | [-7840.45751953125, 1401.9239501953125, -354.29833984375, -18.208463668823242... \n",
      " lat      | 50.88698                                                                         \n",
      " lon      | 5.824586                                                                         \n",
      " surveyId | 3895400.0                                                                        \n",
      " target   | 140                                                                              \n",
      "only showing top 1 row\n",
      "\n"
     ]
    }
   ],
   "source": [
    "from geolifeclef.utils import get_spark\n",
    "\n",
    "spark = get_spark()\n",
    "df = spark.read.parquet(\n",
    "    \"../../data/geolifeclef-2024/data/processed/tiles/pa-train/BioClimatic_Average_1981-2010/bio1/v3\"\n",
    ")\n",
    "df.printSchema()\n",
    "print(f\"Number of rows: {df.count()}\")\n",
    "df.show(n=1, vertical=True, truncate=80)"
   ]
  },
  {
   "cell_type": "code",
   "execution_count": 3,
   "metadata": {},
   "outputs": [
    {
     "name": "stdout",
     "output_type": "stream",
     "text": [
      "root\n",
      " |-- bio19: array (nullable = true)\n",
      " |    |-- element: double (containsNull = true)\n",
      " |-- lat: double (nullable = true)\n",
      " |-- lon: double (nullable = true)\n",
      " |-- surveyId: double (nullable = true)\n",
      " |-- target: long (nullable = true)\n",
      "\n"
     ]
    }
   ],
   "source": [
    "df = spark.read.parquet(\n",
    "    \"../../data/geolifeclef-2024/data/processed/tiles/pa-train/BioClimatic_Average_1981-2010/bio19/v3\"\n",
    ")\n",
    "df.printSchema()"
   ]
  },
  {
   "cell_type": "code",
   "execution_count": 4,
   "metadata": {},
   "outputs": [
    {
     "name": "stdout",
     "output_type": "stream",
     "text": [
      "root\n",
      " |-- surveyId: integer (nullable = true)\n",
      " |-- dataset: string (nullable = true)\n",
      " |-- lat_proj: double (nullable = true)\n",
      " |-- lon_proj: double (nullable = true)\n",
      " |-- lat: double (nullable = true)\n",
      " |-- lon: double (nullable = true)\n",
      " |-- year: integer (nullable = true)\n",
      " |-- geoUncertaintyInM: double (nullable = true)\n",
      " |-- speciesId: double (nullable = true)\n",
      " |-- TimeSeries: array (nullable = true)\n",
      " |    |-- element: double (containsNull = true)\n",
      " |-- ts_blue: array (nullable = true)\n",
      " |    |-- element: float (containsNull = true)\n",
      " |-- ts_green: array (nullable = true)\n",
      " |    |-- element: float (containsNull = true)\n",
      " |-- ts_nir: array (nullable = true)\n",
      " |    |-- element: float (containsNull = true)\n",
      " |-- ts_red: array (nullable = true)\n",
      " |    |-- element: float (containsNull = true)\n",
      " |-- ts_swir1: array (nullable = true)\n",
      " |    |-- element: float (containsNull = true)\n",
      " |-- ts_swir2: array (nullable = true)\n",
      " |    |-- element: float (containsNull = true)\n",
      "\n"
     ]
    }
   ],
   "source": [
    "df = spark.read.parquet(\n",
    "    \"../../data/geolifeclef-2024/data/processed/dct_timeseries/combined_timeseries_v3\"\n",
    ")\n",
    "df.printSchema()"
   ]
  },
  {
   "cell_type": "code",
   "execution_count": 5,
   "metadata": {},
   "outputs": [
    {
     "name": "stderr",
     "output_type": "stream",
     "text": [
      "[Stage 7:=========>                                               (5 + 24) / 29]\r"
     ]
    },
    {
     "name": "stdout",
     "output_type": "stream",
     "text": [
      "+--------+------------------------+\n",
      "| dataset|count(DISTINCT surveyId)|\n",
      "+--------+------------------------+\n",
      "|pa_train|                   88987|\n",
      "| pa_test|                    4716|\n",
      "+--------+------------------------+\n",
      "\n"
     ]
    },
    {
     "name": "stderr",
     "output_type": "stream",
     "text": [
      "                                                                                \r"
     ]
    }
   ],
   "source": [
    "from pyspark.sql import functions as F\n",
    "\n",
    "df.groupBy(\"dataset\").agg(F.countDistinct(\"surveyId\")).show()"
   ]
  },
  {
   "cell_type": "code",
   "execution_count": 8,
   "metadata": {},
   "outputs": [
    {
     "data": {
      "text/plain": [
       "64"
      ]
     },
     "execution_count": 8,
     "metadata": {},
     "output_type": "execute_result"
    }
   ],
   "source": [
    "len(df.first().ts_red)"
   ]
  },
  {
   "cell_type": "code",
   "execution_count": 14,
   "metadata": {},
   "outputs": [
    {
     "name": "stderr",
     "output_type": "stream",
     "text": [
      "24/05/24 06:24:59 WARN SparkStringUtils: Truncated the string representation of a plan since it was too large. This behavior can be adjusted by setting 'spark.sql.debug.maxToStringFields'.\n",
      "[Stage 17:=>                                                      (1 + 28) / 29]\r"
     ]
    },
    {
     "name": "stdout",
     "output_type": "stream",
     "text": [
      "+-------+-------------------+--------------------+------------------+------------------+--------------------+--------------------+\n",
      "|summary|array_size(ts_blue)|array_size(ts_green)|array_size(ts_nir)|array_size(ts_red)|array_size(ts_swir1)|array_size(ts_swir2)|\n",
      "+-------+-------------------+--------------------+------------------+------------------+--------------------+--------------------+\n",
      "|  count|             323824|              323824|            323824|            323824|              323824|              323824|\n",
      "|   mean|               64.0|                64.0|              64.0|              64.0|                64.0|                64.0|\n",
      "| stddev|                0.0|                 0.0|               0.0|               0.0|                 0.0|                 0.0|\n",
      "|    min|                 64|                  64|                64|                64|                  64|                  64|\n",
      "|    max|                 64|                  64|                64|                64|                  64|                  64|\n",
      "+-------+-------------------+--------------------+------------------+------------------+--------------------+--------------------+\n",
      "\n"
     ]
    },
    {
     "name": "stderr",
     "output_type": "stream",
     "text": [
      "                                                                                \r"
     ]
    }
   ],
   "source": [
    "df.select(\n",
    "    *[F.array_size(x) for x in df.columns if x.startswith(\"ts_\")]\n",
    ").describe().show()"
   ]
  },
  {
   "cell_type": "code",
   "execution_count": 22,
   "metadata": {},
   "outputs": [
    {
     "name": "stderr",
     "output_type": "stream",
     "text": [
      "[Stage 35:======================>                                (12 + 17) / 29]\r"
     ]
    },
    {
     "name": "stdout",
     "output_type": "stream",
     "text": [
      "+--------+-------+------------------------+\n",
      "| dataset|is_null|count(DISTINCT surveyId)|\n",
      "+--------+-------+------------------------+\n",
      "| pa_test|  false|                     498|\n",
      "|pa_train|  false|                   19998|\n",
      "| pa_test|   true|                    4218|\n",
      "|pa_train|   true|                   68989|\n",
      "+--------+-------+------------------------+\n",
      "\n"
     ]
    },
    {
     "name": "stderr",
     "output_type": "stream",
     "text": [
      "                                                                                \r"
     ]
    }
   ],
   "source": [
    "(\n",
    "    df.withColumn(\"is_null\", F.array_size(\"ts_red\").isNull())\n",
    "    .groupBy(\"dataset\", \"is_null\")\n",
    "    .agg(F.countDistinct(\"surveyId\"))\n",
    ").show()"
   ]
  }
 ],
 "metadata": {
  "kernelspec": {
   "display_name": "Python 3",
   "language": "python",
   "name": "python3"
  },
  "language_info": {
   "codemirror_mode": {
    "name": "ipython",
    "version": 3
   },
   "file_extension": ".py",
   "mimetype": "text/x-python",
   "name": "python",
   "nbconvert_exporter": "python",
   "pygments_lexer": "ipython3",
   "version": "3.11.6"
  }
 },
 "nbformat": 4,
 "nbformat_minor": 2
}
