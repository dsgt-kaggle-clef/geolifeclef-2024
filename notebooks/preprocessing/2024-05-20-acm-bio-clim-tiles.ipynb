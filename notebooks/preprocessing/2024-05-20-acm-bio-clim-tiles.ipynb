{
 "cells": [
  {
   "cell_type": "code",
   "execution_count": 1,
   "metadata": {},
   "outputs": [
    {
     "name": "stderr",
     "output_type": "stream",
     "text": [
      "24/05/23 10:38:22 WARN Utils: Your hostname, daphne-major resolves to a loopback address: 127.0.1.1; using 172.28.199.217 instead (on interface eth0)\n",
      "24/05/23 10:38:22 WARN Utils: Set SPARK_LOCAL_IP if you need to bind to another address\n",
      "Setting default log level to \"WARN\".\n",
      "To adjust logging level use sc.setLogLevel(newLevel). For SparkR, use setLogLevel(newLevel).\n",
      "24/05/23 10:38:23 WARN NativeCodeLoader: Unable to load native-hadoop library for your platform... using builtin-java classes where applicable\n",
      "24/05/23 10:38:23 WARN SparkConf: Note that spark.local.dir will be overridden by the value set by the cluster manager (via SPARK_LOCAL_DIRS in mesos/standalone/kubernetes and LOCAL_DIRS in YARN).\n"
     ]
    },
    {
     "name": "stdout",
     "output_type": "stream",
     "text": [
      "root\n",
      " |-- bio1: array (nullable = true)\n",
      " |    |-- element: double (containsNull = true)\n",
      " |-- lat: double (nullable = true)\n",
      " |-- lon: double (nullable = true)\n",
      " |-- surveyId: double (nullable = true)\n",
      " |-- target: long (nullable = true)\n",
      "\n",
      "Number of rows: 1483637\n",
      "-RECORD 0------------------------------------------------------------------------------------\n",
      " bio1     | [-7840.45751953125, 1401.9239501953125, -354.29833984375, -18.208463668823242... \n",
      " lat      | 50.88698                                                                         \n",
      " lon      | 5.824586                                                                         \n",
      " surveyId | 3895400.0                                                                        \n",
      " target   | 140                                                                              \n",
      "only showing top 1 row\n",
      "\n"
     ]
    }
   ],
   "source": [
    "from geolifeclef.utils import get_spark\n",
    "\n",
    "spark = get_spark()\n",
    "df = spark.read.parquet(\n",
    "    \"../../data/geolifeclef-2024/data/processed/tiles/pa-train/BioClimatic_Average_1981-2010/bio1/v3\"\n",
    ")\n",
    "df.printSchema()\n",
    "print(f\"Number of rows: {df.count()}\")\n",
    "df.show(n=1, vertical=True, truncate=80)"
   ]
  },
  {
   "cell_type": "code",
   "execution_count": 2,
   "metadata": {},
   "outputs": [
    {
     "name": "stdout",
     "output_type": "stream",
     "text": [
      "root\n",
      " |-- bio19: array (nullable = true)\n",
      " |    |-- element: double (containsNull = true)\n",
      " |-- lat: double (nullable = true)\n",
      " |-- lon: double (nullable = true)\n",
      " |-- surveyId: double (nullable = true)\n",
      " |-- target: long (nullable = true)\n",
      "\n"
     ]
    }
   ],
   "source": [
    "df = spark.read.parquet(\n",
    "    \"../../data/geolifeclef-2024/data/processed/tiles/pa-train/BioClimatic_Average_1981-2010/bio19/v3\"\n",
    ")\n",
    "df.printSchema()"
   ]
  },
  {
   "cell_type": "code",
   "execution_count": 3,
   "metadata": {},
   "outputs": [
    {
     "name": "stdout",
     "output_type": "stream",
     "text": [
      "root\n",
      " |-- surveyId: integer (nullable = true)\n",
      " |-- dataset: string (nullable = true)\n",
      " |-- lat_proj: double (nullable = true)\n",
      " |-- lon_proj: double (nullable = true)\n",
      " |-- lat: double (nullable = true)\n",
      " |-- lon: double (nullable = true)\n",
      " |-- year: integer (nullable = true)\n",
      " |-- geoUncertaintyInM: double (nullable = true)\n",
      " |-- speciesId: double (nullable = true)\n",
      " |-- TimeSeries: array (nullable = true)\n",
      " |    |-- element: double (containsNull = true)\n",
      " |-- blue: array (nullable = true)\n",
      " |    |-- element: float (containsNull = true)\n",
      " |-- green: array (nullable = true)\n",
      " |    |-- element: float (containsNull = true)\n",
      " |-- nir: array (nullable = true)\n",
      " |    |-- element: float (containsNull = true)\n",
      " |-- red: array (nullable = true)\n",
      " |    |-- element: float (containsNull = true)\n",
      " |-- swir1: array (nullable = true)\n",
      " |    |-- element: float (containsNull = true)\n",
      " |-- swir2: array (nullable = true)\n",
      " |    |-- element: float (containsNull = true)\n",
      "\n"
     ]
    }
   ],
   "source": [
    "df = spark.read.parquet(\n",
    "    \"../../data/geolifeclef-2024/data/processed/dct_timeseries/combined_timeseries_v2\"\n",
    ")\n",
    "df.printSchema()"
   ]
  },
  {
   "cell_type": "code",
   "execution_count": 8,
   "metadata": {},
   "outputs": [
    {
     "name": "stderr",
     "output_type": "stream",
     "text": [
      "[Stage 14:==================>                                    (10 + 19) / 29]\r"
     ]
    },
    {
     "name": "stdout",
     "output_type": "stream",
     "text": [
      "+--------+------------------------+\n",
      "| dataset|count(DISTINCT surveyId)|\n",
      "+--------+------------------------+\n",
      "|pa_train|                   19998|\n",
      "| pa_test|                     498|\n",
      "+--------+------------------------+\n",
      "\n"
     ]
    },
    {
     "name": "stderr",
     "output_type": "stream",
     "text": [
      "                                                                                \r"
     ]
    }
   ],
   "source": [
    "from pyspark.sql import functions as F\n",
    "\n",
    "df.groupBy(\"dataset\").agg(F.countDistinct(\"surveyId\")).show()"
   ]
  }
 ],
 "metadata": {
  "kernelspec": {
   "display_name": "Python 3",
   "language": "python",
   "name": "python3"
  },
  "language_info": {
   "codemirror_mode": {
    "name": "ipython",
    "version": 3
   },
   "file_extension": ".py",
   "mimetype": "text/x-python",
   "name": "python",
   "nbconvert_exporter": "python",
   "pygments_lexer": "ipython3",
   "version": "3.11.6"
  }
 },
 "nbformat": 4,
 "nbformat_minor": 2
}
