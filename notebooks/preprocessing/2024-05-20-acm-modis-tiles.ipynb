{
 "cells": [
  {
   "cell_type": "code",
   "execution_count": 3,
   "metadata": {},
   "outputs": [
    {
     "name": "stderr",
     "output_type": "stream",
     "text": [
      "24/05/20 15:32:13 WARN SparkSession: Using an existing Spark session; only runtime SQL configurations will take effect.\n"
     ]
    },
    {
     "name": "stdout",
     "output_type": "stream",
     "text": [
      "root\n",
      " |-- LandCover_MODIS_Terra-Aqua_500m_1: array (nullable = true)\n",
      " |    |-- element: double (containsNull = true)\n",
      " |-- LandCover_MODIS_Terra-Aqua_500m_2: array (nullable = true)\n",
      " |    |-- element: double (containsNull = true)\n",
      " |-- LandCover_MODIS_Terra-Aqua_500m_3: array (nullable = true)\n",
      " |    |-- element: double (containsNull = true)\n",
      " |-- LandCover_MODIS_Terra-Aqua_500m_4: array (nullable = true)\n",
      " |    |-- element: double (containsNull = true)\n",
      " |-- LandCover_MODIS_Terra-Aqua_500m_5: array (nullable = true)\n",
      " |    |-- element: double (containsNull = true)\n",
      " |-- LandCover_MODIS_Terra-Aqua_500m_6: array (nullable = true)\n",
      " |    |-- element: double (containsNull = true)\n",
      " |-- LandCover_MODIS_Terra-Aqua_500m_7: array (nullable = true)\n",
      " |    |-- element: double (containsNull = true)\n",
      " |-- LandCover_MODIS_Terra-Aqua_500m_8: array (nullable = true)\n",
      " |    |-- element: double (containsNull = true)\n",
      " |-- LandCover_MODIS_Terra-Aqua_500m_9: array (nullable = true)\n",
      " |    |-- element: double (containsNull = true)\n",
      " |-- LandCover_MODIS_Terra-Aqua_500m_10: array (nullable = true)\n",
      " |    |-- element: double (containsNull = true)\n",
      " |-- LandCover_MODIS_Terra-Aqua_500m_11: array (nullable = true)\n",
      " |    |-- element: double (containsNull = true)\n",
      " |-- LandCover_MODIS_Terra-Aqua_500m_12: array (nullable = true)\n",
      " |    |-- element: double (containsNull = true)\n",
      " |-- LandCover_MODIS_Terra-Aqua_500m_13: array (nullable = true)\n",
      " |    |-- element: double (containsNull = true)\n",
      " |-- lat: double (nullable = true)\n",
      " |-- lon: double (nullable = true)\n",
      " |-- surveyId: double (nullable = true)\n",
      " |-- target: long (nullable = true)\n",
      "\n"
     ]
    },
    {
     "name": "stderr",
     "output_type": "stream",
     "text": [
      "                                                                                \r"
     ]
    },
    {
     "name": "stdout",
     "output_type": "stream",
     "text": [
      "Number of rows: 1483637\n",
      "-RECORD 0--------------------------------------------------------------------------------------------------------------\n",
      " LandCover_MODIS_Terra-Aqua_500m_1  | [48068.046875, -4728.92529296875, 3125.4287109375, 2235.97802734375, -741.649... \n",
      " LandCover_MODIS_Terra-Aqua_500m_2  | [19887.48046875, 17305.1015625, -12472.3896484375, -6877.76953125, -448.40130... \n",
      " LandCover_MODIS_Terra-Aqua_500m_3  | [-16837.830078125, 3632.511474609375, -2152.470703125, -2960.84423828125, 626... \n",
      " LandCover_MODIS_Terra-Aqua_500m_4  | [26327.71484375, 18488.37890625, -12963.396484375, -6944.01171875, -504.55343... \n",
      " LandCover_MODIS_Terra-Aqua_500m_5  | [24308.369140625, 17436.39453125, -12421.1357421875, -6623.58984375, -768.642... \n",
      " LandCover_MODIS_Terra-Aqua_500m_6  | [83366.703125, -915.78662109375, 528.5447998046875, 432.0440673828125, -85.30... \n",
      " LandCover_MODIS_Terra-Aqua_500m_7  | [83684.75, -1089.3558349609375, 648.9488525390625, 475.7349853515625, -45.536... \n",
      " LandCover_MODIS_Terra-Aqua_500m_8  | [83236.109375, -952.2769165039062, 569.314453125, 403.64776611328125, -77.697... \n",
      " LandCover_MODIS_Terra-Aqua_500m_9  | [23862.44140625, 16169.0078125, -11552.1630859375, -6151.921875, -191.8174743... \n",
      " LandCover_MODIS_Terra-Aqua_500m_10 | [30578.443359375, 17914.59765625, -13064.640625, -6579.29150390625, -400.2886... \n",
      " LandCover_MODIS_Terra-Aqua_500m_11 | [26824.48046875, 16112.904296875, -11509.376953125, -6008.1298828125, -427.13... \n",
      " LandCover_MODIS_Terra-Aqua_500m_12 | [5842.28515625, -8316.38671875, 6168.1572265625, 3414.44140625, -521.59753417... \n",
      " LandCover_MODIS_Terra-Aqua_500m_13 | [28622.77734375, 8560.3203125, -6015.8134765625, -3600.724609375, 248.1771850... \n",
      " lat                                | 54.87491                                                                         \n",
      " lon                                | 12.06509                                                                         \n",
      " surveyId                           | 2489911.0                                                                        \n",
      " target                             | 581                                                                              \n",
      "only showing top 1 row\n",
      "\n"
     ]
    }
   ],
   "source": [
    "from geolifeclef.utils import get_spark\n",
    "\n",
    "spark = get_spark()\n",
    "df = spark.read.parquet(\n",
    "    \"../../data/geolifeclef-2024/data/processed/tiles/pa-train/LandCover/LandCover_MODIS_Terra-Aqua_500m/v3\"\n",
    ")\n",
    "df.printSchema()\n",
    "print(f\"Number of rows: {df.count()}\")\n",
    "df.show(n=1, vertical=True, truncate=80)"
   ]
  }
 ],
 "metadata": {
  "kernelspec": {
   "display_name": "Python 3",
   "language": "python",
   "name": "python3"
  },
  "language_info": {
   "codemirror_mode": {
    "name": "ipython",
    "version": 3
   },
   "file_extension": ".py",
   "mimetype": "text/x-python",
   "name": "python",
   "nbconvert_exporter": "python",
   "pygments_lexer": "ipython3",
   "version": "3.11.6"
  }
 },
 "nbformat": 4,
 "nbformat_minor": 2
}
